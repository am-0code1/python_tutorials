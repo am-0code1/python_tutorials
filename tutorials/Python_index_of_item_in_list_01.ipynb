{
 "cells": [
  {
   "attachments": {},
   "cell_type": "markdown",
   "metadata": {},
   "source": [
    "# Python | index of item in list\n",
    "\n",
    "In this tutorial, we discuss the **Python List** _index()_ method and provide some python code example.\n",
    "\n",
    "When you code in Python, index of item in list can become important to you. So, you may want to find the index of element in list. The **Python List** _index()_ method can be used to get index of item in list."
   ]
  },
  {
   "cell_type": "markdown",
   "metadata": {},
   "source": [
    "# Python | List index() method\n",
    "\n",
    "**Python List** _index()_ method returns index of the first item in the list whose value is equal to the given parameter. Note that it raises a _ValueError_ if there is no such item in the list.\n",
    "\n",
    "Let's look at a simple python code example:"
   ]
  },
  {
   "cell_type": "markdown",
   "metadata": {},
   "source": [
    "# How to find index of element in list? | Python list index() | Example #1\n",
    "\n",
    "Let's say you have a list with the items \"car\", \"airplane\", and \"train\":"
   ]
  },
  {
   "cell_type": "code",
   "execution_count": 1,
   "metadata": {},
   "outputs": [],
   "source": [
    "mylist = [\"car\", \"airplane\", \"train\"]"
   ]
  },
  {
   "cell_type": "markdown",
   "metadata": {},
   "source": [
    "In order to find index of an element, say \"airplane\", you can use the **Python List** _index()_ method as follows:"
   ]
  },
  {
   "cell_type": "code",
   "execution_count": 2,
   "metadata": {},
   "outputs": [
    {
     "data": {
      "text/plain": [
       "1"
      ]
     },
     "execution_count": 2,
     "metadata": {},
     "output_type": "execute_result"
    }
   ],
   "source": [
    "mylist.index(\"airplane\")"
   ]
  },
  {
   "cell_type": "markdown",
   "metadata": {},
   "source": [
    "Note that index=1 corresponds to the second place, since in Python, index starts from 0."
   ]
  },
  {
   "cell_type": "markdown",
   "metadata": {},
   "source": [
    "# Python | list index out of range (Optional)\n",
    "\n",
    "Now, you may wonder what if we want to limit our search to a specific subset of list with a given index range. In such situations, how can we get index of item in list? **Python list** _index()_ method comes with two helpful optional arguments: _start_ and _end_. These arguments are considered as the start (inclusive) and end (exclusive) of the index range, and used to limit the search to the corresponding subsequence of the list. However, note that the returned index is computed relative to the beginning of the full list regardless of the _start_ argument.\n",
    "\n",
    "Let's look at the following example."
   ]
  },
  {
   "cell_type": "markdown",
   "metadata": {},
   "source": [
    "# How to get index of item in list? | Python list index() | Example #2\n",
    "\n",
    "Here, we have a list of delicious fruits!"
   ]
  },
  {
   "cell_type": "code",
   "execution_count": 3,
   "metadata": {},
   "outputs": [],
   "source": [
    "mylist = ['apple', 'banana', 'watermelon', 'cherry', 'Apricots', 'Figs', 'Orange']"
   ]
  },
  {
   "cell_type": "markdown",
   "metadata": {},
   "source": [
    "What if we wanted to search for 'Apricots' over the index range of 2 to 5? Here is how to use **Python list** _index_ method with optional parameters _start_ and _end_:"
   ]
  },
  {
   "cell_type": "code",
   "execution_count": 4,
   "metadata": {},
   "outputs": [
    {
     "data": {
      "text/plain": [
       "4"
      ]
     },
     "execution_count": 4,
     "metadata": {},
     "output_type": "execute_result"
    }
   ],
   "source": [
    "mylist.index('Apricots', 2, 5)"
   ]
  },
  {
   "cell_type": "markdown",
   "metadata": {},
   "source": [
    "which says \"Figs\" has an index of 4 (fifth place) in the full list.\n",
    "\n",
    "This time, let's try \"Figs\":"
   ]
  },
  {
   "cell_type": "code",
   "execution_count": 5,
   "metadata": {},
   "outputs": [
    {
     "ename": "ValueError",
     "evalue": "'Figs' is not in list",
     "output_type": "error",
     "traceback": [
      "\u001b[1;31m---------------------------------------------------------------------------\u001b[0m",
      "\u001b[1;31mValueError\u001b[0m                                Traceback (most recent call last)",
      "\u001b[1;32m<ipython-input-5-16c6abc42d4c>\u001b[0m in \u001b[0;36m<module>\u001b[1;34m\u001b[0m\n\u001b[1;32m----> 1\u001b[1;33m \u001b[0mmylist\u001b[0m\u001b[1;33m.\u001b[0m\u001b[0mindex\u001b[0m\u001b[1;33m(\u001b[0m\u001b[1;34m'Figs'\u001b[0m\u001b[1;33m,\u001b[0m \u001b[1;36m2\u001b[0m\u001b[1;33m,\u001b[0m \u001b[1;36m5\u001b[0m\u001b[1;33m)\u001b[0m\u001b[1;33m\u001b[0m\u001b[1;33m\u001b[0m\u001b[0m\n\u001b[0m",
      "\u001b[1;31mValueError\u001b[0m: 'Figs' is not in list"
     ]
    }
   ],
   "source": [
    "mylist.index('Figs', 2, 5)"
   ]
  },
  {
   "cell_type": "markdown",
   "metadata": {},
   "source": [
    "You can see that it results in a _ValueError_, since the item \"Figs\" is not available in the subsequence of the list specified by the index range of 2 (inclusive) to 5 (exclusive). The specified index range refers to index=2, 3, and 4, whereas \"Figs\" has an index of 5 in the full list."
   ]
  },
  {
   "cell_type": "markdown",
   "metadata": {},
   "source": [
    "# Final remarks\n",
    "\n",
    "In this article, we covered the **Python list** _index()_ method. \n",
    "Hopefully, this tutorial was able to help you with the Python basics, \n",
    "and how to find index of element in list or a subsequence of list.\n",
    "Feel free to check out the rest of our articles from [https://soardeepsci.com/blog/](https://soardeepsci.com/blog/)."
   ]
  }
 ],
 "metadata": {
  "kernelspec": {
   "display_name": "Python 3",
   "language": "python",
   "name": "python3"
  },
  "language_info": {
   "codemirror_mode": {
    "name": "ipython",
    "version": 3
   },
   "file_extension": ".py",
   "mimetype": "text/x-python",
   "name": "python",
   "nbconvert_exporter": "python",
   "pygments_lexer": "ipython3",
   "version": "3.8.5"
  }
 },
 "nbformat": 4,
 "nbformat_minor": 4
}
