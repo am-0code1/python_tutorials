{
 "cells": [
  {
   "cell_type": "markdown",
   "metadata": {},
   "source": [
    "# Python | sort dictionary by value\n",
    "\n",
    "## Scope of this tutorial\n",
    "### Goal\n",
    "The goal of this tutorial is to show you different methods of sorting a _dictionary_ in Python.\n",
    "\n",
    "### Structure\n",
    "First, we briefly introduce the concepts of _dictionary_, and _sorted_ function.\n",
    "Then, we will introduce different methods of sorting a _dictionary_ in Python. \n",
    "In particular, we present two solutions: 1. **quick solution** using the _sorted_ function, and 2. **longer solution** using a _loop_ for comparison of dictionary values.\n",
    "We try to provide multiple Python code examples for each topic to help you better understand the concepts.\n"
   ]
  },
  {
   "cell_type": "markdown",
   "metadata": {},
   "source": [
    "# Python | dictionary\n",
    "\n",
    "In a nutshell, \n",
    "as a data type built into Python,\n",
    "a [dictionary](https://docs.python.org/3/tutorial/datastructures.html#dictionaries)\n",
    "is a set of pairs of **key: value**, wherein the keys are unique. \n",
    "For example, you may have a Python dictionary the _keys_ of which are the name of students in a class, and the _values_ are the students' score in an exam."
   ]
  },
  {
   "cell_type": "markdown",
   "metadata": {},
   "source": [
    "### Python | create a dictionary\n",
    "In order to create a Python dictionary, you can either create an empty dictionary and populate it with pairs of **key:value** later, or create a dictionary with some initial pairs of **key:value** and add to it later as needed.\n",
    "\n",
    "In order to create an empty dictionary, you can use pair of braces: **{}**. \n",
    "You can also use braces to enclose a comma-separated list of pairs of **key:value** to create a dcitionary with the specified list of **key:value** pairs.\n",
    "\n",
    "Here is an example showing how to create an empty dictionary:"
   ]
  },
  {
   "cell_type": "code",
   "execution_count": 1,
   "metadata": {},
   "outputs": [
    {
     "name": "stdout",
     "output_type": "stream",
     "text": [
      "my Python dictionary: {}\n"
     ]
    }
   ],
   "source": [
    "mydict = {}\n",
    "print(f'my Python dictionary: {mydict}')"
   ]
  },
  {
   "cell_type": "markdown",
   "metadata": {},
   "source": [
    "And, here is how to create a Python dictionary with multiple **key:value** pairs:"
   ]
  },
  {
   "cell_type": "code",
   "execution_count": 2,
   "metadata": {},
   "outputs": [
    {
     "name": "stdout",
     "output_type": "stream",
     "text": [
      "my Python dictionary: {'A': 4, 'B': 3.5, 'C': 3, 'D': 2.5, 'E': 2, 'F': 1.5}\n"
     ]
    }
   ],
   "source": [
    "mydict = {'A': 4, 'B':3.5, 'C':3, 'D':2.5, 'E':2, 'F':1.5}\n",
    "print(f'my Python dictionary: {mydict}')"
   ]
  },
  {
   "cell_type": "markdown",
   "metadata": {},
   "source": [
    "Alternatively, you could pass the list of **key:value** tuples to the Python _dict_ constructor:"
   ]
  },
  {
   "cell_type": "code",
   "execution_count": 3,
   "metadata": {},
   "outputs": [
    {
     "data": {
      "text/plain": [
       "{'apple': 1.99, 'banana': 0.49, 'watermelon': 0.39}"
      ]
     },
     "execution_count": 3,
     "metadata": {},
     "output_type": "execute_result"
    }
   ],
   "source": [
    "fruit_dict = dict([('apple', 1.99), ('banana', 0.49), ('watermelon', 0.39)])\n",
    "fruit_dict"
   ]
  },
  {
   "cell_type": "markdown",
   "metadata": {},
   "source": [
    "### Python | dictionary | add key:value pairs\n",
    "You can add pairs of **key:value** to Python dictionary as needed. For example:"
   ]
  },
  {
   "cell_type": "code",
   "execution_count": 4,
   "metadata": {},
   "outputs": [
    {
     "name": "stdout",
     "output_type": "stream",
     "text": [
      "my current Python dictionary: {'A': 4, 'B': 3.5, 'C': 3, 'D': 2.5, 'E': 2, 'F': 1.5}\n",
      "my Python dictionary after addition: {'A': 4, 'B': 3.5, 'C': 3, 'D': 2.5, 'E': 2, 'F': 1.5, 'G': 1, 'H': 0.5}\n"
     ]
    }
   ],
   "source": [
    "print(f'my current Python dictionary: {mydict}')\n",
    "\n",
    "mydict['G']=1\n",
    "mydict['H']=0.5\n",
    "print(f'my Python dictionary after addition: {mydict}')"
   ]
  },
  {
   "cell_type": "markdown",
   "metadata": {},
   "source": [
    "### Python | dictionary | remove key\n",
    "\n",
    "You can also remove a **key:value** pair from Python dictionary by using the Python _del_ statement:"
   ]
  },
  {
   "cell_type": "code",
   "execution_count": 5,
   "metadata": {},
   "outputs": [
    {
     "name": "stdout",
     "output_type": "stream",
     "text": [
      "my current Python dictionary:\n",
      "{'A': 4, 'B': 3.5, 'C': 3, 'D': 2.5, 'E': 2, 'F': 1.5, 'G': 1, 'H': 0.5}\n",
      "\n",
      "my Python dictionary after removing the \"B\" key and its value:\n",
      "{'A': 4, 'C': 3, 'D': 2.5, 'E': 2, 'F': 1.5, 'G': 1, 'H': 0.5}\n"
     ]
    }
   ],
   "source": [
    "print(f'my current Python dictionary:\\n{mydict}')\n",
    "\n",
    "del mydict['B']\n",
    "print(f'\\nmy Python dictionary after removing the \"B\" key and its value:\\n{mydict}')"
   ]
  },
  {
   "cell_type": "markdown",
   "metadata": {},
   "source": [
    "### Python | dictionary | keys \n",
    "\n",
    "In order to get Python _dictionary_ keys, you can use the Python dictionary _keys_ method:"
   ]
  },
  {
   "cell_type": "code",
   "execution_count": 6,
   "metadata": {},
   "outputs": [
    {
     "name": "stdout",
     "output_type": "stream",
     "text": [
      "my current Python dictionary:\n",
      "{'A': 4, 'C': 3, 'D': 2.5, 'E': 2, 'F': 1.5, 'G': 1, 'H': 0.5}\n"
     ]
    },
    {
     "data": {
      "text/plain": [
       "dict_keys(['A', 'C', 'D', 'E', 'F', 'G', 'H'])"
      ]
     },
     "execution_count": 6,
     "metadata": {},
     "output_type": "execute_result"
    }
   ],
   "source": [
    "print(f'my current Python dictionary:\\n{mydict}')\n",
    "\n",
    "mydict.keys()"
   ]
  },
  {
   "cell_type": "markdown",
   "metadata": {},
   "source": [
    "Alternatively, you could make a list of dictionary keys by passing the dictionary to the list constructor:"
   ]
  },
  {
   "cell_type": "code",
   "execution_count": 7,
   "metadata": {},
   "outputs": [
    {
     "name": "stdout",
     "output_type": "stream",
     "text": [
      "my current Python dictionary:\n",
      "{'A': 4, 'C': 3, 'D': 2.5, 'E': 2, 'F': 1.5, 'G': 1, 'H': 0.5}\n"
     ]
    },
    {
     "data": {
      "text/plain": [
       "['A', 'C', 'D', 'E', 'F', 'G', 'H']"
      ]
     },
     "execution_count": 7,
     "metadata": {},
     "output_type": "execute_result"
    }
   ],
   "source": [
    "print(f'my current Python dictionary:\\n{mydict}')\n",
    "\n",
    "mykeys = list(mydict)\n",
    "mykeys"
   ]
  },
  {
   "cell_type": "markdown",
   "metadata": {},
   "source": [
    "### Python | dictionary | values\n",
    "\n",
    "In order to get Python _dictionary_ values, you can use the Python dictionary _values_ method:"
   ]
  },
  {
   "cell_type": "code",
   "execution_count": 8,
   "metadata": {},
   "outputs": [
    {
     "name": "stdout",
     "output_type": "stream",
     "text": [
      "my current Python dictionary:\n",
      "{'A': 4, 'C': 3, 'D': 2.5, 'E': 2, 'F': 1.5, 'G': 1, 'H': 0.5}\n"
     ]
    },
    {
     "data": {
      "text/plain": [
       "dict_values([4, 3, 2.5, 2, 1.5, 1, 0.5])"
      ]
     },
     "execution_count": 8,
     "metadata": {},
     "output_type": "execute_result"
    }
   ],
   "source": [
    "print(f'my current Python dictionary:\\n{mydict}')\n",
    "\n",
    "mydict.values()"
   ]
  },
  {
   "cell_type": "markdown",
   "metadata": {},
   "source": [
    "### Python | dictionary | items\n",
    "\n",
    "In order to get Python _dictionary_ items, you can use the Python dictionary _items_ method:"
   ]
  },
  {
   "cell_type": "code",
   "execution_count": 9,
   "metadata": {},
   "outputs": [
    {
     "name": "stdout",
     "output_type": "stream",
     "text": [
      "my current Python dictionary:\n",
      "{'A': 4, 'C': 3, 'D': 2.5, 'E': 2, 'F': 1.5, 'G': 1, 'H': 0.5}\n"
     ]
    },
    {
     "data": {
      "text/plain": [
       "dict_items([('A', 4), ('C', 3), ('D', 2.5), ('E', 2), ('F', 1.5), ('G', 1), ('H', 0.5)])"
      ]
     },
     "execution_count": 9,
     "metadata": {},
     "output_type": "execute_result"
    }
   ],
   "source": [
    "print(f'my current Python dictionary:\\n{mydict}')\n",
    "\n",
    "mydict.items()"
   ]
  },
  {
   "cell_type": "markdown",
   "metadata": {},
   "source": [
    "# Python | sorted function\n",
    "\n",
    "The [Python _sorted_ function](https://docs.python.org/3/library/functions.html#sorted) returns a sorted list from the items in an iterable. For example, if you want a sorted list of your dictionary keys, you can pass the dictionary or its keys to the _sorted_ function:"
   ]
  },
  {
   "cell_type": "code",
   "execution_count": 10,
   "metadata": {},
   "outputs": [
    {
     "name": "stdout",
     "output_type": "stream",
     "text": [
      "my current Python dictionary:\n",
      "{'F': 1, 'D': 4, 'A': 1.5, 'H': 3, 'G': 2}\n",
      "\n",
      "sorted keys: ['A', 'D', 'F', 'G', 'H']\n",
      "sorted keys: ['A', 'D', 'F', 'G', 'H']\n"
     ]
    }
   ],
   "source": [
    "mydict={'F':1, 'D':4, 'A':1.5, 'H':3, 'G':2}\n",
    "print(f'my current Python dictionary:\\n{mydict}\\n')\n",
    "\n",
    "print(f'sorted keys: {sorted(mydict)}')\n",
    "print(f'sorted keys: {sorted(mydict.keys())}')"
   ]
  },
  {
   "cell_type": "markdown",
   "metadata": {},
   "source": [
    "If you want a sorted list of your dictionary values, you can pass the dictionary values to the Python _sorted_ function:"
   ]
  },
  {
   "cell_type": "code",
   "execution_count": 11,
   "metadata": {},
   "outputs": [
    {
     "name": "stdout",
     "output_type": "stream",
     "text": [
      "my current Python dictionary:\n",
      "{'F': 1, 'D': 4, 'A': 1.5, 'H': 3, 'G': 2}\n",
      "\n",
      "sorted values: [1, 1.5, 2, 3, 4]\n"
     ]
    }
   ],
   "source": [
    "mydict={'F':1, 'D':4, 'A':1.5, 'H':3, 'G':2}\n",
    "print(f'my current Python dictionary:\\n{mydict}\\n')\n",
    "\n",
    "print(f'sorted values: {sorted(mydict.values())}')"
   ]
  },
  {
   "cell_type": "markdown",
   "metadata": {},
   "source": [
    "The Python _sorted_ function accepts a parameter named _reverse_ with a Boolean value, which is used to flag descending sorts. For example, to sort the list of your dictionary values in a reverse order:"
   ]
  },
  {
   "cell_type": "code",
   "execution_count": 12,
   "metadata": {},
   "outputs": [
    {
     "name": "stdout",
     "output_type": "stream",
     "text": [
      "my current Python dictionary:\n",
      "{'F': 1, 'D': 4, 'A': 1.5, 'H': 3, 'G': 2}\n",
      "\n",
      "sorted values by default  (ascending): [1, 1.5, 2, 3, 4]\n",
      "sorted values in a descending fashion: [4, 3, 2, 1.5, 1]\n"
     ]
    }
   ],
   "source": [
    "mydict={'F':1, 'D':4, 'A':1.5, 'H':3, 'G':2}\n",
    "print(f'my current Python dictionary:\\n{mydict}\\n')\n",
    "\n",
    "print(f'sorted values by default  (ascending): {sorted(mydict.values())}')\n",
    "print(f'sorted values in a descending fashion: {sorted(mydict.values(), reverse=True)}')"
   ]
  },
  {
   "cell_type": "markdown",
   "metadata": {},
   "source": [
    "But, now the question becomes **how to sort dictionary by value**. Python does not provide a built-in method for the _dictionary_ data type to sort dictionary by value. Hence, we need to resort to other options as we discuss in the following."
   ]
  },
  {
   "cell_type": "markdown",
   "metadata": {},
   "source": [
    "# Python | sort dictionary by value | quick solution: key function\n",
    "\n",
    "The _sorted_ function has a parameter named _key_ which specifies a function (or other callable) to be called on each element of iterable prior to sorting and return a value to be considered for the comparison purpose. \n",
    "Here is the strategy:<br>\n",
    "\n",
    "<font color=\"green\">We pass the dictionary tuple items to the function \"sorted\". In the meantime, we use the parameter \"key\" to specify what value to be considered corresponding to each tuple item for the purpose of comparison. In our case, since we want to sort dictionary by value, we need to return the second component (index=1) of each (key, value) tuple prior to sorting.</font>  "
   ]
  },
  {
   "cell_type": "markdown",
   "metadata": {},
   "source": [
    "Let's look at the following example to see what the _sorted_ function returns when applying our strategy:"
   ]
  },
  {
   "cell_type": "code",
   "execution_count": 13,
   "metadata": {},
   "outputs": [
    {
     "name": "stdout",
     "output_type": "stream",
     "text": [
      "my current Python dictionary:\n",
      "{'F': 1, 'D': 4, 'A': 1.5, 'H': 3, 'G': 2}\n",
      "\n",
      "List of all items of dictionary:\n",
      "[('F', 1), ('D', 4), ('A', 1.5), ('H', 3), ('G', 2)]\n",
      "\n",
      "sorted items of dictionary:\n",
      "[('F', 1), ('A', 1.5), ('G', 2), ('H', 3), ('D', 4)]\n",
      "\n"
     ]
    }
   ],
   "source": [
    "print(f'my current Python dictionary:\\n{mydict}\\n')\n",
    "print(f'List of all items of dictionary:\\n{list(mydict.items())}\\n')\n",
    "\n",
    "sorted_items = sorted(mydict.items(), key=lambda x:x[1])\n",
    "\n",
    "print(f'sorted items of dictionary:\\n{sorted_items}\\n')"
   ]
  },
  {
   "cell_type": "markdown",
   "metadata": {},
   "source": [
    "We can see that the _sorted_ function returns the dictionary items that, now, are sorted by value. \n",
    "The only thing we need to do is to make a Python dictionary from the ordered items.\n",
    "It can be accomplished by passing the ordered items to the Python _dict_ constructor as shown in the following:"
   ]
  },
  {
   "cell_type": "code",
   "execution_count": 14,
   "metadata": {},
   "outputs": [
    {
     "name": "stdout",
     "output_type": "stream",
     "text": [
      "my original Python dictionary:\n",
      "{'F': 1, 'D': 4, 'A': 1.5, 'H': 3, 'G': 2}\n",
      "\n",
      "my ordered Python dictionary:\n",
      "{'F': 1, 'A': 1.5, 'G': 2, 'H': 3, 'D': 4}\n",
      "\n"
     ]
    }
   ],
   "source": [
    "mydict_sorted = dict(sorted_items)\n",
    "\n",
    "print(f'my original Python dictionary:\\n{mydict}\\n')\n",
    "print(f'my ordered Python dictionary:\\n{mydict_sorted}\\n')"
   ]
  },
  {
   "cell_type": "markdown",
   "metadata": {},
   "source": [
    "So, putting everything together, here is the implementation of the described strategy for sorting a dictionary in Python by value in an ascending or descending fashion:"
   ]
  },
  {
   "cell_type": "code",
   "execution_count": 15,
   "metadata": {},
   "outputs": [
    {
     "name": "stdout",
     "output_type": "stream",
     "text": [
      "my original Python dictionary:\n",
      "{'F': 1, 'D': 4, 'A': 1.5, 'H': 3, 'G': 2}\n",
      "\n",
      "my ordered Python dictionary (ascending):\n",
      "{'F': 1, 'A': 1.5, 'G': 2, 'H': 3, 'D': 4}\n",
      "\n",
      "my ordered Python dictionary (descending):\n",
      "{'D': 4, 'H': 3, 'G': 2, 'A': 1.5, 'F': 1}\n",
      "\n"
     ]
    }
   ],
   "source": [
    "mydict_sorted_asc = dict(sorted(mydict.items(), key=lambda x:x[1]))\n",
    "mydict_sorted_des = dict(sorted(mydict.items(), key=lambda x:x[1], reverse=True))\n",
    "\n",
    "print(f'my original Python dictionary:\\n{mydict}\\n')\n",
    "print(f'my ordered Python dictionary (ascending):\\n{mydict_sorted_asc}\\n')\n",
    "print(f'my ordered Python dictionary (descending):\\n{mydict_sorted_des}\\n')"
   ]
  },
  {
   "cell_type": "markdown",
   "metadata": {},
   "source": [
    "# Python | sort dictionary by value | longer solution: loop for comparison\n",
    "\n",
    "As another solution for sorting a dictionary in Python by value, we can use a loop to iterate over the dictionary items and compare the dictionary values for the purpose of sorting:"
   ]
  },
  {
   "cell_type": "code",
   "execution_count": 16,
   "metadata": {},
   "outputs": [
    {
     "name": "stdout",
     "output_type": "stream",
     "text": [
      "my original Python dictionary:\n",
      "{'F': 1, 'D': 4, 'A': 1.5, 'H': 3, 'G': 2}\n",
      "\n",
      "my ordered Python dictionary:\n",
      "{'F': 1, 'A': 1.5, 'G': 2, 'H': 3, 'D': 4}\n",
      "\n"
     ]
    }
   ],
   "source": [
    "list_items = list(mydict.items())\n",
    "len_dict = len(mydict)\n",
    "for i in range(len_dict-1):\n",
    "    for j in range(i+1, len_dict):\n",
    "        if list_items[i][1]>list_items[j][1]:\n",
    "            tmp=list_items[i]\n",
    "            list_items[i]=list_items[j]\n",
    "            list_items[j]=tmp\n",
    "    mydict_sorted=dict(list_items)\n",
    "    \n",
    "print(f'my original Python dictionary:\\n{mydict}\\n')\n",
    "print(f'my ordered Python dictionary:\\n{mydict_sorted}\\n')"
   ]
  },
  {
   "cell_type": "markdown",
   "metadata": {},
   "source": [
    "# Final remarks\n",
    "\n",
    "Hopefully, this tutorial was able to help you with some of the basics of Python: sort dictionary by value, _dictionary_ data structure, and _sorted_ function.\n",
    "\n",
    " Please, feel free to let us know if you have any comments or questions by commenting down below, or by [contacting us](https://soardeepsci.com/contact/). For further reading, please feel free to check out the rest of our articles from [https://soardeepsci.com/blog/](https://soardeepsci.com/blog/)."
   ]
  }
 ],
 "metadata": {
  "kernelspec": {
   "display_name": "Python 3",
   "language": "python",
   "name": "python3"
  },
  "language_info": {
   "codemirror_mode": {
    "name": "ipython",
    "version": 3
   },
   "file_extension": ".py",
   "mimetype": "text/x-python",
   "name": "python",
   "nbconvert_exporter": "python",
   "pygments_lexer": "ipython3",
   "version": "3.8.5"
  }
 },
 "nbformat": 4,
 "nbformat_minor": 4
}
