{
 "cells": [
  {
   "cell_type": "markdown",
   "metadata": {},
   "source": [
    "# Python class\n",
    "\n",
    "### Importance\n",
    "***Class*** is a crucially important part of the Python programming language.\n",
    "It provides a _design plan_ for creating _objects_ with desired data and functionality.\n",
    "It is, therefore, important to understand some of the most important fundamental concepts like:<br>\n",
    "\n",
    "\\- What is a class in Python?<br>\n",
    "\\- What is an object in Python?<br>\n",
    "\\- How to define a class in Python?<br>\n",
    "\\- How to create an object in Python?<br>\n",
    "\\- What are the differences between **class object** and **class instance object** (or simply **object**)?<br>\n",
    "\\- What are the differences between **function object** and **method object**?<br>\n",
    "\\- What does really happen when an object calls a method?!<br>\n",
    "\\- What is ***self*** in Python?<br>\n",
    "\\- What is \\_\\_init\\_\\_ in Python?<br>\n",
    "\n",
    "\n",
    "### Scope of tutorial and what you learn\n",
    "\n",
    "In this tutorial, we discuss the fundamentals of Python classes and objects.\n",
    "We start with some very simple daily-life analogies that everyone can comprehend easily, to help you understand the idea behind Python **class** and **object**.\n",
    "Once you successfully connect with the concepts of **class** and **object**, we move on to the technical details, such as how to define a class in Python, how to create an object in Python, etc.\n",
    "In particular, we will have a detailed discussion on the underlying mechanism of calling a method, which renders each object the functionality it possesses.\n",
    "As you flow through this tutorial, you will learn about numerous pertinent terms and concepts including \n",
    "**class object**, **class instance object**, **function object**, **method object**,\n",
    "Python **self**, class _init_ method, etc.\n",
    "\n",
    "With that being said, here is the outline of this tutorial:\n",
    "\n",
    "### Outline\n",
    "\n",
    "\\- [What is a class in Python?](#python-what-is-class)<br>\n",
    "&emsp;\\- [Python class analogy | creating trees!](#python-class-analogy-tree)<br>\n",
    "&emsp;\\- [Python class analogy | towards creating the world: atoms!](#python-class-analogy-atom)<br>\n",
    "&emsp;\\- [Python class analogy | towards creating the world: molecules!](#python-class-analogy-molecule)<br>\n",
    "\\- [Python class and object](#python-class-object)<br>\n",
    "&emsp;\\- [Python class definition](#python-class-definition)<br>\n",
    "&emsp;\\- [Python class object vs. class instance object](#python-class-object-vs-class-instance-object)<br>\n",
    "&emsp;\\- [Python class attributes](#python-class-attributes)<br>\n",
    "\\- [Python class object operations](#python-class-object-operations)<br>\n",
    "&emsp;\\- [Attribute reference in Python](#attribute-reference-python)<br>\n",
    "&emsp;\\- [Python class instantiation](#python-class-instantiation)<br>\n",
    "&emsp;\\- [Data attributes of class in Python](#data-attributes-class-python)<br>\n",
    "\\- [What is a method in Python?](#python-class-method)<br>\n",
    "&emsp;\\- [Python function object vs. method object](#python-function-object-method-object)<br>\n",
    "&emsp;\\- [How method call works in Python?](#python-method-call)<br>\n",
    "&emsp;\\- [Python self](#python-self)<br>\n",
    "\\- [Python init](#python-init)<br>\n",
    "&emsp;\\- [Python init with optional arguments](#python-init-optional-arg)<br>\n",
    "\\- [Recap](#recap)<br>\n",
    "\\- [Quiz](#quiz)<br>"
   ]
  },
  {
   "cell_type": "markdown",
   "metadata": {},
   "source": [
    "<a id='python-what-is-class'></a>\n",
    "## Python class\n",
    "<font color=\"darkred\">What is a class in Python?</font>\n",
    "\n",
    "**<font color=\"darkgreen\">In Python, \"class\" refers to a \"design plan\" that you use to create \"object(s)\".</font>**\n",
    "\n",
    "Let me explain the pertinent concepts with some examples."
   ]
  },
  {
   "cell_type": "markdown",
   "metadata": {},
   "source": [
    "<a id='python-class-analogy-tree'></a>\n",
    "### Python class analogy: creating trees!\n",
    "Let's assume you are a _creator_, and you want to _create_ a _creature_!\n",
    "It can be any creature: tree, mountain, car, computer, river, atom, etc.\n",
    "The first thing that you consider before starting to create your creatures, is to design a draft for creatures!\n",
    "\n",
    "In general, you need to think of two things: 1. properties required to describe your creature after creation, and 2. any functionality that the creature may possess when it is created. For example, if you are creating a tree, the properties could include:<br>\n",
    "\n",
    "\\- height,<br>\n",
    "\\- color of leaves,<br>\n",
    "\\- bearing fruit or not,<br>\n",
    "\\- size of fruit, and<br>\n",
    "\\- color of fruit.<br>\n",
    "\n",
    "**<font color=navy>Side-note:</font>** For now, I keep it simple, but later when you learn the concepts, you should come back and think about another creature called _fruit_, which can be included in your design for the creature _tree_!\n",
    "\n",
    "Let's move on to the actions or functionalities for _tree_. It can include:<br>\n",
    "\n",
    "\\- to grow,<br>\n",
    "\\- to grow leaves,<br>\n",
    "\\- to bear fruit if the requirements are met,<br>\n",
    "\\- to perform the process of photosynthesis, which itself includes smaller tasks such as<br>\n",
    "&emsp;\\- absorb the light energy,<br>\n",
    "&emsp;\\- absorb water,<br>\n",
    "&emsp;\\- absorb carbon dioxide,<br>\n",
    "&emsp;\\- perform the proprietary magic(!) to convert light energy into chemical energy,<br>\n",
    "&emsp;\\- release oxygen.<br>\n",
    "\n",
    "After you are done with the design process, it is time to create creatures!\n",
    "\n",
    "At this stage, you have a draft according to which you can create as many creatures as you want.\n",
    "When creating a tree, you can clearly specify the properties of this new creature, _e.g_ height, color of leaves, etc.\n",
    "Please, bear in mind that the properties need to be chosen from what you have considered in the design stage. \n",
    "If you need a new property, say the trunk's color, you need to modify your design accordingly.\n",
    "\n",
    "So, now you can create many trees with a wide variety of different properties, each of which can live its own life independently from others!\n",
    "You can have maple tree, pear tree, walnut tree, etc.\n",
    "So, different trees may look different from each other, they may function in completely different ways, but at the end of the day, they all have been created based on the same design plan!\n",
    "Finally, as you may have guessed, as the creator of your creatures, you can also delete them as needed!"
   ]
  },
  {
   "cell_type": "markdown",
   "metadata": {},
   "source": [
    "<a id='python-class-analogy-atom'></a>\n",
    "### Python class analogy | towards creating the world: atoms!\n",
    "\n",
    "As another analogy, let us assume you are a _creator_ and want to _create_ not only trees, but the whole world!\n",
    "Without loss of generality, and for the purpose of this tutorial, assume the smallest _creature_ is _\"atom\"_.\n",
    "_Molecule_ can be a larger creature made out of atoms.\n",
    "And, you can keep building on top of your small creatures to make the whole world!\n",
    "\n",
    "So, you need to design a draft to describe what properties and functionalities the _atom_ creatures may possess _once created_.\n",
    "Some of the basic properties may include:<br>\n",
    "\n",
    "\\- mass,<br>\n",
    "\\- radius,<br>\n",
    "\\- charge,<br>\n",
    "\\- position,<br>\n",
    "\\- velocity,<br>\n",
    "\\- acceleration, and so on.<br>\n",
    "\n",
    "You most likely want your _atom_ creatures to have some functionalities as well. \n",
    "For example:\n",
    "\n",
    "\\- applying force to neighboring atoms based on some specific relations, which itself can encompass various types of force, but we keep it simple here,<br>\n",
    "\\- moving from one position to another over time,<br>\n",
    "\\- updating the velocity and acceleration based on its interaction with the rest of the world, and so on.<br>\n",
    "\n",
    "\n",
    "Now, you have a draft to use for creating as many _atom_ creatures, with as much different properties as you want.\n",
    "When creating an atom, you can clearly specify its properties: mass, radius, charge, position, etc.\n",
    "You can, then, create creatures named _Hydrogen, Oxygen, Nitrogen,_ etc.\n",
    "So, you create many atoms with various properties, based on one single ***design plan***.\n",
    "\n",
    "Each of the _atom_ creatures lives its own life **but not independently from others!**\n",
    "Each atom can interact with the rest of the world! \n",
    "That is, atom creatures, in their lifetime, continuously interact with each other, which defines their properties at any given time.\n",
    "\n",
    "Speaking of time, you may say, hey, _we have not yet created the Time!!!_\n",
    "\n",
    "Well, that is true! The **Time** is another creature in the world, but it is so complex I cannot even imagine building it! Let the **Time** be already created by its own creator!"
   ]
  },
  {
   "cell_type": "markdown",
   "metadata": {},
   "source": [
    "<a id='python-class-analogy-molecule'></a>\n",
    "### Python class analogy | towards creating the world: molecules!\n",
    "\n",
    "To continue our path towards creating the world (!), now, let us assume you are a _creator_ and want to _create_ _molecules_!\n",
    "\n",
    "Again, you need a design plan for all properties and functionalities of such creatures you have in mind.\n",
    "Here are some of the properties you may want to consider:<br>\n",
    "\n",
    "\\- constituent atoms, and<br>\n",
    "\\- linkage between atoms.<br>\n",
    "\n",
    "Once created, the state of each _molecule_ can be mainly maintained by its constituent atoms.\n",
    "For example, by knowing each atom's position, radius, charge, etc., the resulted molecule's properties are known.\n",
    "Yet, you can add some properties representing each molecule as a whole. \n",
    "For example:\n",
    "\n",
    "\\- position of center of mass,<br>\n",
    "\\- velocity,<br>\n",
    "\\- acceleration,<br>\n",
    "\\- radius of gyration, etc.<br>\n",
    "\n",
    "You may also want to consider some functionalities such as:\n",
    "\n",
    "\\- calculating the spring forces between each pair of linked atoms,<br>\n",
    "\\- letting the atoms know about such extra forces to update their state accordingly,<br>\n",
    "\\- calculating properties such as position of center of mass, radius of gyration, etc.<br>\n",
    "\n",
    "Now that you have such a great design plan, you can create many different molecules, such as _water (H2O), oxygen (O2), hydrogen (H2), etc._ \n",
    "\n",
    "<font color=\"darkgreen\">Congratulations!!! In this hypothetical world, you have created the whole world! Now, you can pat yourself on the back!!!</font>"
   ]
  },
  {
   "cell_type": "markdown",
   "metadata": {},
   "source": [
    "<a id='python-class-object'></a>\n",
    "## Python class and object \n",
    "\n",
    "\n",
    "Now, we can use the previously presented [analogies of creating trees, atoms, and molecules](#python-class-analogies) to explain the concept of **class** in Python.\n",
    "\n",
    "Let's say you want to simulate the scenario described in the analogy of creating trees using the Python programming language.\n",
    "As mentioned earlier, you need a **design plan** to describe what **properties** and **functionalities** each tree **creature** may possess **once created**.\n",
    "\n",
    "In all the analogies discussed before:<br>\n",
    "\n",
    "The **<font color=blue>design plan</font>** is what we call **<font color=red>class</font>** in Python.<br> \n",
    "A **<font color=blue>creature</font>** is what we call a **<font color=red>class instance object</font>** or simply an **<font color=red>object</font>** in Python.<br>\n",
    "All the **<font color=blue>properties</font>** and **<font color=blue>functionalities</font>** form what we call **<font color=red>attributes of a class</font>** in Python.<br>\n",
    "Specifically, **<font color=blue>properties</font>** are what we call **<font color=red>data attributes</font>** of a class,<br>\n",
    "and **<font color=blue>functionalities</font>** are what we call **<font color=blue>methods</font>** of a class in Python.\n",
    "\n",
    "There seem to be many terms! But, don't worry; I'll explain them in the following."
   ]
  },
  {
   "cell_type": "markdown",
   "metadata": {},
   "source": [
    "<a id='python-class-definition'></a>\n",
    "### Python class definition\n",
    "\n",
    "Let's start with the following code snippet as our first Python class example.\n",
    "The code is used to define the class _tree_ with some _data attributes_ to render the tree objects their initial state once created:"
   ]
  },
  {
   "cell_type": "code",
   "execution_count": 1,
   "metadata": {},
   "outputs": [],
   "source": [
    "class tree:\n",
    "    \"\"\"My first class for tree!\"\"\"\n",
    "    height = 2\n",
    "    leaves_color = 'dark green'\n",
    "    bearing_fruit = False\n",
    "    fruit_size=None\n",
    "    fruit_color=None"
   ]
  },
  {
   "cell_type": "markdown",
   "metadata": {},
   "source": [
    "Here, we have included the data attributes of _height, leaves_color, bearing_fruit, fruit_size, and fruit_color._\n",
    "We have considered some initial values for these data attributes, but as you will see later, you can change these values as needed.\n",
    "Also, we have not yet included methods to enable the objects to have any functionalities. We will do that later."
   ]
  },
  {
   "cell_type": "markdown",
   "metadata": {},
   "source": [
    "<a id='python-class-object-vs-class-instance-object'></a>\n",
    "### Python class object vs. class instance object\n",
    "\n",
    "Once a class definition is executed and completed with no error, a **class object** is created. \n",
    "Please, note that this **class object** is different from **class instance object** (or simply **object**).\n",
    "The _class object_ is just a wrapper around the contents of the local namespace created by the class definition.\n",
    "This _class object_ is important, particularly because you can call it as many times as needed to create as many **class instance object(s)** (or simply **object(s)**) as needed. Don't worry if it is not quite clear yet! We will explain it further later."
   ]
  },
  {
   "cell_type": "markdown",
   "metadata": {},
   "source": [
    "<a id='python-class-attributes'></a>\n",
    "### Python class attributes\n",
    "\n",
    "Now that you have an object (**class object** _tree_), you can use the Python built-in _dir_ function to list all of its valid attributes:"
   ]
  },
  {
   "cell_type": "code",
   "execution_count": 2,
   "metadata": {},
   "outputs": [
    {
     "data": {
      "text/plain": [
       "['__class__',\n",
       " '__delattr__',\n",
       " '__dict__',\n",
       " '__dir__',\n",
       " '__doc__',\n",
       " '__eq__',\n",
       " '__format__',\n",
       " '__ge__',\n",
       " '__getattribute__',\n",
       " '__gt__',\n",
       " '__hash__',\n",
       " '__init__',\n",
       " '__init_subclass__',\n",
       " '__le__',\n",
       " '__lt__',\n",
       " '__module__',\n",
       " '__ne__',\n",
       " '__new__',\n",
       " '__reduce__',\n",
       " '__reduce_ex__',\n",
       " '__repr__',\n",
       " '__setattr__',\n",
       " '__sizeof__',\n",
       " '__str__',\n",
       " '__subclasshook__',\n",
       " '__weakref__',\n",
       " 'bearing_fruit',\n",
       " 'fruit_color',\n",
       " 'fruit_size',\n",
       " 'height',\n",
       " 'leaves_color']"
      ]
     },
     "execution_count": 2,
     "metadata": {},
     "output_type": "execute_result"
    }
   ],
   "source": [
    "dir(tree)"
   ]
  },
  {
   "cell_type": "markdown",
   "metadata": {},
   "source": [
    "We can find our defined attributes at the end of the list. There are numerous other attributes as well, but don't worry about them for now."
   ]
  },
  {
   "cell_type": "markdown",
   "metadata": {},
   "source": [
    "<a id='python-class-object-operations'></a>\n",
    "## Python class object operations\n",
    "\n",
    "So, let's review what we have done so far. We wrote a definition for the **class** _tree_ with several data attributes. \n",
    "Then, we executed the definition of the class and created the **class object** _tree_.\n",
    "\n",
    "Now, what can we do with this class object?!\n",
    "\n",
    "Well, it turns out that **class object** supports two types of operations: _attribute references_ and _instantiation_.\n",
    "Let me explain what they are."
   ]
  },
  {
   "cell_type": "markdown",
   "metadata": {},
   "source": [
    "<a id='attribute-reference-python'></a>\n",
    "### Attribute reference in Python\n",
    "\n",
    "The term _attribute reference_ simply means referencing to an attribute of an object.\n",
    "An _attribute reference_ has the standard syntax of ***obj.name***, wherein ***obj*** denotes an object, and ***name*** refers to an attribute of the object. \n",
    "\n",
    "As a side-note, we can reference both types of attributes: **data attributes** and **methods**. In the case of data attributes, the corresponding value of the data attribute will be returned.\n",
    "In the case of referencing a method of a **class object** or **class instance object**, on the other side, the corresponding **function object** or **method object** will be returned, respectively. \n",
    "I expect it to be not quite clear to some readers. Don't worry, it will be discussed in more detail later.\n",
    "\n",
    "For now, as an example of _data attribute referencing_, we can reference to _height_ as a data attribute of the class object _tree_:"
   ]
  },
  {
   "cell_type": "code",
   "execution_count": 3,
   "metadata": {},
   "outputs": [
    {
     "data": {
      "text/plain": [
       "2"
      ]
     },
     "execution_count": 3,
     "metadata": {},
     "output_type": "execute_result"
    }
   ],
   "source": [
    "tree.height"
   ]
  },
  {
   "cell_type": "markdown",
   "metadata": {},
   "source": [
    "Here is the data attribute referencing for other attributes we defined earlier:"
   ]
  },
  {
   "cell_type": "code",
   "execution_count": 4,
   "metadata": {},
   "outputs": [
    {
     "name": "stdout",
     "output_type": "stream",
     "text": [
      "False\n",
      "None\n",
      "None\n",
      "dark green\n"
     ]
    }
   ],
   "source": [
    "print(tree.bearing_fruit)\n",
    "print(tree.fruit_color)\n",
    "print(tree.fruit_size)\n",
    "print(tree.leaves_color)"
   ]
  },
  {
   "cell_type": "markdown",
   "metadata": {},
   "source": [
    "<a id='python-class-instantiation'></a>\n",
    "### Python class instantiation\n",
    "\n",
    "The **class object** would not be useful by its own if not leading to **objects**! \n",
    "Remember we said that _class_ is just a design plan for creating objects?!\n",
    "The **class object** is our officially-sealed _design plan_, indeed, ready to instantiate (create instance)!\n",
    "\n",
    "The second type of operations supported by **class object** is _class instantiation_, which basically means ***creation of instance of the class***. \n",
    "We call the created instances **class instance objects** or simply **objects**. \n",
    "The way class instantiation works is very straightforward:\n",
    "\n",
    "**<font color=\"navy\">You call the class object and it returns an instance of the class.</font>**\n",
    "\n",
    "In the following example, we create two instances of the class _tree_ and assign them with the local variables _maple_ and _oak_:"
   ]
  },
  {
   "cell_type": "code",
   "execution_count": 5,
   "metadata": {},
   "outputs": [],
   "source": [
    "maple=tree()\n",
    "oak=tree()"
   ]
  },
  {
   "cell_type": "markdown",
   "metadata": {},
   "source": [
    "**<font color=\"darkgreen\">Congratulations!!! You have created two class instance objects, or simply two objects!</font>**\n",
    "\n",
    "That is great. But, what can we do with these class instance objects?!\n",
    "\n",
    "It turns out that the only type of operation supported by class instance objects is **attribute references**: \n",
    "\n",
    "**<font color=\"darkred\">An important difference between \"class object\" and \"class instance object\" (or simply \"object\") is that \n",
    "\"class object\" supports the instantiation operation, from which \"class instance object\" is created, but \"class instance object\" itself cannot instantiate to create another instance of the class.</font>** \n",
    "\n",
    "Remember our discussion about the design plan?! If you want to create a creature (class instance object), you need to use the design plan (class object), not a creature (class instance object)."
   ]
  },
  {
   "cell_type": "markdown",
   "metadata": {},
   "source": [
    "<a id='data-attributes-class-python'></a>\n",
    "### Data attributes of class in Python\n",
    "\n",
    "Similar to local variables, data attributes of class do not need to be declared before coming to existence (in Python programming language).\n",
    "They are just created when they are first assigned to. \n",
    "\n",
    "As an example, the class _tree_ itself does not have a data attribute named _age_, but you can create it for the **class object** or any of **class instance objects** like _maple_ and _oak_ that we created above.\n",
    "\n",
    "For example, if you try ***maple.age*** now, you get the following self-explanatory error:\n",
    "\n",
    "**<font color=\"darkred\">AttributeError: 'tree' object has no attribute 'age'</font>**\n",
    "\n",
    "But, the following statement creates the data attribute of \"age\" for the **class instance object** _maple_ and assign it with 10:"
   ]
  },
  {
   "cell_type": "code",
   "execution_count": 6,
   "metadata": {},
   "outputs": [],
   "source": [
    "maple.age=10"
   ]
  },
  {
   "cell_type": "markdown",
   "metadata": {},
   "source": [
    "Now, if you try any of ***tree.age*** or ***oak.age*** you get the same **<font color=\"darkred\">AttributeError</font>** message, but the _maple_ object indeed has the recently-created data attribute of \"age\":"
   ]
  },
  {
   "cell_type": "code",
   "execution_count": 7,
   "metadata": {},
   "outputs": [
    {
     "data": {
      "text/plain": [
       "10"
      ]
     },
     "execution_count": 7,
     "metadata": {},
     "output_type": "execute_result"
    }
   ],
   "source": [
    "maple.age"
   ]
  },
  {
   "cell_type": "markdown",
   "metadata": {},
   "source": [
    "To have more fun, you can add the data attribute _age_ to your **class object** _tree_:"
   ]
  },
  {
   "cell_type": "code",
   "execution_count": 8,
   "metadata": {},
   "outputs": [],
   "source": [
    "tree.age=8"
   ]
  },
  {
   "cell_type": "markdown",
   "metadata": {},
   "source": [
    "Let's check to see if this new attribute has been created:"
   ]
  },
  {
   "cell_type": "code",
   "execution_count": 9,
   "metadata": {},
   "outputs": [
    {
     "data": {
      "text/plain": [
       "8"
      ]
     },
     "execution_count": 9,
     "metadata": {},
     "output_type": "execute_result"
    }
   ],
   "source": [
    "tree.age"
   ]
  },
  {
   "cell_type": "markdown",
   "metadata": {},
   "source": [
    "Great! Now, what if we instantiate the modified **class object?!**"
   ]
  },
  {
   "cell_type": "code",
   "execution_count": 10,
   "metadata": {},
   "outputs": [
    {
     "data": {
      "text/plain": [
       "8"
      ]
     },
     "execution_count": 10,
     "metadata": {},
     "output_type": "execute_result"
    }
   ],
   "source": [
    "walnut=tree()\n",
    "walnut.age"
   ]
  },
  {
   "cell_type": "markdown",
   "metadata": {},
   "source": [
    "Well, as you may have guessed correctly, the new **class instance object** _walnut_ has the same data attribute of _age_ as the **class object** _tree_, since **class instance object** is just an instance of the **class object**."
   ]
  },
  {
   "cell_type": "markdown",
   "metadata": {},
   "source": [
    "<a id='python-class-method'></a>\n",
    "## Python class method\n",
    "\n",
    "You remember the previous [analogies of creating trees, atoms, and molecules](#python-class-analogies)?!\n",
    "You may have noticed that so far, we have mainly discussed the **<font color=\"blue\">properties</font>** (**<font color=\"red\">data attributes</font>**) of trees. \n",
    "\n",
    "But, what about the **<font color=\"blue\">functionalities</font>** (**<font color=\"red\">methods</font>**) of the tree **<font color=\"blue\">creatures</font>** (**<font color=\"red\">objects</font>**)?!\n",
    "\n",
    "That is the subject of this section! \n",
    "\n",
    "### What is a method in Python?\n",
    "\n",
    "**<font color=\"navy\">A method is a function belonging to an object.</font>**\n",
    "\n"
   ]
  },
  {
   "cell_type": "markdown",
   "metadata": {},
   "source": [
    "As an example, let us rewrite the class definition of _tree_ to include some methods. \n",
    "We also instantiate the **class** _tree_ and assign the returned **class instance object** with the variable _pear_:"
   ]
  },
  {
   "cell_type": "markdown",
   "metadata": {},
   "source": [
    "<a id='python-class-method-example'></a>\n",
    "### Python class method example"
   ]
  },
  {
   "cell_type": "code",
   "execution_count": 11,
   "metadata": {},
   "outputs": [],
   "source": [
    "class tree:\n",
    "    \"\"\"My first class for tree!\"\"\"\n",
    "    height = 0\n",
    "    leaves_color = 'dark green'\n",
    "    bearing_fruit = False\n",
    "    fruit_size=None\n",
    "    fruit_color=None\n",
    "    \n",
    "    def grow(self):\n",
    "        self.height += 1\n",
    "        print(\"I am growing! My current height: {} m\".format(self.height))\n",
    "    \n",
    "    def grow_leaves(self):\n",
    "        print(\"I am working on growing leaves!\")\n",
    "        \n",
    "    def photosynthesis(self):\n",
    "        print(\"I am working on photosynthesis!\")\n",
    "\n",
    "#creating a class instance object named 'pear'\n",
    "pear=tree()"
   ]
  },
  {
   "cell_type": "markdown",
   "metadata": {},
   "source": [
    "I know, I know!!! What does ***self*** do in Python?! Let me clarity about the terms **function object** and **method object** first. I will get back to Python ***self*** later."
   ]
  },
  {
   "cell_type": "markdown",
   "metadata": {},
   "source": [
    "<a id='python-function-object-method-object'></a>\n",
    "### Python function object vs. method object\n",
    "\n",
    "We know that in Python, everything is an object. So, each attribute of a class is also an object.\n",
    "For example, in the example _tree_ above, the data attributes are class objects of _float_, _int_, and _bool_. \n",
    "[Booleans are also a subtype of integers](https://docs.python.org/3/library/stdtypes.html#numeric-types-int-float-complex).\n",
    "\n",
    "What about methods in a class?! Yes, methods of class are indeed objects! They are called **function objects**.\n",
    "For example, in the example above, ***tree.photosynthesis*** and ***tree.grow_leaves*** are two **function objects** of the _tree_ class.\n",
    "\n",
    "By definition, all **function objects** of a class define the corresponding methods of the **class instance objects**.\n",
    "So, in our example above, ***pear.photosynthesis*** is a valid method reference, since ***tree.photosynthesis*** is a function object.\n",
    "However, ***pear.height*** is not a valid method reference, since ***tree.height*** is not a function object.\n",
    "\n",
    "To wrap up this introductory discussion, when referencing a method of a **class object**, the corresponding **function object** will be returned. \n",
    "By referencing a method of a **class instance object**, on the other side, the corresponding **method object** will be returned. See the following please:"
   ]
  },
  {
   "cell_type": "code",
   "execution_count": 12,
   "metadata": {},
   "outputs": [
    {
     "data": {
      "text/plain": [
       "method"
      ]
     },
     "execution_count": 12,
     "metadata": {},
     "output_type": "execute_result"
    }
   ],
   "source": [
    "type(pear.grow)"
   ]
  },
  {
   "cell_type": "code",
   "execution_count": 13,
   "metadata": {},
   "outputs": [
    {
     "data": {
      "text/plain": [
       "function"
      ]
     },
     "execution_count": 13,
     "metadata": {},
     "output_type": "execute_result"
    }
   ],
   "source": [
    "type(tree.grow)"
   ]
  },
  {
   "cell_type": "markdown",
   "metadata": {},
   "source": [
    "There are some nuances with regard to the **function object** and **method object** that will be discussed in the next section."
   ]
  },
  {
   "cell_type": "markdown",
   "metadata": {},
   "source": [
    "<a id='python-method-call'></a>\n",
    "### How method call works in Python?\n",
    "\n",
    "We need to discuss the method implementation in Python to better understand what really happens when an object calls a method.\n",
    "First things first: when defining a method in class, please note that:\n",
    "\n",
    "**<font color=\"red\">The first parameter of each method is very special in Python!!! \n",
    "You can consider any valid name for this parameter slot, but it will be filled in only with an instance object.</font>**"
   ]
  },
  {
   "cell_type": "markdown",
   "metadata": {},
   "source": [
    "Let us consider the call ***pear.grow()*** as an example to explain the details.\n",
    "Here is how this call really works:\n",
    "\n",
    "**<font color=\"navy\">When a \"class instance object\" (pear) calls its \"method object\" (grow), a search would be done on the \"class object\" (tree) for the corresponding \"function object\" (grow). If found, the \"function object\" (grow) belonging to the \"class object\" (tree) is called with the \"class instance object\" (pear) as the first parameter. For the example above, therefore, the call  \"pear.grow()\" is equivalent to \"tree.grow(pear)\".</font>**"
   ]
  },
  {
   "cell_type": "markdown",
   "metadata": {},
   "source": [
    "You may wonder, **why does the \"function object\" need to take the \"class instance object\" as an argument?!!**\n",
    "\n",
    "Well, without passing the **class instance object** to the **function object** as an argument, the **function object** cannot access the data attributes of the **class instance objects**.\n",
    "\n",
    "For example, if you want to call ***pear.grow()***, the corresponding **function object** (grow) from the **class object** (tree) does not have any clue how tall the **class instance object** (pear) really is!!!\n",
    "When writing the definition of the method, you know that the job of this method is to add 1 to the data attribute **height** of a **class instance object**.\n",
    "However, you don't know at the time this method is called, what type of **class instance object** needs to be processed.\n",
    "It can be **maple** with _height=1_, **maple** with _height=2_, **pear** with _height=1_, **pear** with _height=3_, and so on.\n",
    "\n",
    "As a result, Python has decided to designate the first parameter of each method to the type of **class instance object**. \n",
    "And, as we said earlier, this parameter is automatically filled in with the **class instance object** calling the method."
   ]
  },
  {
   "cell_type": "markdown",
   "metadata": {},
   "source": [
    "You can extend the concept: \n",
    "\n",
    "A **class instance object** calling its **method object** with a list of _n_ arguments is equivalent to calling the corresponding **function object** from the **class object** with the argument list's items preceded by the **class instance object** calling the method:\n",
    "\n",
    "***obj.func(x1, ..., xn) = cls.func(obj, x1, ..., xn)***\n",
    "\n",
    "where \n",
    "_obj_ denotes a **class instance object**, \n",
    "_cls_ refers to the corresponding **class object**, \n",
    "_func_ is the name of a method of the class, \n",
    "and _x1_ to _xn_ are _n_ arguments."
   ]
  },
  {
   "cell_type": "markdown",
   "metadata": {},
   "source": [
    "Now, you should be ready to discuss ***self*** in Python!"
   ]
  },
  {
   "cell_type": "markdown",
   "metadata": {},
   "source": [
    "<a id='python-self'></a>\n",
    "### Python self\n",
    "<font color=\"darkred\">What does self mean in Python?</font>"
   ]
  },
  {
   "cell_type": "markdown",
   "metadata": {},
   "source": [
    "Now, let's get back to this important question: **<font color=\"brown\">what is self in Python?</font>**"
   ]
  },
  {
   "cell_type": "markdown",
   "metadata": {},
   "source": [
    "As mentioned before, when writing the definition of a method in Python, the first parameter of the method is designated for a **class instance object**, regardless of the name you choose for this parameter.\n",
    "We also said that this parameter is automatically filled in with the **class instance object** calling the method, regardless of the name you consider for the parameter.\n",
    "\n",
    "Think about the concept! When you define a simple function, like the following, does it matter what you name the parameter?!!"
   ]
  },
  {
   "cell_type": "code",
   "execution_count": 14,
   "metadata": {
    "scrolled": true
   },
   "outputs": [
    {
     "data": {
      "text/plain": [
       "9"
      ]
     },
     "execution_count": 14,
     "metadata": {},
     "output_type": "execute_result"
    }
   ],
   "source": [
    "def mysqfunc(x):\n",
    "    return x**2\n",
    "\n",
    "mysqfunc(3)"
   ]
  },
  {
   "cell_type": "markdown",
   "metadata": {},
   "source": [
    "Of course, not!!! In this example, _x_ is a local variable. You can replace it with any other valid name, say _y_ as follows:"
   ]
  },
  {
   "cell_type": "code",
   "execution_count": 15,
   "metadata": {
    "scrolled": true
   },
   "outputs": [
    {
     "data": {
      "text/plain": [
       "9"
      ]
     },
     "execution_count": 15,
     "metadata": {},
     "output_type": "execute_result"
    }
   ],
   "source": [
    "def mysqfunc(y):\n",
    "    return y**2\n",
    "\n",
    "mysqfunc(3)"
   ]
  },
  {
   "cell_type": "markdown",
   "metadata": {},
   "source": [
    "So, the name ***self*** is not a special keyword or so.\n",
    "You can choose any other valid name for the first parameter of your method.\n",
    "By convention, however, the name ***self*** is used for this very special parameter in Python. \n",
    "Thus, by not following the convention, your code may be less readable to other Python programmers."
   ]
  },
  {
   "cell_type": "markdown",
   "metadata": {},
   "source": [
    "But, why ***self***?! Why people adopted this convention in the first place?!\n",
    "\n",
    "Think about the concepts again! \n",
    "The method is aimed at processing an instance object.\n",
    "That is, the method will be provided with the **class instance object** as its first argument, and it can then change the data attributes of the **class instance object**.\n",
    "\n",
    "So in our example ***pear.grow()***, the method is passed the **class instance object** of _pear_.\n",
    "It will then add 1 to the current height of the passed object.\n",
    "\n",
    "***self.height += 1***\n",
    "\n",
    "Probably, people considered the name ***self*** in the first place, since it somehow conveys the message to anyone who may read the code later, that this statement aims at changing the data attribute of the **class instance object** calling the method: \n",
    "\n",
    "**<font color=\"darkgreen\">Not any other object, but the object calling the method itself!!!**</font>\n",
    "\n",
    "So, the name ***self*** has probably come from there! Although, any other meaningful name like, (I don't know! maybe) \"passed_obj\" could have been adopted as the convention, but ***self*** seems to be a good choice; it is short, informative, and memorable!"
   ]
  },
  {
   "cell_type": "markdown",
   "metadata": {},
   "source": [
    "## Class example with methods: discussion\n",
    "\n",
    "Now, that you are familiar with the required concepts, let's get back to the [example of calss tree with methods](#python-class-method-example)"
   ]
  },
  {
   "cell_type": "markdown",
   "metadata": {},
   "source": [
    "Let's create a few more tree **class instance objects** (or simply tree **objects**):"
   ]
  },
  {
   "cell_type": "code",
   "execution_count": 16,
   "metadata": {},
   "outputs": [],
   "source": [
    "cherry = tree()\n",
    "maple = tree()\n",
    "maple2 = tree()\n",
    "maple3 = tree()"
   ]
  },
  {
   "cell_type": "markdown",
   "metadata": {},
   "source": [
    "Here is the data attribute _height_:"
   ]
  },
  {
   "cell_type": "code",
   "execution_count": 17,
   "metadata": {},
   "outputs": [
    {
     "name": "stdout",
     "output_type": "stream",
     "text": [
      "0\n",
      "0\n",
      "0\n",
      "0\n"
     ]
    }
   ],
   "source": [
    "print(cherry.height)\n",
    "print(maple.height)\n",
    "print(maple2.height)\n",
    "print(maple3.height)"
   ]
  },
  {
   "cell_type": "markdown",
   "metadata": {},
   "source": [
    "Let the maple tree grow!!! It can be accomplished in two ways: \n",
    "\n",
    "1\\. the _maple_ **object** calling its _grow_ method:"
   ]
  },
  {
   "cell_type": "code",
   "execution_count": 18,
   "metadata": {},
   "outputs": [
    {
     "name": "stdout",
     "output_type": "stream",
     "text": [
      "I am growing! My current height: 1 m\n"
     ]
    }
   ],
   "source": [
    "maple.grow()"
   ]
  },
  {
   "cell_type": "markdown",
   "metadata": {},
   "source": [
    "or,\n",
    "\n",
    "2\\. by passing the **class instance object** _maple_ to the **function object** _grow_ by the **class object** _tree_ :"
   ]
  },
  {
   "cell_type": "code",
   "execution_count": 19,
   "metadata": {},
   "outputs": [
    {
     "name": "stdout",
     "output_type": "stream",
     "text": [
      "I am growing! My current height: 2 m\n"
     ]
    }
   ],
   "source": [
    "tree.grow(maple)"
   ]
  },
  {
   "cell_type": "markdown",
   "metadata": {},
   "source": [
    "To have some fun, you can even grow the _maple_ tree object multiple times to turn it into a fabulous **class instance object** of the **class object** _tree_!"
   ]
  },
  {
   "cell_type": "code",
   "execution_count": 20,
   "metadata": {},
   "outputs": [
    {
     "name": "stdout",
     "output_type": "stream",
     "text": [
      "My current height is 2 m\n",
      "I am growing! My current height: 3 m\n",
      "I am growing! My current height: 4 m\n",
      "I am growing! My current height: 5 m\n",
      "I am growing! My current height: 6 m\n"
     ]
    }
   ],
   "source": [
    "print(f\"My current height is {maple.height} m\")\n",
    "for i in range(4):\n",
    "    maple.grow()"
   ]
  },
  {
   "cell_type": "markdown",
   "metadata": {},
   "source": [
    "Now, let's take a look at the data attribute _height_ again:"
   ]
  },
  {
   "cell_type": "code",
   "execution_count": 21,
   "metadata": {},
   "outputs": [
    {
     "name": "stdout",
     "output_type": "stream",
     "text": [
      "0\n",
      "6\n",
      "0\n",
      "0\n"
     ]
    }
   ],
   "source": [
    "print(cherry.height)\n",
    "print(maple.height)\n",
    "print(maple2.height)\n",
    "print(maple3.height)"
   ]
  },
  {
   "cell_type": "markdown",
   "metadata": {},
   "source": [
    "Seems like the _maple_ tree has grown tall, but not _maple2_, _maple3_, or _cherry_!!!"
   ]
  },
  {
   "cell_type": "markdown",
   "metadata": {},
   "source": [
    "Remember our [class analogies](#python-class-analogies)?!\n",
    "Our trees were supposed to have different functionalities like growing leaves and photosynthesis.\n",
    "\n",
    "Let the maple tree do those tasks!"
   ]
  },
  {
   "cell_type": "code",
   "execution_count": 22,
   "metadata": {},
   "outputs": [
    {
     "name": "stdout",
     "output_type": "stream",
     "text": [
      "I am working on growing leaves!\n",
      "I am working on photosynthesis!\n"
     ]
    }
   ],
   "source": [
    "maple.grow_leaves()\n",
    "maple.photosynthesis()"
   ]
  },
  {
   "cell_type": "markdown",
   "metadata": {},
   "source": [
    "Alternatively:"
   ]
  },
  {
   "cell_type": "code",
   "execution_count": 23,
   "metadata": {},
   "outputs": [
    {
     "name": "stdout",
     "output_type": "stream",
     "text": [
      "I am working on growing leaves!\n",
      "I am working on photosynthesis!\n"
     ]
    }
   ],
   "source": [
    "tree.grow_leaves(maple)\n",
    "tree.photosynthesis(maple)"
   ]
  },
  {
   "cell_type": "markdown",
   "metadata": {},
   "source": [
    "<a id='python-init'></a>\n",
    "## Python init\n",
    "<font color=\"darkred\">What is init function in Python?</font>\n",
    "\n",
    "You may have already seen something like \\_\\_init\\_\\_ in other programmers' codes, and you may wonder, **what is init in Python?!** \n",
    "\n",
    "As discussed in [Python class attributes](#python-class-attributes), we can use the _dir_ function to list all valid attributes of an object.\n",
    "Let's execute the statement again:"
   ]
  },
  {
   "cell_type": "code",
   "execution_count": 24,
   "metadata": {},
   "outputs": [
    {
     "data": {
      "text/plain": [
       "['__class__',\n",
       " '__delattr__',\n",
       " '__dict__',\n",
       " '__dir__',\n",
       " '__doc__',\n",
       " '__eq__',\n",
       " '__format__',\n",
       " '__ge__',\n",
       " '__getattribute__',\n",
       " '__gt__',\n",
       " '__hash__',\n",
       " '__init__',\n",
       " '__init_subclass__',\n",
       " '__le__',\n",
       " '__lt__',\n",
       " '__module__',\n",
       " '__ne__',\n",
       " '__new__',\n",
       " '__reduce__',\n",
       " '__reduce_ex__',\n",
       " '__repr__',\n",
       " '__setattr__',\n",
       " '__sizeof__',\n",
       " '__str__',\n",
       " '__subclasshook__',\n",
       " '__weakref__',\n",
       " 'bearing_fruit',\n",
       " 'fruit_color',\n",
       " 'fruit_size',\n",
       " 'grow',\n",
       " 'grow_leaves',\n",
       " 'height',\n",
       " 'leaves_color',\n",
       " 'photosynthesis']"
      ]
     },
     "execution_count": 24,
     "metadata": {},
     "output_type": "execute_result"
    }
   ],
   "source": [
    "dir(tree)"
   ]
  },
  {
   "cell_type": "markdown",
   "metadata": {},
   "source": [
    "We notice that all data attributes and methods are listed at the end.\n",
    "Among others, you can particularly see \\_\\_init\\_\\_.\n",
    "\n",
    "Great! That means \\_\\_init\\_\\_ is an attribute of the object.\n",
    "But what is \\_\\_init\\_\\_, and what does it do?\n",
    "\n",
    "The instantiation operation, by default, creates a **class instance object** with the same data attribute values as those of the **class object**. \n",
    "It happens quite often that we like to create **objects** with customized attributes for each **object**, _i.e._ customized initial state. \n",
    "\n",
    "In such cases, you can include all the statements required for defining the initial state of **object**, within \n",
    "the **initializer method** \\_\\_init\\_\\_.\n",
    "The class instantiation process automatically invokes the **initializer method** \\_\\_init\\_\\_ before returning the newly-created class instance. \n",
    "Therefore, all the instructions inside the **initializer method** \\_\\_init\\_\\_, which would be empty otherwise, are executed before the newly-created class instance is returned. \n",
    "\n",
    "For example, with regard to the [class tree example](#python-class-method-example), we can initialize the state of each object as follows:"
   ]
  },
  {
   "cell_type": "code",
   "execution_count": 25,
   "metadata": {},
   "outputs": [],
   "source": [
    "class tree:\n",
    "    def __init__(self, height, leaves_color, bearing_fruit, fruit_size, fruit_color):\n",
    "        self.height = height\n",
    "        self.leaves_color = leaves_color\n",
    "        self.bearing_fruit = bearing_fruit\n",
    "        self.fruit_size=fruit_size\n",
    "        self.fruit_color=fruit_color\n",
    "    \n",
    "    def grow(self):\n",
    "        self.height += 1\n",
    "        print(\"I am growing! My current height: {} m\".format(self.height))\n",
    "    \n",
    "    def grow_leaves(self):\n",
    "        print(\"I am working on growing leaves!\")\n",
    "        \n",
    "    def photosynthesis(self):\n",
    "        print(\"I am working on photosynthesis!\")"
   ]
  },
  {
   "cell_type": "markdown",
   "metadata": {},
   "source": [
    "Now, you can instantiate the **class object** _tree_ to create customized tree **objects**.\n",
    "You just need to pass desired [positional or keyword arguments](https://soardeepsci.com/python-function-argument-parameter/) to fill in the parameters specified in parameter list of \\_\\_init\\_\\_ method.\n",
    "\n",
    "For example:"
   ]
  },
  {
   "cell_type": "code",
   "execution_count": 26,
   "metadata": {},
   "outputs": [],
   "source": [
    "maple=tree(height=5, leaves_color='red', bearing_fruit=False, fruit_size=None, fruit_color=None)\n",
    "pear=tree(2, 'darkgreen', True, fruit_size='medium', fruit_color='yellow')\n",
    "cherry=tree(1, 'green', True, fruit_size='small', fruit_color='darkred')"
   ]
  },
  {
   "cell_type": "markdown",
   "metadata": {},
   "source": [
    "Here you can see the attribute _height_ "
   ]
  },
  {
   "cell_type": "code",
   "execution_count": 27,
   "metadata": {},
   "outputs": [
    {
     "name": "stdout",
     "output_type": "stream",
     "text": [
      "5\n",
      "2\n",
      "1\n"
     ]
    }
   ],
   "source": [
    "print(maple.height)\n",
    "print(pear.height)\n",
    "print(cherry.height)"
   ]
  },
  {
   "cell_type": "markdown",
   "metadata": {},
   "source": [
    "and attribute \"leaves_color\":"
   ]
  },
  {
   "cell_type": "code",
   "execution_count": 28,
   "metadata": {},
   "outputs": [
    {
     "name": "stdout",
     "output_type": "stream",
     "text": [
      "red\n",
      "darkgreen\n",
      "green\n"
     ]
    }
   ],
   "source": [
    "print(maple.leaves_color)\n",
    "print(pear.leaves_color)\n",
    "print(cherry.leaves_color)"
   ]
  },
  {
   "cell_type": "markdown",
   "metadata": {},
   "source": [
    "<a id='python-init-optional-arg'></a>\n",
    "### Python init with optional arguments\n",
    "\n",
    "Last but not least, you can define the \\_\\_init\\_\\_ function with [some default values for its parameters to make the corresponding arguments optional](https://soardeepsci.com/python-function-argument-parameter/):"
   ]
  },
  {
   "cell_type": "code",
   "execution_count": 29,
   "metadata": {},
   "outputs": [],
   "source": [
    "class tree:\n",
    "    def __init__(self, height=0, leaves_color='green', bearing_fruit=False, fruit_size=None, fruit_color=None):\n",
    "        self.height = height\n",
    "        self.leaves_color = leaves_color\n",
    "        self.bearing_fruit = bearing_fruit\n",
    "        self.fruit_size=fruit_size\n",
    "        self.fruit_color=fruit_color\n",
    "    \n",
    "    def grow(self):\n",
    "        self.height += 1\n",
    "        print(\"I am growing! My current height: {} m\".format(self.height))\n",
    "    \n",
    "    def grow_leaves(self):\n",
    "        print(\"I am working on growing leaves!\")\n",
    "        \n",
    "    def photosynthesis(self):\n",
    "        print(\"I am working on photosynthesis!\")"
   ]
  },
  {
   "cell_type": "markdown",
   "metadata": {},
   "source": [
    "Now, you can instantiate the **class object** _tree_ to create customized tree **objects** more conveniently. For example:"
   ]
  },
  {
   "cell_type": "code",
   "execution_count": 30,
   "metadata": {},
   "outputs": [],
   "source": [
    "maple=tree()\n",
    "pear=tree(2)\n",
    "cherry=tree(1, fruit_size=True, fruit_color='small', bearing_fruit='darkred')"
   ]
  },
  {
   "cell_type": "markdown",
   "metadata": {},
   "source": [
    "Here you can see the attribute _height_ "
   ]
  },
  {
   "cell_type": "code",
   "execution_count": 31,
   "metadata": {},
   "outputs": [
    {
     "name": "stdout",
     "output_type": "stream",
     "text": [
      "0\n",
      "2\n",
      "1\n"
     ]
    }
   ],
   "source": [
    "print(maple.height)\n",
    "print(pear.height)\n",
    "print(cherry.height)"
   ]
  },
  {
   "cell_type": "markdown",
   "metadata": {},
   "source": [
    "and attribute \"leaves_color\":"
   ]
  },
  {
   "cell_type": "code",
   "execution_count": 32,
   "metadata": {},
   "outputs": [
    {
     "name": "stdout",
     "output_type": "stream",
     "text": [
      "green\n",
      "green\n",
      "green\n"
     ]
    }
   ],
   "source": [
    "print(maple.leaves_color)\n",
    "print(pear.leaves_color)\n",
    "print(cherry.leaves_color)"
   ]
  },
  {
   "cell_type": "markdown",
   "metadata": {},
   "source": [
    "and attribute \"fruit_color\":"
   ]
  },
  {
   "cell_type": "code",
   "execution_count": 33,
   "metadata": {},
   "outputs": [
    {
     "name": "stdout",
     "output_type": "stream",
     "text": [
      "None\n",
      "None\n",
      "small\n"
     ]
    }
   ],
   "source": [
    "print(maple.fruit_color)\n",
    "print(pear.fruit_color)\n",
    "print(cherry.fruit_color)"
   ]
  },
  {
   "cell_type": "markdown",
   "metadata": {},
   "source": [
    "<a id='recap'></a>\n",
    "### Recap\n",
    "\n",
    "\\- In Python, **class** refers to a _design plan_ that you use to create **object(s)**.\n",
    "In the design plan you specify all the properties (**data attributes**) and functionalities (**methods**) the objects may possess once created.\n",
    "\n",
    "\\- Attributes of an object include its **data attributes** (describing properties) and **methods** (enabling specific functionalities).\n",
    "\n",
    "\\- A _method_ is a _function_ belonging to an object.\n",
    "\n",
    "\\- Once a class definition is executed and completed with no error, a **class object** is created.\n",
    "\n",
    "\\- You can call the **class object** (_class instantiation_) to create a **class instance object** (or simply **object**). \n",
    "\n",
    "\\- **Class object** is _instantiable_, while **class instance object** is not.\n",
    "\n",
    "\\- You can use the Python built-in _dir_ function to list all valid attributes of an object.\n",
    "\n",
    "\\- **Class object** supports two types of operations: _attribute references_ and _instantiation_, while **class instance object** only supports the _attribute references_.\n",
    "\n",
    "\\- You can reference both _data attributes_ and _methods_. \n",
    "\n",
    "\\- The way that _class instantiation_ works is very straightforward: you call the **class object** and it returns an _instance_ of the class.\n",
    "\n",
    "\\- When referencing a _method_ of a **class object**, the corresponding **function object** will be returned. By referencing a _method_ of a **class instance object**, on the other side, the corresponding **method object** will be returned.\n",
    "\n",
    "\\- When a **class instance object** (pear) calls its **method object** (grow), a search would be done on the **class object** (tree) for the corresponding **function object** (grow). If found, the **function object** (grow) belonging to the **class object** (tree) is called with the **class instance object** (pear) as the first parameter. For example, the call ***pear.grow()*** is equivalent to ***tree.grow(pear)***.\n",
    "\n",
    "\\-  A _method_ can change the data attributes of the **class instance object** calling it; not any other object, but the object calling the method **itself!!!** So, it makes sense why people adopted the convention of naming the first parameter of method ***self***, although you can use any other valid name, similar to a parameter of any other function.\n",
    "\n",
    "\\- You can use the \\_\\_init\\_\\_ method to customize the initial state of each object upon its creation.\n",
    "\n",
    "<font color=\"green\">Congratulations!!! You have mastered the concepts of class and object in Python! Now, you can pat yourself on the back!!!</font>"
   ]
  },
  {
   "cell_type": "markdown",
   "metadata": {},
   "source": [
    "<a id='quiz'></a>\n",
    "## Quiz\n",
    "Finally, I end this tutorial with a simple quiz!\n",
    "\n",
    "Revisit our discussion on [class analogies of atom and molecule](#python-class-analogies), and write a simple class definition for atom. By using the method \\_\\_init\\_\\_, initialize the data attributes for a default atom, say hydrogen.\n",
    "Then, go ahead and instantiate the class object _atom_ to create objects _hydrogen_, _oxygen_, and _nitrogen_.\n",
    "\n",
    "What about a class for molecule?! How to instantiate the class object _molecule_ to create a water molecule?!"
   ]
  },
  {
   "attachments": {},
   "cell_type": "markdown",
   "metadata": {},
   "source": [
    "## Final remarks\n",
    "\n",
    "In this tutorial, we introduced two important concepts in Python: **class** and **object**. \n",
    "Now, you should be able to answer questions like, _what is a class in Python_, _how to define a class in Python_, _how to create an object in Python_, etc.\n",
    "\n",
    "We discussed the differences between **class object**, and **class instance object** (or simply **object**).\n",
    "We also discussed the differences between **function object** and **method object**.\n",
    "\n",
    "An important topic covered in this tutorial was the details of method implementation in Python, and importantly the connection between **function object** and **method object**. From there, we saw why people, by convention, consider **self** as the name of the first parameter of each method.\n",
    "\n",
    "Finally, we discussed how you could customize the initial state of each **class instance object** upon its creation using the **initializer method** \\_\\_init\\_\\_.\n",
    "\n",
    "Hopefully, this tutorial was able to help you with some of the basics of Python. \n",
    "Please do not hesitate to let us know if you have any questions or comments by leaving a note below, or [contacting us](https://soardeepsci.com/contact/).\n",
    "Also, please feel free to check out the rest of the articles on [SoarDeepSci](https://soardeepsci.com/blog/)."
   ]
  }
 ],
 "metadata": {
  "kernelspec": {
   "display_name": "Python 3",
   "language": "python",
   "name": "python3"
  },
  "language_info": {
   "codemirror_mode": {
    "name": "ipython",
    "version": 3
   },
   "file_extension": ".py",
   "mimetype": "text/x-python",
   "name": "python",
   "nbconvert_exporter": "python",
   "pygments_lexer": "ipython3",
   "version": "3.8.5"
  }
 },
 "nbformat": 4,
 "nbformat_minor": 4
}
