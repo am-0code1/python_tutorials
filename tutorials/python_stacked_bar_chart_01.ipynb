{
 "cells": [
  {
   "cell_type": "markdown",
   "metadata": {},
   "source": [
    "# Python | stacked bar chart\n",
    "\n",
    "### Importance of stacked bar chart\n",
    "The _stacked bar chart_ is used to not only compare various categories, \n",
    "but also to visualize how a specific category is divided into smaller subcategories \n",
    "and what fraction of the whole category is the contribution of each constituent subcategory.\n",
    "\n",
    "### Scope of this tutorial\n",
    "In this tutorial, we discuss two types of stacked bar plots: _vertical_, and _horizontal_. \n",
    "We will then show how to use **Python** to draw such stacked bar charts. \n",
    "In particular, we demonstrate producing vertical and horizontal stacked bar charts using **pandas** and **Matplotlib** libraries."
   ]
  },
  {
   "cell_type": "markdown",
   "metadata": {},
   "source": [
    "# Python stacked bar chart | horizontal vs. vertical \n",
    "\n",
    "Similar to _bar chart_, a _stacked bar chart_ can be plotted in two fashions: 1. _vertical bar graph_, and 2. _horizontal bar graph_.\n",
    "Let's start with an example showing how to draw a simple bar chart using the **Python pandas** library."
   ]
  },
  {
   "cell_type": "markdown",
   "metadata": {},
   "source": [
    "## Bar chart | Python pandas"
   ]
  },
  {
   "cell_type": "markdown",
   "metadata": {},
   "source": [
    "### Importing required libraries\n",
    "First, let's import the required libraries:"
   ]
  },
  {
   "cell_type": "code",
   "execution_count": 1,
   "metadata": {},
   "outputs": [],
   "source": [
    "#importing numpy library\n",
    "import numpy as np\n",
    "\n",
    "#importing pandas library\n",
    "import pandas as pd\n",
    "\n",
    "#importing matplotlib's pyplot module\n",
    "import matplotlib.pyplot as plt"
   ]
  },
  {
   "cell_type": "markdown",
   "metadata": {},
   "source": [
    "Now, let's create a sample _DataFrame_ based on random numbers. We use the _NumPy_ library, here, for the purpose of generating random numbers."
   ]
  },
  {
   "cell_type": "code",
   "execution_count": 2,
   "metadata": {},
   "outputs": [
    {
     "name": "stdout",
     "output_type": "stream",
     "text": [
      "Our sample DataFrame with major categories:\n",
      "['A', 'B', 'C', 'D', 'E', 'F']\n",
      "\n",
      "and subcategories:\n",
      "['a', 'b', 'c']\n"
     ]
    },
    {
     "data": {
      "text/html": [
       "<div>\n",
       "<style scoped>\n",
       "    .dataframe tbody tr th:only-of-type {\n",
       "        vertical-align: middle;\n",
       "    }\n",
       "\n",
       "    .dataframe tbody tr th {\n",
       "        vertical-align: top;\n",
       "    }\n",
       "\n",
       "    .dataframe thead th {\n",
       "        text-align: right;\n",
       "    }\n",
       "</style>\n",
       "<table border=\"1\" class=\"dataframe\">\n",
       "  <thead>\n",
       "    <tr style=\"text-align: right;\">\n",
       "      <th></th>\n",
       "      <th>a</th>\n",
       "      <th>b</th>\n",
       "      <th>c</th>\n",
       "    </tr>\n",
       "  </thead>\n",
       "  <tbody>\n",
       "    <tr>\n",
       "      <th>A</th>\n",
       "      <td>2</td>\n",
       "      <td>5</td>\n",
       "      <td>1</td>\n",
       "    </tr>\n",
       "    <tr>\n",
       "      <th>B</th>\n",
       "      <td>4</td>\n",
       "      <td>9</td>\n",
       "      <td>5</td>\n",
       "    </tr>\n",
       "    <tr>\n",
       "      <th>C</th>\n",
       "      <td>2</td>\n",
       "      <td>1</td>\n",
       "      <td>6</td>\n",
       "    </tr>\n",
       "    <tr>\n",
       "      <th>D</th>\n",
       "      <td>1</td>\n",
       "      <td>9</td>\n",
       "      <td>7</td>\n",
       "    </tr>\n",
       "    <tr>\n",
       "      <th>E</th>\n",
       "      <td>6</td>\n",
       "      <td>0</td>\n",
       "      <td>2</td>\n",
       "    </tr>\n",
       "    <tr>\n",
       "      <th>F</th>\n",
       "      <td>9</td>\n",
       "      <td>1</td>\n",
       "      <td>2</td>\n",
       "    </tr>\n",
       "  </tbody>\n",
       "</table>\n",
       "</div>"
      ],
      "text/plain": [
       "   a  b  c\n",
       "A  2  5  1\n",
       "B  4  9  5\n",
       "C  2  1  6\n",
       "D  1  9  7\n",
       "E  6  0  2\n",
       "F  9  1  2"
      ]
     },
     "execution_count": 2,
     "metadata": {},
     "output_type": "execute_result"
    }
   ],
   "source": [
    "np.random.seed(12345)\n",
    "df = pd.DataFrame(np.random.randint(0,10,(6, 3)), \n",
    "                  columns=list(\"abc\"),\n",
    "                  index=list(\"ABCDEF\")\n",
    "                 )\n",
    "\n",
    "print(f'Our sample DataFrame with major categories:\\n{list(df.index)}\\n\\nand subcategories:\\n{list(df.columns)}')\n",
    "df"
   ]
  },
  {
   "cell_type": "markdown",
   "metadata": {},
   "source": [
    "## Stacked bar chart | Python pandas"
   ]
  },
  {
   "cell_type": "markdown",
   "metadata": {},
   "source": [
    "You can draw a grouped bar chart using **Python pandas** very easily:"
   ]
  },
  {
   "cell_type": "code",
   "execution_count": 3,
   "metadata": {},
   "outputs": [
    {
     "data": {
      "image/png": "[encoded data removed]",
      "text/plain": [
       "<Figure size 432x288 with 1 Axes>"
      ]
     },
     "metadata": {
      "needs_background": "light"
     },
     "output_type": "display_data"
    }
   ],
   "source": [
    "df.plot.bar();"
   ]
  },
  {
   "cell_type": "markdown",
   "metadata": {},
   "source": [
    "You can also pass _stacked=True_ for producing a stacked bar chart:"
   ]
  },
  {
   "cell_type": "code",
   "execution_count": 4,
   "metadata": {},
   "outputs": [
    {
     "data": {
      "image/png": "[encoded data removed]",
      "text/plain": [
       "<Figure size 432x288 with 1 Axes>"
      ]
     },
     "metadata": {
      "needs_background": "light"
     },
     "output_type": "display_data"
    }
   ],
   "source": [
    "df.plot.bar(stacked=True);"
   ]
  },
  {
   "cell_type": "markdown",
   "metadata": {},
   "source": [
    "### Interpretation of stacked bar chart\n",
    "This stacked bar chart provides you with a significant amount of information: 1. what major categories exist (A to F), 2. how large each category is, and 3. how large the contribution of each sub-category (a, b, and c) is for each major category."
   ]
  },
  {
   "cell_type": "markdown",
   "metadata": {},
   "source": [
    "## Stacked horizontal bar graph with Python pandas"
   ]
  },
  {
   "cell_type": "markdown",
   "metadata": {},
   "source": [
    "Similarly, you can use the _barh_ method, or pass the kind='barh' to plot a grouped horizontal bar graph:"
   ]
  },
  {
   "cell_type": "code",
   "execution_count": 5,
   "metadata": {},
   "outputs": [
    {
     "data": {
      "image/png": "[encoded data removed]",
      "text/plain": [
       "<Figure size 432x288 with 1 Axes>"
      ]
     },
     "metadata": {
      "needs_background": "light"
     },
     "output_type": "display_data"
    }
   ],
   "source": [
    "df.plot.barh();\n",
    "#df.plot(kind='barh');"
   ]
  },
  {
   "cell_type": "markdown",
   "metadata": {},
   "source": [
    "In a similar fashion, you can draw a stacked horizontal bar graph:"
   ]
  },
  {
   "cell_type": "code",
   "execution_count": 6,
   "metadata": {},
   "outputs": [
    {
     "data": {
      "image/png": "[encoded data removed]",
      "text/plain": [
       "<Figure size 432x288 with 1 Axes>"
      ]
     },
     "metadata": {
      "needs_background": "light"
     },
     "output_type": "display_data"
    }
   ],
   "source": [
    "df.plot.barh(stacked=True);"
   ]
  },
  {
   "cell_type": "markdown",
   "metadata": {},
   "source": [
    "### Format of plot\n",
    "It is worth mentioning that the [pandas DataFrame plot, bar, and barh methods](https://soardeepsci.com/data-visualization-in-python/) come with numerous keyword arguments to control the format of the produced plot, some of which are shown in the following code snippet when drawing a stacked horizontal bar graph:"
   ]
  },
  {
   "cell_type": "code",
   "execution_count": 7,
   "metadata": {},
   "outputs": [
    {
     "data": {
      "image/png": "[encoded data removed]",
      "text/plain": [
       "<Figure size 432x288 with 1 Axes>"
      ]
     },
     "metadata": {
      "needs_background": "light"
     },
     "output_type": "display_data"
    }
   ],
   "source": [
    "df.plot.barh(stacked=True,\n",
    "    ylabel='Label for y-axis', \n",
    "    title='Title for figure',\n",
    "    fontsize=13,\n",
    "    rot=45, #rotation for ticks\n",
    "    alpha=0.6, #transparency of a graph plot\n",
    ");"
   ]
  },
  {
   "cell_type": "markdown",
   "metadata": {},
   "source": [
    "# Stacked bar chart | Python Matplotlib"
   ]
  },
  {
   "cell_type": "markdown",
   "metadata": {},
   "source": [
    "The other option to draw stacked bar charts in **Python** is to use the low-level library of **Matplotlib**:"
   ]
  },
  {
   "cell_type": "code",
   "execution_count": 8,
   "metadata": {},
   "outputs": [
    {
     "data": {
      "image/png": "[encoded data removed]",
      "text/plain": [
       "<Figure size 504x288 with 1 Axes>"
      ]
     },
     "metadata": {
      "needs_background": "light"
     },
     "output_type": "display_data"
    }
   ],
   "source": [
    "fig, ax = plt.subplots(figsize=(7,4))\n",
    "\n",
    "bar_width=0.5\n",
    "bar1 = ax.bar(df.index, df.a, width = bar_width, label='a')\n",
    "bar2 = ax.bar(df.index, df.b, width = bar_width, bottom=df.a, label='b')\n",
    "bar3 = ax.bar(df.index, df.c, width = bar_width, bottom=df.a+df.b, label='c')\n",
    "\n",
    "ax.set_xlabel('Major categories')\n",
    "ax.set_ylabel('Value of categories and subcategories')\n",
    "ax.set_title('Stacked bar chart')\n",
    "ax.legend()\n",
    "\n",
    "# adding labels\n",
    "ax.bar_label(bar1, labels=df.a, label_type='center', padding=0, color='white', fontsize=12);\n",
    "ax.bar_label(bar2, labels=df.b, label_type='center', padding=0, color='white', fontsize=12);\n",
    "ax.bar_label(bar3, labels=df.c, label_type='center', padding=0, color='white', fontsize=12);\n",
    "\n",
    "# adding label on top of bars\n",
    "ax.bar_label(bar3, labels=df.a+df.b+df.c, padding=0, color='b', fontsize=15);\n",
    "\n",
    "# setring the upper limit of y-axis\n",
    "ax.set_ylim(top=20);"
   ]
  },
  {
   "cell_type": "markdown",
   "metadata": {},
   "source": [
    "The amount of coding needed in this approach is way more than that in the case of using the high-level interfaces of _pandas_. However, the flexibility offered by **Matplotlib** is beyond incredible! Just look at how many different cool features you can use to make your graph more informative and more appealing."
   ]
  },
  {
   "cell_type": "markdown",
   "metadata": {},
   "source": [
    "## Stacked horizontal bar graph with Python Matplotlib"
   ]
  },
  {
   "cell_type": "markdown",
   "metadata": {},
   "source": [
    "Similarly, you can use the _barh_ method to plot a grouped horizontal bar graph:"
   ]
  },
  {
   "cell_type": "code",
   "execution_count": 9,
   "metadata": {},
   "outputs": [
    {
     "data": {
      "image/png": "[encoded data removed]",
      "text/plain": [
       "<Figure size 504x288 with 1 Axes>"
      ]
     },
     "metadata": {
      "needs_background": "light"
     },
     "output_type": "display_data"
    }
   ],
   "source": [
    "fig, ax = plt.subplots(figsize=(7,4))\n",
    "\n",
    "bar_height=0.7\n",
    "bar1 = ax.barh(df.index, df.a, height = bar_height, label='a')\n",
    "bar2 = ax.barh(df.index, df.b, height = bar_height, label='b', left=df.a)\n",
    "bar3 = ax.barh(df.index, df.c, height = bar_height, label='c', left=df.a+df.b)\n",
    "\n",
    "ax.set_xlabel('Major categories')\n",
    "ax.set_ylabel('Value of categories and subcategories')\n",
    "ax.set_title('Stacked horizontal bar graph')\n",
    "ax.legend()\n",
    "\n",
    "# adding labels\n",
    "ax.bar_label(bar1, labels=df.a, label_type='center', padding=0, color='white', fontsize=12);\n",
    "ax.bar_label(bar2, labels=df.b, label_type='center', padding=0, color='white', fontsize=12);\n",
    "ax.bar_label(bar3, labels=df.c, label_type='center', padding=0, color='white', fontsize=12);\n",
    "\n",
    "# adding label on top of bars\n",
    "ax.bar_label(bar3, labels=df.a+df.b+df.c, padding=3, color='b', fontsize=15);\n",
    "\n",
    "# setring the upper limit of y-axis\n",
    "ax.set_xlim(0, 20);"
   ]
  },
  {
   "cell_type": "markdown",
   "metadata": {},
   "source": [
    "### Matplotlib | bar reverse order\n",
    "You can also reverse the order of bars by using the method \"invert_yaxis\":"
   ]
  },
  {
   "cell_type": "code",
   "execution_count": 10,
   "metadata": {},
   "outputs": [
    {
     "data": {
      "image/png": "[encoded data removed]",
      "text/plain": [
       "<Figure size 504x288 with 1 Axes>"
      ]
     },
     "metadata": {
      "needs_background": "light"
     },
     "output_type": "display_data"
    }
   ],
   "source": [
    "fig, ax = plt.subplots(figsize=(7,4))\n",
    "\n",
    "bar_height=0.7\n",
    "bar1 = ax.barh(df.index, df.a, height = bar_height, label='a')\n",
    "bar2 = ax.barh(df.index, df.b, height = bar_height, label='b', left=df.a)\n",
    "bar3 = ax.barh(df.index, df.c, height = bar_height, label='c', left=df.a+df.b)\n",
    "\n",
    "ax.set_xlabel('Major categories')\n",
    "ax.set_ylabel('Value of categories and subcategories')\n",
    "ax.set_title('Stacked bar chart')\n",
    "ax.legend()\n",
    "\n",
    "# adding labels\n",
    "ax.bar_label(bar1, labels=df.a, label_type='center', padding=0, color='white', fontsize=12);\n",
    "ax.bar_label(bar2, labels=df.b, label_type='center', padding=0, color='white', fontsize=12);\n",
    "ax.bar_label(bar3, labels=df.c, label_type='center', padding=0, color='white', fontsize=12);\n",
    "\n",
    "# adding label on top of bars\n",
    "ax.bar_label(bar3, labels=df.a+df.b+df.c, padding=3, color='b', fontsize=15);\n",
    "\n",
    "# setring the upper limit of y-axis\n",
    "ax.set_xlim(0, 20);\n",
    "\n",
    "# labels read top-to-bottom\n",
    "ax.invert_yaxis() "
   ]
  },
  {
   "cell_type": "markdown",
   "metadata": {},
   "source": [
    "# Summary\n",
    "\n",
    "In this tutorial, we discussed how to draw stacked bar chart in **Python** by using the _pandas_, and _Matplotlib_ libraries. \n",
    "In particular, you learnt how to produce both types of vertical and horizontal bar graph.\n",
    "\n",
    "You saw that the high-level interfaces provided by _pandas_ such as _bar_ and _barh_, which are wrapped around _Matplotlib_, enable you to draw grouped or stacked bar chart with the minimal amount of coding.\n",
    "On the other side, the low-level library of _Matplotlib_ provides with a high level of flexibility. \n",
    "It offers so many formatting features, which allows the creation of highly-complex and informative data visualizations. Feel free to find more detailed information in our [Data visualization in Python](https://soardeepsci.com/data-visualization-in-python/) tutorial.\n",
    "\n",
    "Hopefully, this tutorial was able to help you with some of the basics of Python and data visualization. \n",
    "Feel free to check out the rest of the articles on [SoarDeepSci](https://soardeepsci.com/blog/)."
   ]
  }
 ],
 "metadata": {
  "kernelspec": {
   "display_name": "Python 3",
   "language": "python",
   "name": "python3"
  },
  "language_info": {
   "codemirror_mode": {
    "name": "ipython",
    "version": 3
   },
   "file_extension": ".py",
   "mimetype": "text/x-python",
   "name": "python",
   "nbconvert_exporter": "python",
   "pygments_lexer": "ipython3",
   "version": "3.8.5"
  }
 },
 "nbformat": 4,
 "nbformat_minor": 4
}
