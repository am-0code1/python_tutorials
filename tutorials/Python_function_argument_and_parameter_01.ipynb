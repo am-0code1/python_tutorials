{
 "cells": [
  {
   "cell_type": "markdown",
   "metadata": {},
   "source": [
    "# Python function argument and parameter\n",
    "\n",
    "### Importance\n",
    "***Function*** is a crucially important part of the Python programming language.\n",
    "It is, therefore, important to understand some of the most important concepts:<br>\n",
    "\n",
    "\\- What is a function parameter?<br>\n",
    "\\- What is a function argument?<br>\n",
    "\\- What types of function parameter are there in Python?<br>\n",
    "\\- What types of function argument are there in Python?<br>\n",
    "\\- What is the protocol dictating the behavior of the function call in Python?<br>\n",
    "\\- What is the correct order of parameter types when defining a function in Python?<br>\n",
    "\\- What is the correct order of argument types when calling a function in Python?<br>\n",
    "\n",
    "\n",
    "### Scope of tutorial and what you learn\n",
    "\n",
    "In this tutorial, we introduce two important concepts in Python: argument and parameter. We discuss different types of argument and parameter in detail. We also present a detailed discussion on the function call behavior, and the correct order of the parameter types.\n",
    "\n",
    "With that being said, here is the outline of this tutorial:\n",
    "\n",
    "### Outline\n",
    "\n",
    "\\- [Python parameter](#python-parameter)<br>\n",
    "\\- [Python argument](#python-argument)<br>\n",
    "\\- [Difference between argument and parameter](#python-difference-argument-parameter)<br>\n",
    "\\- [Different types of argument in Python](#python-argument-types)<br>\n",
    "\\- [Different types of parameter in Python](#python-parameter-types)<br>\n",
    "\\- [Python function arguments and parameters | some nuances](#python-nuances)<br>\n",
    "&emsp;\\- [Conflict of var-positional and positional-or-keyword parameters](#conflict-var-positional-keyword)<br>\n",
    "&emsp;\\- [Python function call behavior](#python-function-call-behavior)<br>\n",
    "\\- [Quiz](#python-quiz)<br>"
   ]
  },
  {
   "cell_type": "markdown",
   "metadata": {},
   "source": [
    "<a id='python-parameter'></a>\n",
    "## Python parameter\n",
    "\n",
    "<font color=\"darkred\">What is a parameter in Python?</font>\n",
    "\n",
    "When we define a function or method, we quite often work with one or multiple variables inside the function implementation.\n",
    "We usually want to enable the _user_ to specify the value for one or multiple of such variables. \n",
    "In order to do that, we introduce a list of names or identifiers, right where the function is defined, to define what types of argument(s) the function or method can accept.\n",
    "Each of those names/identifiers is a **parameter**.\n",
    "\n",
    "As an example, _width_ and _height_ in the following example are the parameters of the function _calcarea_:"
   ]
  },
  {
   "cell_type": "code",
   "execution_count": 1,
   "metadata": {},
   "outputs": [],
   "source": [
    "def calcarea(width, height):\n",
    "    return width*height"
   ]
  },
  {
   "cell_type": "markdown",
   "metadata": {},
   "source": [
    "<a id='python-argument'></a>\n",
    "## Python argument\n",
    "\n",
    "<font color=\"darkred\">What is an argument in Python?</font>\n",
    "\n",
    "It happens quite often that when we call a function/method, we would like the function/method to take some specific value(s) and take it into account when performing the processes.\n",
    "A value that we pass to a function or method when calling that function or method is called an **argument**. \n",
    "\n",
    "In the following example, we pass the values 2 and 4 (arguments) to the previously-defined function _calcarea_.\n",
    "The function, then, calculate the area of a rectangle with the given dimensions, and returns the result."
   ]
  },
  {
   "cell_type": "code",
   "execution_count": 2,
   "metadata": {},
   "outputs": [
    {
     "data": {
      "text/plain": [
       "8"
      ]
     },
     "execution_count": 2,
     "metadata": {},
     "output_type": "execute_result"
    }
   ],
   "source": [
    "calcarea(2, 4)"
   ]
  },
  {
   "cell_type": "markdown",
   "metadata": {},
   "source": [
    "In this example, 2 and 4 are the arguments passed to the function _calcarea_."
   ]
  },
  {
   "cell_type": "markdown",
   "metadata": {},
   "source": [
    "<a id='python-difference-argument-parameter'></a>\n",
    "## Difference between argument and parameter\n",
    "\n",
    "Now, that you have learnt about argument and parameter, you better understand the difference between them:<br>\n",
    "\n",
    "<font color=\"green\">\"Parameter\" refers to the name/identifier that appears in a function definition, while \"argument\" is the specific value that is passed to the function or method when it is called.</font> \n",
    "\n",
    "For example, in the following code snippet, _fname_ and _lname_ are parameters, while 'Joe' and 'Smith' are arguments."
   ]
  },
  {
   "cell_type": "code",
   "execution_count": 3,
   "metadata": {},
   "outputs": [
    {
     "data": {
      "text/plain": [
       "'Joe Smith'"
      ]
     },
     "execution_count": 3,
     "metadata": {},
     "output_type": "execute_result"
    }
   ],
   "source": [
    "def full_name(fname, lname):\n",
    "    return fname + ' ' + lname\n",
    "\n",
    "full_name('Joe', 'Smith')"
   ]
  },
  {
   "cell_type": "markdown",
   "metadata": {},
   "source": [
    "Now, let's take a look at different types of argument in Python."
   ]
  },
  {
   "cell_type": "markdown",
   "metadata": {},
   "source": [
    "<a id='python-argument-types'></a>\n",
    "## Python function argument types\n",
    "\n",
    "There are two types of argument in Python: **positional argument** and **keyword argument**. Let me explain how they work."
   ]
  },
  {
   "cell_type": "markdown",
   "metadata": {},
   "source": [
    "### Python keyword argument\n",
    "\n",
    "When we call a function or method, if we specify a name (identifier) for the argument, _e.g._ x=2, then, we have passed a **keyword argument** to that function or method.\n",
    "\n",
    "Let's look at the following code snippet, wherein the function has two parameters: _base_ and _exponent_."
   ]
  },
  {
   "cell_type": "code",
   "execution_count": 4,
   "metadata": {
    "scrolled": false
   },
   "outputs": [
    {
     "name": "stdout",
     "output_type": "stream",
     "text": [
      "16\n",
      "16\n"
     ]
    }
   ],
   "source": [
    "def mypowerfunc(base, exponent):\n",
    "    return base ** exponent\n",
    "\n",
    "print(mypowerfunc(base=2, exponent=4))\n",
    "print(mypowerfunc(exponent=4, base=2))"
   ]
  },
  {
   "cell_type": "markdown",
   "metadata": {},
   "source": [
    "When you call the function, you can pass the arguments with their corresponding keyword (name/identifier).\n",
    "You can see from the example that the order of keyword arguments is not important."
   ]
  },
  {
   "cell_type": "markdown",
   "metadata": {},
   "source": [
    "### Passing keyword arguments as a dictionary\n",
    "\n",
    "Another way of passing a keyword argument is to pass it in a dictionary preceded by a double asterisk (\\*\\*).\n",
    "\n",
    "As an example, we can pass the keyword arguments to our previously-defined function _mypowerfunc_ as follows:"
   ]
  },
  {
   "cell_type": "code",
   "execution_count": 5,
   "metadata": {},
   "outputs": [
    {
     "name": "stdout",
     "output_type": "stream",
     "text": [
      "16\n",
      "16\n"
     ]
    }
   ],
   "source": [
    "print(mypowerfunc(**{'base':2, 'exponent':4}))\n",
    "print(mypowerfunc(**{'exponent':4, 'base':2}))"
   ]
  },
  {
   "cell_type": "markdown",
   "metadata": {},
   "source": [
    "### Python positional argument\n",
    "\n",
    "When we call a function or method, any argument that is not a keyword argument is a **positional argument**.\n",
    "There are two options to pass positional arguments to a function or method:\n",
    "they can be placed at the beginning of the argument list, and/or be passed as elements of an iterable preceded by the asterisk symbol (\\*).\n",
    "\n",
    "Let's look at the following code snippet, which uses the previously-defined function _mypowerfunc_.\n",
    "It shows different options you can pass the positional arguments:"
   ]
  },
  {
   "cell_type": "code",
   "execution_count": 6,
   "metadata": {},
   "outputs": [
    {
     "name": "stdout",
     "output_type": "stream",
     "text": [
      "16\n",
      "16\n",
      "16\n",
      "16\n",
      "16\n",
      "16\n"
     ]
    }
   ],
   "source": [
    "print( mypowerfunc(2, 4) )\n",
    "print( mypowerfunc(*(2, 4)) ) #tuple as iterable\n",
    "print( mypowerfunc(*[2, 4]) ) #list as iterable\n",
    "print( mypowerfunc(2, *(4,)) )\n",
    "print( mypowerfunc(*(2,), *(4,)) )\n",
    "print( mypowerfunc(*(2,), 4) )"
   ]
  },
  {
   "cell_type": "markdown",
   "metadata": {},
   "source": [
    "You can also pass both keyword and positional arguments simultaneously.\n",
    "However, please, note that <font color=\"green\">you cannot pass a positional argument after a keyword argument.</font>\n",
    "For example, if you try to pass arguments as _mypowerfunc(base=2, 4)_, you would get:<br>\n",
    "\n",
    "**SyntaxError: positional argument follows keyword argument**.\n",
    "\n",
    "Here is an example showing how both positional and keyword arguments can be passed together:"
   ]
  },
  {
   "cell_type": "code",
   "execution_count": 7,
   "metadata": {},
   "outputs": [
    {
     "name": "stdout",
     "output_type": "stream",
     "text": [
      "16\n"
     ]
    }
   ],
   "source": [
    "print( mypowerfunc(2, exponent=4) )"
   ]
  },
  {
   "cell_type": "markdown",
   "metadata": {},
   "source": [
    "### Python optional (default) arguments"
   ]
  },
  {
   "cell_type": "markdown",
   "metadata": {},
   "source": [
    "When defining a function or method, you can specify default values for parameters.\n",
    "The corresponding arguments will, then, become optional; user can pass other values, or skip it for the default values to be taken into account. The following code snippet shows you an example:"
   ]
  },
  {
   "cell_type": "code",
   "execution_count": 8,
   "metadata": {},
   "outputs": [
    {
     "name": "stdout",
     "output_type": "stream",
     "text": [
      "----------\n",
      "11\n",
      "11\n",
      "----------\n",
      "6\n",
      "6\n",
      "6\n",
      "----------\n"
     ]
    }
   ],
   "source": [
    "def myaddfunc(x, y=10):\n",
    "    return x+y\n",
    "\n",
    "print('-'*10)\n",
    "print(myaddfunc(1))\n",
    "print(myaddfunc(1, 10))\n",
    "print('-'*10)\n",
    "\n",
    "print(myaddfunc(1, 5))\n",
    "print(myaddfunc(1, y=5))\n",
    "print(myaddfunc(x=1, y=5))\n",
    "print('-'*10)"
   ]
  },
  {
   "cell_type": "markdown",
   "metadata": {},
   "source": [
    "<a id='python-parameter-types'></a>\n",
    "## Python function parameter types\n",
    "\n",
    "There are five types of parameter in Python: **positional-or-keyword**, **positional-only**, **keyword-only**, **var-positional**, and **var-keyword**. \n",
    "\n",
    "Let me explain how each one works."
   ]
  },
  {
   "cell_type": "markdown",
   "metadata": {},
   "source": [
    "### Python parameter | positional-or-keyword\n",
    "\n",
    "This is the default type of parameter in Python. It specifies an argument that can be passed either as a positional argument or as a keyword argument.\n",
    "\n",
    "For example, _x_ and _y_ in the following function fall under this category."
   ]
  },
  {
   "cell_type": "code",
   "execution_count": 9,
   "metadata": {},
   "outputs": [
    {
     "name": "stdout",
     "output_type": "stream",
     "text": [
      "30\n",
      "30\n"
     ]
    }
   ],
   "source": [
    "def myfunc(x, y=1):\n",
    "    return x + y\n",
    "\n",
    "print(myfunc(10, 20))#argument can be passed positionally\n",
    "print(myfunc(x=10, y=20))#argument can be passed by keyword"
   ]
  },
  {
   "cell_type": "markdown",
   "metadata": {},
   "source": [
    "### Python parameter | positional-only\n",
    "\n",
    "The **positional-only** parameter specifies an argument that can be passed only by position. The positional-only parameters can be defined by placing a forward slash character (/) after them in the parameter list of the function definition. That is, the forward slash character (/) signifies the end of the positional only parameters.\n",
    "\n",
    "For example, _x_ and _y_ in the following function fall under the category of **positional-only** parameters."
   ]
  },
  {
   "cell_type": "code",
   "execution_count": 10,
   "metadata": {},
   "outputs": [
    {
     "name": "stdout",
     "output_type": "stream",
     "text": [
      "100\n",
      "100\n"
     ]
    }
   ],
   "source": [
    "def myfunc(x, y, /, a, b=1):\n",
    "    return x + y + a + b\n",
    "\n",
    "print(myfunc(10, 20, a=30, b=40))\n",
    "print(myfunc(10, 20, 30, b=40))"
   ]
  },
  {
   "cell_type": "markdown",
   "metadata": {},
   "source": [
    "Please, note that a function call like ***myfunc(10, 20, a=30, 40)*** results in an error:\n",
    "\n",
    "<font color=\"darkred\">SyntaxError: positional argument follows keyword argument</font>,\n",
    "\n",
    "due to placing a positional argument (40) after a keyword argument (30)."
   ]
  },
  {
   "cell_type": "markdown",
   "metadata": {},
   "source": [
    "Additionally, a function call like ***myfunc(10, y=20, a=30, b=40)*** results in an error:\n",
    "\n",
    "<font color=\"darkred\">TypeError: myfunc() got some positional-only arguments passed as keyword arguments: 'y'</font>,\n",
    "\n",
    "due to passing a keyword argument (y=20) for a **positional-only** parameter."
   ]
  },
  {
   "cell_type": "markdown",
   "metadata": {},
   "source": [
    "### Python parameter | keyword-only\n",
    "\n",
    "The **keyword-only** parameter specifies an argument that can be passed only by keyword. The keyword-only parameters can be defined by placing the asterisk symbol (\\*) before them in the parameter list of the function definition.\n",
    "That is, the asterisk symbol (\\*) signifies the beginning of the keyword-only parameters.\n",
    "\n",
    "As a side-note which will be clarified later,\n",
    "in case there is a **var-positional** parameter in the parameter list of function definition, the **keyword-only** parameters are placed after the **var-positional** parameter without an extra asterisk, since the **var-positional** parameter’s name, itself, is proceeded by the asterisk symbol. We will discuss it in more detail later.\n",
    "\n",
    "In the following example, _m_ and _n_ in the following function fall under the category of **keyword-only** parameters."
   ]
  },
  {
   "cell_type": "code",
   "execution_count": 11,
   "metadata": {},
   "outputs": [
    {
     "name": "stdout",
     "output_type": "stream",
     "text": [
      "160\n",
      "210\n"
     ]
    }
   ],
   "source": [
    "def myfunc(x, y, /, a, b=1, *, m, n=10):\n",
    "    return x + y + a + b + m + n\n",
    "\n",
    "print(myfunc(10, 20, 30, b=40, m=50))\n",
    "print(myfunc(10, 20, 30, b=40, m=50, n=60))"
   ]
  },
  {
   "cell_type": "markdown",
   "metadata": {},
   "source": [
    "### Python parameter | var-positional\n",
    "\n",
    "The **var-positional** parameter serves as a placeholder for an arbitrary sequence of positional arguments that can be potentially provided when calling the function or method, in addition to any other positional arguments already accepted by other parameters.\n",
    "\n",
    "A **var-positional** parameter is defined by prepending the parameter name with the asterisk symbol (\\*). Although, _args_ is conventionally used as a var-positional parameter's name, you can choose other valid names too, _e.g._ _*myargs_ in the following example shows a **var-positional** parameter."
   ]
  },
  {
   "cell_type": "code",
   "execution_count": 12,
   "metadata": {},
   "outputs": [
    {
     "name": "stdout",
     "output_type": "stream",
     "text": [
      "x=10, y=20, a=30, b=40\n",
      "var-positional: (80, 90, 100)\n",
      "---------------------------------------- \n",
      "\n",
      "x=10, y=20, a=30, b=40\n",
      "var-positional: (80, 90, 100)\n",
      "---------------------------------------- \n",
      "\n"
     ]
    }
   ],
   "source": [
    "def myfunc(x, y, /, a, b=1, *myargs):\n",
    "    print(f'x={x}, y={y}, a={a}, b={b}')\n",
    "    print(f'var-positional: {myargs}')\n",
    "    pass\n",
    "\n",
    "myfunc(10, 20, 30, 40, *(80,90,100,))\n",
    "print('-'*40,'\\n')\n",
    "\n",
    "myfunc(10, 20, 30, 40, 80,90,100)\n",
    "print('-'*40,'\\n')"
   ]
  },
  {
   "cell_type": "markdown",
   "metadata": {},
   "source": [
    "There are some nuances that should be discussed with regard to the order of parameters with different types, default arguments, errors that you may get by not meeting the Python requirements, etc. I will get back to some of them in the following sections. For now, let's move on to the last type of function parameter: **var-keyword**."
   ]
  },
  {
   "cell_type": "markdown",
   "metadata": {},
   "source": [
    "### Python parameter | var-keyword\n",
    "\n",
    "The **var-keyword** parameter serves as a placeholder for an arbitrary sequence of keyword arguments that can be potentially provided when calling the function or method, in addition to any other keyword arguments already accepted by other parameters.\n",
    "\n",
    "A **var-keyword** parameter is defined by prepending the parameter name with a double asterisk (\\*\\*). Although, _kwargs_ is conventionally used as a var-keyword parameter's name, you can choose other valid names too, _e.g._ _*mykwargs_ in the following example shows a **var-keyword** parameter."
   ]
  },
  {
   "cell_type": "code",
   "execution_count": 13,
   "metadata": {
    "scrolled": true
   },
   "outputs": [
    {
     "name": "stdout",
     "output_type": "stream",
     "text": [
      "x=10, y=20, a=30, b=1\n",
      "var-positional: ()\n",
      "var-keyword: {'apple': 'red', 'orange': 'orange', 'banana': 'yellow'}\n",
      "---------------------------------------------------------------------- \n",
      "\n",
      "x=10, y=20, a=30, b=1\n",
      "var-positional: (40, 80, 90, 100)\n",
      "var-keyword: {'apple': 'red', 'orange': 'orange', 'banana': 'yellow'}\n",
      "---------------------------------------------------------------------- \n",
      "\n",
      "x=10, y=20, a=30, b=40\n",
      "var-positional: (80, 90, 100)\n",
      "var-keyword: {'apple': 'red', 'orange': 'orange', 'banana': 'yellow'}\n",
      "---------------------------------------------------------------------- \n",
      "\n",
      "x=10, y=20, a=30, b=40\n",
      "var-positional: (80, 90, 100)\n",
      "var-keyword: {'apple': 'red', 'orange': 'orange', 'banana': 'yellow'}\n",
      "---------------------------------------------------------------------- \n",
      "\n"
     ]
    }
   ],
   "source": [
    "def myfunc(x, y, /, a, *myargs, b=1, **mykwargs):\n",
    "    print(f'x={x}, y={y}, a={a}, b={b}')\n",
    "    print(f'var-positional: {myargs}')\n",
    "    print(f'var-keyword: {mykwargs}')\n",
    "    pass\n",
    "\n",
    "myfunc(10, 20, 30, apple='red', orange='orange', banana='yellow')\n",
    "print('-'*70,'\\n')\n",
    "\n",
    "myfunc(10, 20, 30, 40, 80,90,100, apple='red', orange='orange', banana='yellow')\n",
    "print('-'*70,'\\n')\n",
    "\n",
    "myfunc(10, 20, 30, 80,90,100, b=40, apple='red', orange='orange', banana='yellow')\n",
    "print('-'*70,'\\n')\n",
    "\n",
    "myfunc(10, 20, 30, *(80,90,100), b=40, **{'apple':'red', 'orange':'orange', 'banana':'yellow'})\n",
    "print('-'*70,'\\n')"
   ]
  },
  {
   "cell_type": "markdown",
   "metadata": {},
   "source": [
    "Again, there are some nuances worth discussing regarding the order of parameters with different types, default arguments, errors that you may get by not meeting the Python requirements, etc. In the next section, I will be addressing some of them."
   ]
  },
  {
   "cell_type": "markdown",
   "metadata": {},
   "source": [
    "<a id='python-nuances'></a>\n",
    "# Python function arguments and parameters | some nuances "
   ]
  },
  {
   "cell_type": "markdown",
   "metadata": {},
   "source": [
    "The more types of parameters you include in your parameter list of function definition, the higher chances are to run into conflict with Python requirements. \n",
    "There is much discussion of [alternative syntax proposals](https://www.python.org/dev/peps/pep-3102/).\n",
    "As a result, Python standards can vary from one (major) version to another.\n",
    "So, you need to be cautious when working with different types of function parameter, particularly of **var-positional** and **var-keyword** types."
   ]
  },
  {
   "cell_type": "markdown",
   "metadata": {},
   "source": [
    "<a id='conflict-var-positional-keyword'></a>\n",
    "## Conflict of var-positional and positional-or-keyword parameters\n",
    "\n",
    "We know that the function-calling protocol in Python allows **positional-or-keyword** parameters to be filled in either explicitly by name, or implicitly by position.\n",
    "We also know that the **var-positional** parameter dictates that any _left over_ non-keyword arguments be passed into the **var-positional** parameter as a tuple."
   ]
  },
  {
   "cell_type": "markdown",
   "metadata": {},
   "source": [
    "For example, in the following code snippet, the arguments 80, 90, and 100 are passed to the **var-positional** parameter of _myargs_."
   ]
  },
  {
   "cell_type": "markdown",
   "metadata": {},
   "source": [
    "<a id='example_ref'></a>"
   ]
  },
  {
   "cell_type": "code",
   "execution_count": 14,
   "metadata": {},
   "outputs": [
    {
     "name": "stdout",
     "output_type": "stream",
     "text": [
      "x=10, y=20, a=30, b=40\n",
      "var-positional: (80, 90, 100)\n",
      "---------------------------------------- \n",
      "\n",
      "x=10, y=20, a=30, b=40\n",
      "var-positional: (80, 90, 100)\n",
      "---------------------------------------- \n",
      "\n"
     ]
    }
   ],
   "source": [
    "def bechmarkfunc(x, y, /, a, b=1, *myargs):\n",
    "    print(f'x={x}, y={y}, a={a}, b={b}')\n",
    "    print(f'var-positional: {myargs}')\n",
    "    pass\n",
    "\n",
    "bechmarkfunc(10, 20, 30, 40, *(80,90,100,))\n",
    "print('-'*40,'\\n')\n",
    "\n",
    "bechmarkfunc(10, 20, 30, 40, 80,90,100)\n",
    "print('-'*40,'\\n')"
   ]
  },
  {
   "cell_type": "markdown",
   "metadata": {},
   "source": [
    "Our current syntax in the above example is not desirable, since the function has a **var-positional** parameter that takes a variable number of arguments, but also takes an _optional_ argument.\n",
    "\n",
    "Here, the parameter _b_ allows an optional keyword argument.\n",
    "In our parameter list of function definition, the parameter _b_ is followed by the **var-positional** parameter _myargs_. \n",
    "What will happen if the function is called without passing the optional argument for _b_?!\n",
    "The expectation is that _b=1_ to be taken into account.\n",
    "But, here is what actually happens:"
   ]
  },
  {
   "cell_type": "code",
   "execution_count": 15,
   "metadata": {},
   "outputs": [
    {
     "name": "stdout",
     "output_type": "stream",
     "text": [
      "x=10, y=20, a=30, b=1\n",
      "var-positional: ()\n",
      "---------------------------------------- \n",
      "\n",
      "x=10, y=20, a=30, b=80\n",
      "var-positional: (90, 100)\n",
      "---------------------------------------- \n",
      "\n",
      "x=10, y=20, a=30, b=80\n",
      "var-positional: (90, 100)\n",
      "---------------------------------------- \n",
      "\n"
     ]
    }
   ],
   "source": [
    "bechmarkfunc(10, 20, 30)\n",
    "print('-'*40,'\\n')\n",
    "\n",
    "bechmarkfunc(10, 20, 30, *(80,90,100))\n",
    "print('-'*40,'\\n')\n",
    "\n",
    "bechmarkfunc(10, 20, 30, 80,90,100)\n",
    "print('-'*40,'\\n')"
   ]
  },
  {
   "cell_type": "markdown",
   "metadata": {},
   "source": [
    "Did you notice how the current syntax works?!\n",
    "\n",
    "For the first function call, there are only three positional arguments, which are assigned to slots _x_, _y_, and _a_. The slot _b_ takes the value of 1 by default. Everything is fine so far!\n",
    "\n",
    "The second and third function calls are basically the same with the only difference in the way the positional arguments are introduced:\n",
    "using an iterable preceded by the asterisk symbol \\* (second function call), or\n",
    "as multiple individual arguments (third function call).\n",
    "The outcome of both is wrong though! \n",
    "\n",
    "<font color=\"darkred\">We wanted the optional parameter \"b\" to take the default value of 1, but the first argument from the var-positional parameter, 80, is undesirably passed to slot \"b\" for all the argument slots to be filled in, and only then, the var-positional slot \"myargs\" itself is filled by taking the left over of positional arguments: 90 and 100.</font>\n",
    "\n",
    "This erroneous behavior can be resolved by following the proposed change in [PEP 3102](https://www.python.org/dev/peps/pep-3102/): appearance of optional (default) keyword-only parameters after the var-positional parameter as follows."
   ]
  },
  {
   "cell_type": "code",
   "execution_count": 16,
   "metadata": {},
   "outputs": [],
   "source": [
    "def bechmarkfunc_revised(x, y, /, a, *myargs, b=1):\n",
    "    print(f'x={x}, y={y}, a={a}, b={b}')\n",
    "    print(f'var-positional: {myargs}')\n",
    "    pass"
   ]
  },
  {
   "cell_type": "markdown",
   "metadata": {},
   "source": [
    "Now, let's look at different function calls:"
   ]
  },
  {
   "cell_type": "code",
   "execution_count": 17,
   "metadata": {},
   "outputs": [
    {
     "name": "stdout",
     "output_type": "stream",
     "text": [
      "x=10, y=20, a=30, b=1\n",
      "var-positional: (80, 90, 100)\n",
      "---------------------------------------- \n",
      "\n",
      "x=10, y=20, a=30, b=1\n",
      "var-positional: (80, 90, 100)\n",
      "---------------------------------------- \n",
      "\n",
      "x=10, y=20, a=30, b=1\n",
      "var-positional: (80, 90, 100)\n",
      "---------------------------------------- \n",
      "\n",
      "x=10, y=20, a=30, b=1\n",
      "var-positional: (40, 80, 90, 100)\n",
      "---------------------------------------- \n",
      "\n",
      "x=10, y=20, a=30, b=1\n",
      "var-positional: (40, 80, 90, 100)\n",
      "---------------------------------------- \n",
      "\n"
     ]
    }
   ],
   "source": [
    "bechmarkfunc_revised(10, 20, 30, *(80,90,100))\n",
    "print('-'*40,'\\n')\n",
    "\n",
    "bechmarkfunc_revised(10, 20, 30, *(80,90,100))\n",
    "print('-'*40,'\\n')\n",
    "\n",
    "bechmarkfunc_revised(10, 20, 30, 80,90,100)\n",
    "print('-'*40,'\\n')\n",
    "\n",
    "bechmarkfunc_revised(10, 20, 30, 40, *(80,90,100,))\n",
    "print('-'*40,'\\n')\n",
    "\n",
    "bechmarkfunc_revised(10, 20, 30, 40, 80,90,100)\n",
    "print('-'*40,'\\n')"
   ]
  },
  {
   "cell_type": "markdown",
   "metadata": {},
   "source": [
    "We can see that, now, we can simply skip the optional argument, and the default **keyword-only** parameter _b_ is correctly assigned the default value of 1.\n",
    "\n",
    "In the second and third function calls, the first three positional arguments (10, 20, and 30) are assigned to _x_, _y_, and _a_, while the rest of positional arguments (80, 90, and 100) are taken by the var-positional parameter _myargs_. Finally, since the optional argument is skipped, the default keyword-only parameter _b_ takes the default value of 1.\n",
    "\n",
    "In the fourth and fifth function calls, the first three positional arguments (10, 20, and 30) are assigned to _x_, _y_, and _a_, while the rest of positional arguments (40, 80, 90, and 100) are taken by the var-positional parameter _myargs_. Finally, since the optional argument is skipped, the default keyword-only parameter _b_ takes the default value of 1. \n",
    "\n",
    "<font color=\"darkred\">So, are we good now?! Well, not yet!!!</font>\n",
    "\n",
    "Before discussing why, let's see how we can pass an argument to be assigned to slot _b_.\n",
    "Well, that is easy. You just need to pass a key-word argument to accomplish that:"
   ]
  },
  {
   "cell_type": "code",
   "execution_count": 18,
   "metadata": {},
   "outputs": [
    {
     "name": "stdout",
     "output_type": "stream",
     "text": [
      "x=10, y=20, a=30, b=40\n",
      "var-positional: (80, 90, 100)\n",
      "---------------------------------------- \n",
      "\n",
      "x=10, y=20, a=30, b=40\n",
      "var-positional: (80, 90, 100)\n",
      "---------------------------------------- \n",
      "\n"
     ]
    }
   ],
   "source": [
    "bechmarkfunc_revised(10, 20, 30, *(80,90,100), b=40)\n",
    "print('-'*40,'\\n')\n",
    "\n",
    "bechmarkfunc_revised(10, 20, 30, 80,90,100, b=40)\n",
    "print('-'*40,'\\n')"
   ]
  },
  {
   "cell_type": "markdown",
   "metadata": {},
   "source": [
    "However, please, note that in case the optional argument wants to be placed before the arguments related to the va-positional parameter, we need to use an iterable preceded by the asterisk symbol (\\*) for introducing the arguments related to the va-positional parameter.\n",
    "\n",
    "For example, the following syntax works well as a function call:"
   ]
  },
  {
   "cell_type": "code",
   "execution_count": 19,
   "metadata": {},
   "outputs": [
    {
     "name": "stdout",
     "output_type": "stream",
     "text": [
      "x=10, y=20, a=30, b=40\n",
      "var-positional: (80, 90, 100)\n"
     ]
    }
   ],
   "source": [
    "bechmarkfunc_revised(10, 20, 30, b=40, *(80,90,100))"
   ]
  },
  {
   "cell_type": "markdown",
   "metadata": {},
   "source": [
    "but, the function call ***bechmarkfunc_revised(10, 20, 30, b=40, 80,90,100)*** leads to a syntax error:\n",
    "\n",
    "<font color=\"darkred\">SyntaxError: positional argument follows keyword argument</font>"
   ]
  },
  {
   "cell_type": "markdown",
   "metadata": {},
   "source": [
    " "
   ]
  },
  {
   "cell_type": "markdown",
   "metadata": {},
   "source": [
    "<font color=\"green\">Now, let's get back to the discussion why our revised syntax is not quite good yet.</font>\n",
    "\n",
    "In the function calls considered above, the parameter \"a\" was always filled in with a positional argument. \n",
    "What if we want to pass a keyword argument to fill this **positional-or-keyword** paramter.\n",
    "\n",
    "It turns out that the function call ***bechmarkfunc_revised(10, 20, a=30, b=40, *(80,90,100))*** leads to the following error:\n",
    "\n",
    "<font color=\"darkred\">TypeError: bechmarkfunc_revised() got multiple values for argument 'a'</font>\n",
    "\n",
    "In the following section, we discuss the function call behavior in more detail, which explains the reason behind the observed error."
   ]
  },
  {
   "cell_type": "markdown",
   "metadata": {},
   "source": [
    "<a id='python-function-call-behavior'></a>\n",
    "## Python function call behavior\n",
    "\n",
    "Let's have a closer look at the function calling behavior in Python. \n",
    "Here is a brief description of how the input arguments are assigned to function parameters when a function is called. For more detailed information, please feel free to refer to [PEP 3102](https://www.python.org/dev/peps/pep-3102/#function-calling-behavior):\n",
    "\n",
    "**Note:** <font color=\"darkgreen\"> positional arguments are assigned first, followed by keyword arguments.</font>\n",
    "And, here are the steps:\n",
    "\n",
    "1\\. For each positional argument:\n",
    "\n",
    "\\- The argument is assigned to the first unfilled parameter slot. If the slot is not a var-positional slot, the slot is marked as _filled_.\n",
    "\n",
    "\\- If the next unfilled slot is a var-positional slot then all remaining non-keyword arguments are placed into the var-positional slot.\n",
    "\n",
    "2\\. For each keyword argument:\n",
    "\n",
    "\\- The argument value is assigned to the parameter slot with the same name as the keyword. \n",
    "\n",
    "\\- If there is not such parameter slot, in case there is a var-keyword parameter, the argument is added to the var-keyword parameter (keyword and value). If there is neither such parameter slot nor a var-keyword parameter, it results in an error.\n",
    "\n",
    "3\\. If the var-positional slot is not filled yet, it is assigned with an empty tuple.\n",
    "\n",
    "4\\. For each remaining empty slot, the slot is filled with the default value if there is any. Otherwise, it results in an error.\n",
    "\n",
    "\n",
    "\n"
   ]
  },
  {
   "cell_type": "markdown",
   "metadata": {},
   "source": [
    " "
   ]
  },
  {
   "cell_type": "markdown",
   "metadata": {},
   "source": [
    "Now, let's reconsider the previously-discussed function call that resulted in an error:\n",
    "\n",
    "**bechmarkfunc_revised(10, 20, a=30, b=40, *(80,90,100))**\n",
    "\n",
    "If we follow the function-calling protocol in Python step-by-step, we have:\n",
    "\n",
    "\\- 10 is the first positional argument, and is assigned to parameter _x_.<br>\n",
    "\\- 20 is the next positional argument, and is assigned to parameter _y_.<br>\n",
    "\\- 80 is the next positional argument, and is assigned to the next empty slot: parameter _a_.<br>\n",
    "\\- the next unfilled slot in the parameter list of function definition is a var-positional slot, _myargs_, so all remaining non-keyword arguments (90 and 100) are placed into the var-positional slot _myargs_.<br>\n",
    "\\- 30 is the first keyword argument, and tries to be assigned to the parameter with the same name as its keyword, _a_, but the parameter _a_ has been already filled in!!!<br>\n",
    "\n",
    "So, that is why we got that error!"
   ]
  },
  {
   "cell_type": "markdown",
   "metadata": {},
   "source": [
    "### Python function call behavior | more examples\n",
    "\n",
    "**Example #1:**<br>\n",
    "Let's look at another example. The following function call runs without any error:"
   ]
  },
  {
   "cell_type": "code",
   "execution_count": 20,
   "metadata": {},
   "outputs": [
    {
     "name": "stdout",
     "output_type": "stream",
     "text": [
      "x=10, y=20, a=80, b=1\n",
      "var-positional: (90, 100)\n"
     ]
    }
   ],
   "source": [
    "bechmarkfunc_revised(10, 20, *(80,90,100))"
   ]
  },
  {
   "cell_type": "markdown",
   "metadata": {},
   "source": [
    "Let's follow the function call behavior step-by-step:\n",
    "\n",
    "\\- 10 is the first positional argument, and is assigned to parameter _x_.<br>\n",
    "\\- 20 is the next positional argument, and is assigned to parameter _y_.<br>\n",
    "\\- 80 is the next positional argument, and is assigned to the next slot: parameter _a_.<br>\n",
    "\\- the next unfilled slot in the parameter list of function definition is a var-positional slot, so all remaining non-keyword arguments (90 and 100) are placed into the var-positional slot _myargs_.<br>\n",
    "\\- The remaining empty slot _b_ is filled with the default value of 1."
   ]
  },
  {
   "cell_type": "markdown",
   "metadata": {},
   "source": [
    "**Example #2:**<br>"
   ]
  },
  {
   "cell_type": "code",
   "execution_count": 21,
   "metadata": {},
   "outputs": [
    {
     "name": "stdout",
     "output_type": "stream",
     "text": [
      "x=10, y=20, a=80, b=40\n",
      "var-positional: (90, 100)\n"
     ]
    }
   ],
   "source": [
    "bechmarkfunc_revised(10, 20, b=40, *(80,90,100))"
   ]
  },
  {
   "cell_type": "markdown",
   "metadata": {},
   "source": [
    "\\- 10 is the first positional argument, and is assigned to parameter _x_.<br>\n",
    "\\- 20 is the next positional argument, and is assigned to parameter _y_.<br>\n",
    "\\- 80 is the next positional argument, and is assigned to the next slot: parameter _a_.<br>\n",
    "\\- the next unfilled slot in the parameter list of function definition is a var-positional slot, _myargs_, so all remaining non-keyword arguments (90 and 100) are placed into the var-positional slot _myargs_.<br>\n",
    "\\- 40 is the first keyword argument, and is assigned to the parameter with the same name as its keyword, _b_.<br>"
   ]
  },
  {
   "cell_type": "markdown",
   "metadata": {},
   "source": [
    "**Example #3:**<br>"
   ]
  },
  {
   "cell_type": "markdown",
   "metadata": {},
   "source": [
    "The main problem still exists. How to enable parameter _a_ to be assigned with a keyword argument?!\n",
    "\n",
    "Let's revise our function as follows:"
   ]
  },
  {
   "cell_type": "code",
   "execution_count": 22,
   "metadata": {},
   "outputs": [
    {
     "name": "stdout",
     "output_type": "stream",
     "text": [
      "x=10, y=20, a=50, b=40, c=80\n",
      "var-positional: (90, 100)\n"
     ]
    }
   ],
   "source": [
    "def myfunc3(x, y, c, *myargs, a, b=1):\n",
    "    print(f'x={x}, y={y}, a={a}, b={b}, c={c}')\n",
    "    print(f'var-positional: {myargs}')\n",
    "    pass\n",
    "\n",
    "myfunc3(10, 20, b=40, a=50, *(80,90,100))"
   ]
  },
  {
   "cell_type": "markdown",
   "metadata": {},
   "source": [
    "\\- 10 is the first positional argument, and is assigned to parameter _x_.<br>\n",
    "\\- 20 is the next positional argument, and is assigned to parameter _y_.<br>\n",
    "\\- 80 is the next positional argument, and is assigned to the next slot: parameter _c_.<br>\n",
    "\\- the next unfilled slot in the parameter list of function definition is a var-positional slot, _myargs_, so all remaining non-keyword arguments (90 and 100) are placed into the var-positional slot _myargs_.<br>\n",
    "\\- 40 is the first keyword argument, and is assigned to the parameter with the same name as its keyword, _b_.<br>\n",
    "\\- 50 is the next keyword argument, and is assigned to the parameter with the same name as its keyword, _a_.<br>"
   ]
  },
  {
   "cell_type": "markdown",
   "metadata": {},
   "source": [
    "So, did you notice anything cool here?! \n",
    "\n",
    "<font color=\"green\">Yes! You can avoid the \"positional-or-keyword\" parameter type when using the \"var-positional\" parameter. In that case, all \"positional-only\" parameters (if any) appear before the \"var-positional\" parameter, while all the \"keyword-only\" parameters (if any) come after the \"var-positional\" parameter.</font>\n",
    "\n",
    "This allows you to assign a keyword argument to keyword-only parameters regardless of having or not having a default value, _e.g._ \"a\" and \"b\" in this example."
   ]
  },
  {
   "cell_type": "markdown",
   "metadata": {},
   "source": [
    "### Order of parameter types for a general case"
   ]
  },
  {
   "cell_type": "markdown",
   "metadata": {},
   "source": [
    "Last but not least, with regard to the **var-keyword** parameter, keep it at the end of your parameter list of function definition. For example:"
   ]
  },
  {
   "cell_type": "code",
   "execution_count": 23,
   "metadata": {},
   "outputs": [],
   "source": [
    "def myfunc4(x, y, c, *myargs, a, b=1, p=-1, **mykwargs):\n",
    "    print(f'x={x}, y={y}, a={a}, b={b}, c={c}, p={p}')\n",
    "    print(f'var-positional: {myargs}')\n",
    "    print(f'var-positional: {mykwargs}')\n",
    "    pass"
   ]
  },
  {
   "cell_type": "code",
   "execution_count": 24,
   "metadata": {},
   "outputs": [
    {
     "name": "stdout",
     "output_type": "stream",
     "text": [
      "x=10, y=20, a=50, b=40, c=30, p=-1\n",
      "var-positional: (1000, 80, 90, 100)\n",
      "var-positional: {'vehicle': 'tricycle', 'color': 'red', 'size': 'medium'}\n",
      "-------------------------------------------------- \n",
      "\n"
     ]
    }
   ],
   "source": [
    "myfunc4(10, 20, 30, 1000, b=40, a=50, \n",
    "        vehicle='tricycle', *(80,90,100), \n",
    "        **{'color':'red', 'size':'medium'})\n",
    "print('-'*50,'\\n')"
   ]
  },
  {
   "cell_type": "markdown",
   "metadata": {},
   "source": [
    "Let's analyze this the function call behavior for this fairly complex case:\n",
    "\n",
    "\\- 10 is the first positional argument, and is assigned to parameter _x_.<br>\n",
    "\\- 20 is the next positional argument, and is assigned to parameter _y_.<br>\n",
    "\\- 30 is the next positional argument, and is assigned to parameter _c_.<br>\n",
    "\\- the next unfilled slot in the parameter list of function definition is a var-positional slot, _myargs_, so all remaining non-keyword arguments (1000, 80, 90, and 100) are placed into the var-positional slot _myargs_.<br>\n",
    "\\- 40 is the first keyword argument, and is assigned to the parameter with the same name as its keyword, _b_.<br>\n",
    "\\- 50 is the next keyword argument, and is assigned to the parameter with the same name as its keyword, _a_.<br>\n",
    "\\- 'tricycle' is the next keyword argument, and tries to be assigned to the parameter slot with the same name as its keyword, _vehicle_. There is not such parameter slot, but there is a var-keyword parameter, _mykwargs_. Thus, the argument is added to the var-keyword parameter, _mykwargs_.<br>\n",
    "\\- The remaining empty slot _p_ is filled with the default value of -1."
   ]
  },
  {
   "cell_type": "markdown",
   "metadata": {},
   "source": [
    "### Correct order of parameter types in Python"
   ]
  },
  {
   "cell_type": "markdown",
   "metadata": {},
   "source": [
    "So briefly, for the cases that you have var-positional or var-keyword parameters, you should avoid the positional-or-keyword parameter type, since it allows both positional and keyword arguments in a function call which can result in error in some cases.\n",
    "\n",
    "Thus, here is the correct order that the parameters of different type should follow in the parameter list of function definition:\n",
    "\n",
    "**<font color=\"navy\">positional-only, var-positional, keyword-only, var-keyword</font>**\n",
    "\n",
    "<font color=\"green\">Congratulations!!! You have mastered the Python function parameters, function arguments, correct order of function parameters, and function call behavior. Now, you can pat yourself on the back!!!</font>"
   ]
  },
  {
   "cell_type": "markdown",
   "metadata": {},
   "source": [
    "<a id='python-quiz'></a>\n",
    "## Quiz\n",
    "Finally, I end this tutorial with two simple quizzes!"
   ]
  },
  {
   "cell_type": "markdown",
   "metadata": {},
   "source": [
    "### What is args in Python?\n",
    "\n",
    "As mentioned earlier, _args_ is conventionally used as a **var-positional** parameter's name, but you can choose other valid names too, e.g. _myargs_ in some of the examples in this tutorial."
   ]
  },
  {
   "cell_type": "markdown",
   "metadata": {},
   "source": [
    "### What is kwargs in Python?\n",
    "\n",
    "As mentioned earlier, _kwargs_ is conventionally used as a **var-keyword** parameter's name, but you can choose other valid names too, e.g. _mykwargs_ in some of the examples in this tutorial."
   ]
  },
  {
   "cell_type": "markdown",
   "metadata": {},
   "source": [
    "## Summary\n",
    "\n",
    "In this tutorial, we introduced two important concepts in Python: **argument** and **parameter**. We discussed the differences between a _function parameter_ and a _function argument_.\n",
    "\n",
    "With regard to the function argument, we mentioned there are two types of argument: **positional argument** and **keyword argument**, and demonstrated different ways you could introduce them when calling a function.\n",
    "\n",
    "With regard to the function parameter, we had a detailed discussion on various types of function parameters in Python: \n",
    "**positional-only**, **positional-or-keyword**, **keyword-only**, **var-positional**, **var-keyword**.\n",
    "We also discussed the correct order they should appear in parameter list in function definition\n",
    "\n",
    "Hopefully, this tutorial was able to help you with some of the basics of Python. \n",
    "Please do not hesitate to let us know if you have any questions or comments by leaving a note below, or [contacting us](https://soardeepsci.com/contact/).\n",
    "Also, please feel free to check out the rest of the articles on [SoarDeepSci](https://soardeepsci.com/blog/)."
   ]
  }
 ],
 "metadata": {
  "kernelspec": {
   "display_name": "Python 3",
   "language": "python",
   "name": "python3"
  },
  "language_info": {
   "codemirror_mode": {
    "name": "ipython",
    "version": 3
   },
   "file_extension": ".py",
   "mimetype": "text/x-python",
   "name": "python",
   "nbconvert_exporter": "python",
   "pygments_lexer": "ipython3",
   "version": "3.8.5"
  }
 },
 "nbformat": 4,
 "nbformat_minor": 4
}
