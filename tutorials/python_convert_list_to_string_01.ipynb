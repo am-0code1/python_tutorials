{
 "cells": [
  {
   "cell_type": "markdown",
   "metadata": {},
   "source": [
    "# Python | convert list to string\n",
    "\n",
    "## Scope of this tutorial\n",
    "### Goal\n",
    "In this tutorial, the goal is to show you different methods to convert _list_ to _string_ in Python.\n",
    "\n",
    "### Structure\n",
    "First, we briefly introduce the concepts of _list_ and _string_.\n",
    "Then, we will introduce different methods to convert _list_ to _string_ in Python, followed by providing several Python code examples."
   ]
  },
  {
   "cell_type": "markdown",
   "metadata": {},
   "source": [
    "# Python | What is a list?\n",
    "\n",
    "First, let's discuss this basic question in Python: **what is a list?!** \n",
    "\n",
    "From the [Python documentation](https://docs.python.org/3/tutorial/introduction.html#lists), Python knows a number of compound data types, used to group together other values. The most versatile is the list, which can be written as a list of comma-separated values (items) between square brackets. Lists might contain items of different types, but usually the items all have the same type.\n",
    "\n",
    "Here is an example showing two lists consisting of items with the same type:"
   ]
  },
  {
   "cell_type": "code",
   "execution_count": 1,
   "metadata": {},
   "outputs": [
    {
     "name": "stdout",
     "output_type": "stream",
     "text": [
      "Here is the first  list: [4, 5, -4, 12.5]\n",
      "Here is the second list: ['book', 'red', '?', '12.5', '4 books', ' ']\n"
     ]
    }
   ],
   "source": [
    "first_list = [4, 5, -4, 12.5]\n",
    "second_list = [\"book\", \"red\", \"?\", \"12.5\", \"4 books\", \" \"]\n",
    "\n",
    "print(f'Here is the first  list: {first_list}')\n",
    "print(f'Here is the second list: {second_list}')"
   ]
  },
  {
   "cell_type": "markdown",
   "metadata": {},
   "source": [
    "And, here is an example showing a list consisting of items with different types:"
   ]
  },
  {
   "cell_type": "code",
   "execution_count": 2,
   "metadata": {},
   "outputs": [
    {
     "name": "stdout",
     "output_type": "stream",
     "text": [
      "A list consisting of items with different types:\n",
      "[4, 5, -4, 12.5, 'book', 'red', '?', '12.5']\n"
     ]
    }
   ],
   "source": [
    "mylist = [4, 5, -4, 12.5, \"book\", \"red\", \"?\", \"12.5\"]\n",
    "print(f'A list consisting of items with different types:\\n{mylist}')"
   ]
  },
  {
   "cell_type": "markdown",
   "metadata": {},
   "source": [
    "# Python | What is a string?\n",
    "\n",
    "Now, we get to the next question on basics of Python: **what is a string?!** \n",
    "\n",
    "It turns out that Python can manipulate not only numbers, but also a sequence of characters forming a _string_. \n",
    "You can enclose a string in single quotes ('...') or double quotes (\"...\").\n",
    "Let's look at some examples:"
   ]
  },
  {
   "cell_type": "code",
   "execution_count": 3,
   "metadata": {},
   "outputs": [
    {
     "name": "stdout",
     "output_type": "stream",
     "text": [
      "string with single-quote\n",
      "string with double-quote\n"
     ]
    }
   ],
   "source": [
    "string_1 = 'string with single-quote'\n",
    "string_2 = \"string with double-quote\"\n",
    "\n",
    "print(string_1)\n",
    "print(string_2)"
   ]
  },
  {
   "cell_type": "markdown",
   "metadata": {},
   "source": [
    "# How to convert _list_ to _string_ in Python?\n",
    "\n",
    "There are different approaches to convert _list_ to _string_ in Python. \n",
    "The most common ones are:\n",
    "\n",
    "1\\. Using the **List Plus Operator**, and<br>\n",
    "2\\. Using the **Python String** _join_ method."
   ]
  },
  {
   "cell_type": "markdown",
   "metadata": {},
   "source": [
    "Let's start with the **List Plus Operator**."
   ]
  },
  {
   "cell_type": "markdown",
   "metadata": {},
   "source": [
    "## Convert list to string in Python | list plus operator\n",
    "\n",
    "In this approach, you can create an empty string object first. \n",
    "Then, you can add the elements of the list to your string one-by-one, while including a proper separator (like a single-space character) between them.\n",
    "\n",
    "Here is an example:"
   ]
  },
  {
   "cell_type": "code",
   "execution_count": 4,
   "metadata": {},
   "outputs": [
    {
     "name": "stdout",
     "output_type": "stream",
     "text": [
      "Here is the iterable: ['Let', 'us', 'learn', 'Python', 'on', 'SoarDeepSCi!']\n",
      "Here is the   string:  Let us learn Python on SoarDeepSCi!\n"
     ]
    }
   ],
   "source": [
    "mylist = [\"Let\", \"us\", \"learn\", \"Python\", \"on\", \"SoarDeepSCi!\"]\n",
    "\n",
    "#creating an empty string object\n",
    "mystring = str()\n",
    "\n",
    "#specifying the separator\n",
    "sep = ' '\n",
    "\n",
    "#concatenation of strings\n",
    "for item in mylist:\n",
    "    mystring += sep + item\n",
    "\n",
    "print(f'Here is the iterable: {mylist}')\n",
    "print(f'Here is the   string: {mystring}')"
   ]
  },
  {
   "cell_type": "markdown",
   "metadata": {},
   "source": [
    "## Convert list to string in Python | Python String _join_ method\n",
    "\n",
    "We can also use the **Python String** _join_ method to concatenate strings in Python with a given separator. So, if you pass the single-space character as the separator, you should get a string consisting of elements of the list, separated by a single-space character. \n",
    "\n",
    "Please note that this method by its own is not applicable to the case that the list consists of non-string elements. However, as shown in the next section, we can build a clever strategy on top of the **Python String** _join_ method to enable us convert list to string in Python when list has different types.\n",
    "\n",
    "Let's start with a brief introduction of the **Python String** _join_ method:"
   ]
  },
  {
   "cell_type": "markdown",
   "metadata": {},
   "source": [
    "### Python | String _join_ method\n",
    "\n",
    "The **Python String** _join_ method returns a string formed from the concatenation of the strings available in the passed iterable. \n",
    "The string providing this method is used as the separator between elements. \n",
    "For example **' '.join(mylist)** considers **' '** as the separator between elements of the passed iterable, _i.e._ **mylist** here.\n",
    "\n",
    "Let's look at some examples. In the following example, we use the single-space character as the separator between the elements of a list to form a string:"
   ]
  },
  {
   "cell_type": "code",
   "execution_count": 5,
   "metadata": {},
   "outputs": [
    {
     "name": "stdout",
     "output_type": "stream",
     "text": [
      "Here is the iterable: ['Let', 'us', 'learn', 'Python', 'on', 'SoarDeepSCi!']\n",
      "Here is the   string: Let us learn Python on SoarDeepSCi!\n"
     ]
    }
   ],
   "source": [
    "mylist = [\"Let\", \"us\", \"learn\", \"Python\", \"on\", \"SoarDeepSCi!\"]\n",
    "mystring = ' '.join(mylist)\n",
    "\n",
    "print(f'Here is the iterable: {mylist}')\n",
    "print(f'Here is the   string: {mystring}')"
   ]
  },
  {
   "cell_type": "markdown",
   "metadata": {},
   "source": [
    "Now, let's use a three-space separator between the elements of the list to form a string:"
   ]
  },
  {
   "cell_type": "code",
   "execution_count": 6,
   "metadata": {},
   "outputs": [
    {
     "name": "stdout",
     "output_type": "stream",
     "text": [
      "Here is the iterable: ['Let', 'us', 'learn', 'Python', 'on', 'SoarDeepSCi!']\n",
      "Here is the   string: Let   us   learn   Python   on   SoarDeepSCi!\n"
     ]
    }
   ],
   "source": [
    "mylist = [\"Let\", \"us\", \"learn\", \"Python\", \"on\", \"SoarDeepSCi!\"]\n",
    "mystring = '   '.join(mylist)\n",
    "\n",
    "print(f'Here is the iterable: {mylist}')\n",
    "print(f'Here is the   string: {mystring}')"
   ]
  },
  {
   "cell_type": "markdown",
   "metadata": {},
   "source": [
    "And, here is what you get in case of using a hyphen (-) as the separator between the elements of the list when forming a string:"
   ]
  },
  {
   "cell_type": "code",
   "execution_count": 7,
   "metadata": {},
   "outputs": [
    {
     "name": "stdout",
     "output_type": "stream",
     "text": [
      "Here is the iterable: ['Let', 'us', 'learn', 'Python', 'on', 'SoarDeepSCi!']\n",
      "Here is the   string: Let-us-learn-Python-on-SoarDeepSCi!\n"
     ]
    }
   ],
   "source": [
    "mylist = [\"Let\", \"us\", \"learn\", \"Python\", \"on\", \"SoarDeepSCi!\"]\n",
    "mystring = '-'.join(mylist)\n",
    "\n",
    "print(f'Here is the iterable: {mylist}')\n",
    "print(f'Here is the   string: {mystring}')"
   ]
  },
  {
   "cell_type": "markdown",
   "metadata": {},
   "source": [
    "# How to convert list to string in Python when list has different types?\n",
    "\n",
    "Note that the **Python String** _join_ method raises a _TypeError_ in case there are any non-string values in the passed iterable. \n",
    "\n",
    "For example:"
   ]
  },
  {
   "cell_type": "code",
   "execution_count": 8,
   "metadata": {},
   "outputs": [
    {
     "ename": "TypeError",
     "evalue": "sequence item 0: expected str instance, int found",
     "output_type": "error",
     "traceback": [
      "\u001b[1;31m---------------------------------------------------------------------------\u001b[0m",
      "\u001b[1;31mTypeError\u001b[0m                                 Traceback (most recent call last)",
      "\u001b[1;32m<ipython-input-8-d97cbbb65ba1>\u001b[0m in \u001b[0;36m<module>\u001b[1;34m\u001b[0m\n\u001b[0;32m      1\u001b[0m \u001b[0mmylist\u001b[0m \u001b[1;33m=\u001b[0m \u001b[1;33m[\u001b[0m\u001b[1;36m1\u001b[0m\u001b[1;33m,\u001b[0m \u001b[1;36m2\u001b[0m\u001b[1;33m,\u001b[0m \u001b[1;36m3\u001b[0m\u001b[1;33m,\u001b[0m \u001b[1;34m\"Let\"\u001b[0m\u001b[1;33m,\u001b[0m \u001b[1;34m\"us\"\u001b[0m\u001b[1;33m,\u001b[0m \u001b[1;34m\"learn\"\u001b[0m\u001b[1;33m,\u001b[0m \u001b[1;34m\"Python\"\u001b[0m\u001b[1;33m,\u001b[0m \u001b[1;34m\"on\"\u001b[0m\u001b[1;33m,\u001b[0m \u001b[1;34m\"SoarDeepSCi!\"\u001b[0m\u001b[1;33m]\u001b[0m\u001b[1;33m\u001b[0m\u001b[1;33m\u001b[0m\u001b[0m\n\u001b[1;32m----> 2\u001b[1;33m \u001b[0mmystring\u001b[0m \u001b[1;33m=\u001b[0m \u001b[1;34m' '\u001b[0m\u001b[1;33m.\u001b[0m\u001b[0mjoin\u001b[0m\u001b[1;33m(\u001b[0m\u001b[0mmylist\u001b[0m\u001b[1;33m)\u001b[0m\u001b[1;33m\u001b[0m\u001b[1;33m\u001b[0m\u001b[0m\n\u001b[0m\u001b[0;32m      3\u001b[0m \u001b[1;33m\u001b[0m\u001b[0m\n\u001b[0;32m      4\u001b[0m \u001b[0mprint\u001b[0m\u001b[1;33m(\u001b[0m\u001b[1;34mf'Here is the iterable: {mylist}'\u001b[0m\u001b[1;33m)\u001b[0m\u001b[1;33m\u001b[0m\u001b[1;33m\u001b[0m\u001b[0m\n\u001b[0;32m      5\u001b[0m \u001b[0mprint\u001b[0m\u001b[1;33m(\u001b[0m\u001b[1;34mf'Here is the   string: {mystring}'\u001b[0m\u001b[1;33m)\u001b[0m\u001b[1;33m\u001b[0m\u001b[1;33m\u001b[0m\u001b[0m\n",
      "\u001b[1;31mTypeError\u001b[0m: sequence item 0: expected str instance, int found"
     ]
    }
   ],
   "source": [
    "mylist = [1, 2, 3, \"Let\", \"us\", \"learn\", \"Python\", \"on\", \"SoarDeepSCi!\"]\n",
    "mystring = ' '.join(mylist)\n",
    "\n",
    "print(f'Here is the iterable: {mylist}')\n",
    "print(f'Here is the   string: {mystring}')"
   ]
  },
  {
   "cell_type": "markdown",
   "metadata": {},
   "source": [
    "So, how can we resolve the issue? The question now is **how to convert list to string in Python when list has different types**.\n",
    "\n",
    "It turns out one can convert each element of iterable to string first, and then concatenate strings using **List Plus Operator (+)**, or using the **Python String** _join_ method. Easy, right?! Let's see how we can implement this strategy."
   ]
  },
  {
   "cell_type": "markdown",
   "metadata": {},
   "source": [
    "## Convert list to string in Python when list has different types | concatenation of strings using plus operator\n",
    "\n",
    "Here is the structure for the first approach: \n",
    "\n",
    "1\\. Iterate over the list of elements,<br>\n",
    "2\\. Convert each element to string as needed, by passing it to the _str()_ constructor, and<br>\n",
    "3\\. Concatenate the string version of the element to the previously-concatenated sequence using the plus operator and a specified separator.<br>\n",
    "\n",
    "Here is an example:"
   ]
  },
  {
   "cell_type": "code",
   "execution_count": 9,
   "metadata": {},
   "outputs": [
    {
     "name": "stdout",
     "output_type": "stream",
     "text": [
      "Here is the iterable: [1, 2, 3, 'Let', 'us', 'learn', 'Python', 'on', 'SoarDeepSCi!']\n",
      "Here is the   string:  1 2 3 Let us learn Python on SoarDeepSCi!\n"
     ]
    }
   ],
   "source": [
    "mylist = [1, 2, 3, \"Let\", \"us\", \"learn\", \"Python\", \"on\", \"SoarDeepSCi!\"]\n",
    "\n",
    "#creating an empty string object\n",
    "mystring = str()\n",
    "\n",
    "#specifying the separator\n",
    "sep = ' '\n",
    "\n",
    "#concatenation of strings\n",
    "for item in mylist:\n",
    "    mystring += sep + str(item)\n",
    "\n",
    "print(f'Here is the iterable: {mylist}')\n",
    "print(f'Here is the   string: {mystring}')"
   ]
  },
  {
   "cell_type": "markdown",
   "metadata": {},
   "source": [
    "## Convert list to string in Python when list has different types | concatenation of strings using  Python _join_ method and map function\n",
    "\n",
    "In this approach, we use the **Python** _map_ function to apply _str()_ to each item of the list, and pass the result to the **Python** _join_ method.\n",
    "\n",
    "Here is an example:"
   ]
  },
  {
   "cell_type": "code",
   "execution_count": 10,
   "metadata": {},
   "outputs": [
    {
     "name": "stdout",
     "output_type": "stream",
     "text": [
      "Here is the iterable: [1, 2, 3, 'Let', 'us', 'learn', 'Python', 'on', 'SoarDeepSCi!']\n",
      "Here is the   string: 1 2 3 Let us learn Python on SoarDeepSCi!\n"
     ]
    }
   ],
   "source": [
    "mylist = [1, 2, 3, \"Let\", \"us\", \"learn\", \"Python\", \"on\", \"SoarDeepSCi!\"]\n",
    "mystring = ' '.join(map(str,mylist))\n",
    "\n",
    "print(f'Here is the iterable: {mylist}')\n",
    "print(f'Here is the   string: {mystring}')"
   ]
  },
  {
   "cell_type": "markdown",
   "metadata": {},
   "source": [
    "## Convert list to string in Python when list has different types | concatenation of strings using  Python _join_ method and string version of list elements\n",
    "\n",
    "In this approach, we create a list with the string version of all elements of the main list, and pass the result to the **Python** _join_ method.\n",
    "\n",
    "Here is an example:"
   ]
  },
  {
   "cell_type": "code",
   "execution_count": 11,
   "metadata": {},
   "outputs": [
    {
     "name": "stdout",
     "output_type": "stream",
     "text": [
      "Here is the iterable:\n",
      "[1, 2, 3, 'Let', 'us', 'learn', 'Python', 'on', 'SoarDeepSCi!']\n",
      "\n",
      "Here is the string version of iterable:\n",
      "['1', '2', '3', 'Let', 'us', 'learn', 'Python', 'on', 'SoarDeepSCi!']\n",
      "\n",
      "Here is the string:\n",
      "1 2 3 Let us learn Python on SoarDeepSCi!\n"
     ]
    }
   ],
   "source": [
    "mylist = [1, 2, 3, \"Let\", \"us\", \"learn\", \"Python\", \"on\", \"SoarDeepSCi!\"]\n",
    "\n",
    "#creating a list with string version of all elements of main list\n",
    "mylist_string_version = []\n",
    "for item in mylist:\n",
    "    mylist_string_version.append(str(item))\n",
    "\n",
    "#passing the modified list to Python join method\n",
    "mystring = ' '.join(mylist_string_version)\n",
    "\n",
    "print(f'Here is the iterable:\\n{mylist}')\n",
    "print(f'\\nHere is the string version of iterable:\\n{mylist_string_version}')\n",
    "print(f'\\nHere is the string:\\n{mystring}')"
   ]
  },
  {
   "cell_type": "markdown",
   "metadata": {},
   "source": [
    "### List comprehension can make it shorter, but...\n",
    "\n",
    "The same approach can be implemented using the list comprehension, which needs a smaller amount of coding. \n",
    "However, please note that _clarity_ should be always your first priority, rather than the number of lines of code.\n",
    "\n",
    "With that being said, here is how to use list comprehension to make the same code shorter:"
   ]
  },
  {
   "cell_type": "code",
   "execution_count": 12,
   "metadata": {},
   "outputs": [
    {
     "name": "stdout",
     "output_type": "stream",
     "text": [
      "Here is the iterable:\n",
      "[1, 2, 3, 'Let', 'us', 'learn', 'Python', 'on', 'SoarDeepSCi!']\n",
      "\n",
      "Here is the string:\n",
      "1 2 3 Let us learn Python on SoarDeepSCi!\n"
     ]
    }
   ],
   "source": [
    "mylist = [1, 2, 3, \"Let\", \"us\", \"learn\", \"Python\", \"on\", \"SoarDeepSCi!\"]\n",
    "\n",
    "#creating a list with string version of all elements of main list\n",
    "#using List comprehension, followed by\n",
    "#passing the modified list to Python join method\n",
    "mystring = ' '.join([str(item) for item in mylist])\n",
    "\n",
    "print(f'Here is the iterable:\\n{mylist}')\n",
    "print(f'\\nHere is the string:\\n{mystring}')"
   ]
  },
  {
   "cell_type": "markdown",
   "metadata": {},
   "source": [
    "# Final remarks\n",
    "\n",
    "Hopefully, this tutorial was able to help you with some of the basics of Python: concatenate strings, and\n",
    "convert list to string in python.\n",
    "\n",
    " Please, feel free to let us know if you have any comments or questions by commenting down below, or by [contacting us](https://soardeepsci.com/contact/). For further reading, please feel free to check out the rest of our articles from [https://soardeepsci.com/blog/](https://soardeepsci.com/blog/)."
   ]
  }
 ],
 "metadata": {
  "kernelspec": {
   "display_name": "Python 3",
   "language": "python",
   "name": "python3"
  },
  "language_info": {
   "codemirror_mode": {
    "name": "ipython",
    "version": 3
   },
   "file_extension": ".py",
   "mimetype": "text/x-python",
   "name": "python",
   "nbconvert_exporter": "python",
   "pygments_lexer": "ipython3",
   "version": "3.8.5"
  }
 },
 "nbformat": 4,
 "nbformat_minor": 4
}
