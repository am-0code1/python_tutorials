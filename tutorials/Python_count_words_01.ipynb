{
 "cells": [
  {
   "cell_type": "markdown",
   "metadata": {},
   "source": [
    "python split\n",
    "python split method\n",
    "python split string\n",
    "python string split\n",
    "splitting in python"
   ]
  },
  {
   "cell_type": "markdown",
   "metadata": {},
   "source": [
    "# Python | string split | count words in string\n",
    "\n",
    "You are in the right place if you want to know how to accomplish any of the following tasks: **string splitting in python based on a given delimiter**, **split string into words**, or **count words in string**. \n",
    "\n",
    "String splitting in Python can be done using the built-in string split method: **str.split(sep=None, maxsplit=-1)**. The first argument, _sep_, specifies the delimiter string, while the second one, _maxsplit_, denotes the maximum number of splits, _i.e._ maximum number of elements would be **maxsplit+1**. If maxsplit is -1 or not specified, then there is no limit on the number of splits, _i.e._ all possible splits are made. For example:"
   ]
  },
  {
   "cell_type": "code",
   "execution_count": 1,
   "metadata": {},
   "outputs": [
    {
     "name": "stdout",
     "output_type": "stream",
     "text": [
      "['a', 'very simple string']\n",
      "['a', 'very', 'simple string']\n",
      "['a', 'very', 'simple', 'string']\n",
      "['a', 'very', 'simple', 'string']\n"
     ]
    }
   ],
   "source": [
    "print('a very simple string'.split(' ', 1))\n",
    "print('a very simple string'.split(' ', 2))\n",
    "print('a very simple string'.split(' ', 3))\n",
    "print('a very simple string'.split(' '))"
   ]
  },
  {
   "cell_type": "markdown",
   "metadata": {},
   "source": [
    "Note that the Python string split method uses a different splitting algorithm when the argument _sep_ is not specified or is **None**, aiming at returning the list of the words existing in the string. It is accomplished by considering consecutive whitespaces as a single separator. If the argument _sep_ is given, consecutive delimiters are not grouped together and are deemed to delimit empty strings. See examples below:"
   ]
  },
  {
   "cell_type": "code",
   "execution_count": 2,
   "metadata": {},
   "outputs": [
    {
     "name": "stdout",
     "output_type": "stream",
     "text": [
      "['', '', 'a', '', '', 'string', 'with', '', '', 'consecutive', 'space', '', '', 'caharcters', '', '']\n",
      "['a', 'string', 'with', 'consecutive', 'space', 'caharcters']\n"
     ]
    }
   ],
   "source": [
    "print('  a   string with   consecutive space   caharcters  '.split(' '))\n",
    "print('  a   string with   consecutive space   caharcters  '.split())"
   ]
  },
  {
   "cell_type": "markdown",
   "metadata": {},
   "source": [
    "## Count words in string\n",
    "\n",
    "Now that you know that the Python string _.split()_ method returns the words existing within a string, you can go ahead and write a simple (lambda) function to count words in a string. For example:"
   ]
  },
  {
   "cell_type": "code",
   "execution_count": 3,
   "metadata": {},
   "outputs": [
    {
     "name": "stdout",
     "output_type": "stream",
     "text": [
      "3\n",
      "6\n"
     ]
    }
   ],
   "source": [
    "number_of_words = lambda txt : len(txt.split())\n",
    "\n",
    "print(number_of_words('just an example'))\n",
    "print(number_of_words('   another    example with long     empty    space  '))"
   ]
  },
  {
   "cell_type": "markdown",
   "metadata": {},
   "source": [
    "That is it! Now, you know how to do string splitting in python based on different delimiters, count words in string, and other similar tasks. Hope you found this short tutorial helpful!"
   ]
  }
 ],
 "metadata": {
  "kernelspec": {
   "display_name": "Python 3",
   "language": "python",
   "name": "python3"
  },
  "language_info": {
   "codemirror_mode": {
    "name": "ipython",
    "version": 3
   },
   "file_extension": ".py",
   "mimetype": "text/x-python",
   "name": "python",
   "nbconvert_exporter": "python",
   "pygments_lexer": "ipython3",
   "version": "3.8.5"
  }
 },
 "nbformat": 4,
 "nbformat_minor": 4
}
