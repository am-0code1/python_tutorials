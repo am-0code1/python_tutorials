{
 "cells": [
  {
   "cell_type": "markdown",
   "metadata": {},
   "source": [
    "# Python libraries for data science and machine learning with examples\n",
    "\n",
    "## Scope of this tutorial\n",
    "In this tutorial, we briefly discuss the most important Python libraries for data science and machine learning. \n",
    "The goal is to provide you with a clear and concise description of the capabilities of each package so you know what Python library is best suited for a given task.\n",
    "\n",
    "In addition, we try to introduce some of the best learning resources for each package.\n",
    "You can, then, check out such great resources that we list in this tutorial and/or our other [tutorials/articles on SoarDeepSci](https://soardeepsci.com/blog/) to learn more about these packages.\n",
    "\n",
    "Finally, in this tutorial, we will provide small Python code examples for each Python library so you get a minimal level of insight about each package.\n",
    "\n",
    "## Python libraries for data science and machine learning\n",
    "Here are our selected **free and open-source** Python libraries for data science and machine learning:<br>\n",
    "\n",
    "### Python libraries for data science\n",
    "\\- Numpy<br>\n",
    "\\- pandas<br>\n",
    "\\- SciPy<br>\n",
    "\\- Matplotlib<br>\n",
    "\\- Seaborn<br>\n",
    "\n",
    "### Python libraries for machine learning\n",
    "\\- Scikit-learn<br>\n",
    "\\- PyTorch<br>\n",
    "\\- TensorFlow-Keras<br>\n",
    "\n",
    "Although machine learning itself is a subset of data science field, we have separated the above-mentioned libraries into _Python libraries for data science_, and _Python libraries for machine learning_ to clarify which libraries are exclusively developed for machine learning tasks."
   ]
  },
  {
   "cell_type": "markdown",
   "metadata": {},
   "source": [
    " "
   ]
  },
  {
   "cell_type": "markdown",
   "metadata": {},
   "source": [
    "# Python libraries for data science | NumPy \n",
    "\n",
    "[NumPy](https://numpy.org/) is the core of pretty much any Python library that deals with numerical computing. \n",
    "As a result, it is fair if we consider _NumPy_ as one of the most, if not the most, important Python libraries for data science. \n",
    "Nearly every scientist working in Python draws on the power of _NumPy_. \n",
    "\n",
    "_Numpy_ provides highly-efficient functions for fast operations on multidimensional array objects, including mathematical, logical, shape manipulation, sorting, selecting, I/O, discrete Fourier transforms, basic linear algebra, basic statistical operations, random simulation and [much more](https://numpy.org/).\n",
    "\n",
    "### Example:\n",
    "Here is a small Python code example for _NumPy_:"
   ]
  },
  {
   "cell_type": "code",
   "execution_count": 1,
   "metadata": {},
   "outputs": [
    {
     "name": "stdout",
     "output_type": "stream",
     "text": [
      "array 'a':\n",
      "[[ 0  1  2]\n",
      " [ 3  4  5]\n",
      " [ 6  7  8]\n",
      " [ 9 10 11]]\n",
      "\n",
      "shape of 'a':\n",
      "(4, 3)\n",
      "\n",
      "array 'a' after shuffle along the first axis:\n",
      "[[ 3  4  5]\n",
      " [ 9 10 11]\n",
      " [ 0  1  2]\n",
      " [ 6  7  8]]\n",
      "\n",
      "min of each row of shuffled 'a':\n",
      "[3 9 0 6]\n",
      "\n",
      "sum of each column of shuffled 'a':\n",
      "[18 22 26]\n",
      "\n",
      "cumulative sum along each row of shuffled 'a':\n",
      "[[ 3  7 12]\n",
      " [ 9 19 30]\n",
      " [ 0  1  3]\n",
      " [ 6 13 21]]\n",
      "\n",
      "root square of shuffled 'a':\n",
      "[[1.73205081 2.         2.23606798]\n",
      " [3.         3.16227766 3.31662479]\n",
      " [0.         1.         1.41421356]\n",
      " [2.44948974 2.64575131 2.82842712]]\n"
     ]
    }
   ],
   "source": [
    "import numpy as np\n",
    "\n",
    "a = np.arange(12).reshape(4, 3)\n",
    "print(f'array \\'a\\':\\n{a}')\n",
    "print(f'\\nshape of \\'a\\':\\n{a.shape}')\n",
    "np.random.shuffle(a)\n",
    "print(f'\\narray \\'a\\' after shuffle along the first axis:\\n{a}')\n",
    "print(f'\\nmin of each row of shuffled \\'a\\':\\n{a.min(axis=1)}')\n",
    "print(f'\\nsum of each column of shuffled \\'a\\':\\n{a.sum(axis=0)}')\n",
    "print(f'\\ncumulative sum along each row of shuffled \\'a\\':\\n{a.cumsum(axis=1)}')\n",
    "print(f'\\nroot square of shuffled \\'a\\':\\n{np.sqrt(a)}')"
   ]
  },
  {
   "cell_type": "markdown",
   "metadata": {},
   "source": [
    "## Python libraries for data science | NumPy | learning resources\n",
    "\n",
    "Here are some of the good places to learn more about _NumPy_:\n",
    "\n",
    "\\- [NumPy Manual](https://numpy.org/doc/stable/)<br>\n",
    "\\- [NumPy quickstart](https://numpy.org/doc/stable/user/quickstart.html#numpy-quickstart)<br>"
   ]
  },
  {
   "cell_type": "markdown",
   "metadata": {},
   "source": [
    " "
   ]
  },
  {
   "cell_type": "markdown",
   "metadata": {},
   "source": [
    "# Python libraries for data science | pandas \n",
    "\n",
    "[Pandas](https://pandas.pydata.org/) is a fast, powerful, flexible and easy to use open source data analysis and manipulation tool. It provides comprehensive tools for a vast variety of data analysis, manipulation, and even data visualization! Yes, _pandas_ enables you to accomplish most of the tasks in your data analysis pipeline:\n",
    "\n",
    "1\\. Loading dataset from different sources like a [csv file or URL](https://soardeepsci.com/python-pandas-read_csv-from-url/).\n",
    "\n",
    "2\\. Various analysis and manipulations such as  [sorting dataset by one or multiple columns](https://soardeepsci.com/how-to-sort-pandas-dataframe-by-multiple-columns/), [rolling 7 day average, monthly average, and so on](https://soardeepsci.com/a-hands-on-tutorial-for-data-science-learners-covid-19-dataset-part-5-groupby-grouper/),  [missing values analysis](https://soardeepsci.com/a-hands-on-tutorial-for-data-science-learners-covid-19-dataset-part-6-a-missing-values-analysis-b-data-visualization-matplotlib-barh/), etc.\n",
    "\n",
    "3\\. Various types of [data visualization with pandas](https://soardeepsci.com/data-visualization-in-python/) such as line plot, bar plot, histogram, boxplot, etc.<br>\n",
    "\n",
    "It is unimaginable to effectively and efficiently work with a practical dataset with all the required filtering, sorting, grouping, and other data manipulations tasks without _pandas_. As a result, _pandas_ is definitely one of the most important Python libraries for data science and machine learning."
   ]
  },
  {
   "cell_type": "markdown",
   "metadata": {},
   "source": [
    "### Example:\n",
    "Here is a small Python code example on creating a sample dataset in _pandas_ and perform some analysis and data visualization:"
   ]
  },
  {
   "cell_type": "code",
   "execution_count": 2,
   "metadata": {},
   "outputs": [
    {
     "name": "stdout",
     "output_type": "stream",
     "text": [
      "A sample dataset:\n"
     ]
    },
    {
     "data": {
      "text/html": [
       "<div>\n",
       "<style scoped>\n",
       "    .dataframe tbody tr th:only-of-type {\n",
       "        vertical-align: middle;\n",
       "    }\n",
       "\n",
       "    .dataframe tbody tr th {\n",
       "        vertical-align: top;\n",
       "    }\n",
       "\n",
       "    .dataframe thead th {\n",
       "        text-align: right;\n",
       "    }\n",
       "</style>\n",
       "<table border=\"1\" class=\"dataframe\">\n",
       "  <thead>\n",
       "    <tr style=\"text-align: right;\">\n",
       "      <th></th>\n",
       "      <th>A</th>\n",
       "      <th>B</th>\n",
       "      <th>C</th>\n",
       "      <th>D</th>\n",
       "    </tr>\n",
       "  </thead>\n",
       "  <tbody>\n",
       "    <tr>\n",
       "      <th>2020-01-01</th>\n",
       "      <td>0.981307</td>\n",
       "      <td>-0.011032</td>\n",
       "      <td>-1.517641</td>\n",
       "      <td>0.167060</td>\n",
       "    </tr>\n",
       "    <tr>\n",
       "      <th>2020-01-02</th>\n",
       "      <td>0.133622</td>\n",
       "      <td>0.238734</td>\n",
       "      <td>0.739525</td>\n",
       "      <td>2.212759</td>\n",
       "    </tr>\n",
       "    <tr>\n",
       "      <th>2020-01-03</th>\n",
       "      <td>0.652308</td>\n",
       "      <td>0.085384</td>\n",
       "      <td>-0.184235</td>\n",
       "      <td>1.786697</td>\n",
       "    </tr>\n",
       "    <tr>\n",
       "      <th>2020-01-04</th>\n",
       "      <td>-0.425888</td>\n",
       "      <td>-0.366928</td>\n",
       "      <td>1.296842</td>\n",
       "      <td>0.842845</td>\n",
       "    </tr>\n",
       "    <tr>\n",
       "      <th>2020-01-05</th>\n",
       "      <td>0.224079</td>\n",
       "      <td>-0.586827</td>\n",
       "      <td>-0.016565</td>\n",
       "      <td>0.654547</td>\n",
       "    </tr>\n",
       "    <tr>\n",
       "      <th>2020-01-06</th>\n",
       "      <td>0.000030</td>\n",
       "      <td>-0.668467</td>\n",
       "      <td>0.654753</td>\n",
       "      <td>-1.302914</td>\n",
       "    </tr>\n",
       "    <tr>\n",
       "      <th>2020-01-07</th>\n",
       "      <td>-0.012046</td>\n",
       "      <td>0.466419</td>\n",
       "      <td>1.961327</td>\n",
       "      <td>-0.823576</td>\n",
       "    </tr>\n",
       "    <tr>\n",
       "      <th>2020-01-08</th>\n",
       "      <td>0.455640</td>\n",
       "      <td>-0.165067</td>\n",
       "      <td>-0.767501</td>\n",
       "      <td>0.163913</td>\n",
       "    </tr>\n",
       "    <tr>\n",
       "      <th>2020-01-09</th>\n",
       "      <td>-0.937207</td>\n",
       "      <td>0.554769</td>\n",
       "      <td>-0.112882</td>\n",
       "      <td>-0.159964</td>\n",
       "    </tr>\n",
       "  </tbody>\n",
       "</table>\n",
       "</div>"
      ],
      "text/plain": [
       "                   A         B         C         D\n",
       "2020-01-01  0.981307 -0.011032 -1.517641  0.167060\n",
       "2020-01-02  0.133622  0.238734  0.739525  2.212759\n",
       "2020-01-03  0.652308  0.085384 -0.184235  1.786697\n",
       "2020-01-04 -0.425888 -0.366928  1.296842  0.842845\n",
       "2020-01-05  0.224079 -0.586827 -0.016565  0.654547\n",
       "2020-01-06  0.000030 -0.668467  0.654753 -1.302914\n",
       "2020-01-07 -0.012046  0.466419  1.961327 -0.823576\n",
       "2020-01-08  0.455640 -0.165067 -0.767501  0.163913\n",
       "2020-01-09 -0.937207  0.554769 -0.112882 -0.159964"
      ]
     },
     "execution_count": 2,
     "metadata": {},
     "output_type": "execute_result"
    }
   ],
   "source": [
    "import pandas as pd\n",
    "import numpy as np\n",
    "\n",
    "df = pd.DataFrame(data=np.random.randn(9, 4), \n",
    "                  index=pd.date_range(\"20200101\", periods=9),\n",
    "                  columns=list(\"ABCD\"))\n",
    "print('A sample dataset:')\n",
    "df"
   ]
  },
  {
   "cell_type": "code",
   "execution_count": 3,
   "metadata": {},
   "outputs": [
    {
     "data": {
      "text/html": [
       "<div>\n",
       "<style scoped>\n",
       "    .dataframe tbody tr th:only-of-type {\n",
       "        vertical-align: middle;\n",
       "    }\n",
       "\n",
       "    .dataframe tbody tr th {\n",
       "        vertical-align: top;\n",
       "    }\n",
       "\n",
       "    .dataframe thead th {\n",
       "        text-align: right;\n",
       "    }\n",
       "</style>\n",
       "<table border=\"1\" class=\"dataframe\">\n",
       "  <thead>\n",
       "    <tr style=\"text-align: right;\">\n",
       "      <th></th>\n",
       "      <th>A</th>\n",
       "      <th>B</th>\n",
       "      <th>C</th>\n",
       "      <th>D</th>\n",
       "    </tr>\n",
       "  </thead>\n",
       "  <tbody>\n",
       "    <tr>\n",
       "      <th>count</th>\n",
       "      <td>9.000000</td>\n",
       "      <td>9.000000</td>\n",
       "      <td>9.000000</td>\n",
       "      <td>9.000000</td>\n",
       "    </tr>\n",
       "    <tr>\n",
       "      <th>mean</th>\n",
       "      <td>0.119094</td>\n",
       "      <td>-0.050335</td>\n",
       "      <td>0.228180</td>\n",
       "      <td>0.393485</td>\n",
       "    </tr>\n",
       "    <tr>\n",
       "      <th>std</th>\n",
       "      <td>0.569690</td>\n",
       "      <td>0.435892</td>\n",
       "      <td>1.059178</td>\n",
       "      <td>1.134138</td>\n",
       "    </tr>\n",
       "    <tr>\n",
       "      <th>min</th>\n",
       "      <td>-0.937207</td>\n",
       "      <td>-0.668467</td>\n",
       "      <td>-1.517641</td>\n",
       "      <td>-1.302914</td>\n",
       "    </tr>\n",
       "    <tr>\n",
       "      <th>25%</th>\n",
       "      <td>-0.012046</td>\n",
       "      <td>-0.366928</td>\n",
       "      <td>-0.184235</td>\n",
       "      <td>-0.159964</td>\n",
       "    </tr>\n",
       "    <tr>\n",
       "      <th>50%</th>\n",
       "      <td>0.133622</td>\n",
       "      <td>-0.011032</td>\n",
       "      <td>-0.016565</td>\n",
       "      <td>0.167060</td>\n",
       "    </tr>\n",
       "    <tr>\n",
       "      <th>75%</th>\n",
       "      <td>0.455640</td>\n",
       "      <td>0.238734</td>\n",
       "      <td>0.739525</td>\n",
       "      <td>0.842845</td>\n",
       "    </tr>\n",
       "    <tr>\n",
       "      <th>max</th>\n",
       "      <td>0.981307</td>\n",
       "      <td>0.554769</td>\n",
       "      <td>1.961327</td>\n",
       "      <td>2.212759</td>\n",
       "    </tr>\n",
       "  </tbody>\n",
       "</table>\n",
       "</div>"
      ],
      "text/plain": [
       "              A         B         C         D\n",
       "count  9.000000  9.000000  9.000000  9.000000\n",
       "mean   0.119094 -0.050335  0.228180  0.393485\n",
       "std    0.569690  0.435892  1.059178  1.134138\n",
       "min   -0.937207 -0.668467 -1.517641 -1.302914\n",
       "25%   -0.012046 -0.366928 -0.184235 -0.159964\n",
       "50%    0.133622 -0.011032 -0.016565  0.167060\n",
       "75%    0.455640  0.238734  0.739525  0.842845\n",
       "max    0.981307  0.554769  1.961327  2.212759"
      ]
     },
     "execution_count": 3,
     "metadata": {},
     "output_type": "execute_result"
    }
   ],
   "source": [
    "df.describe()"
   ]
  },
  {
   "cell_type": "code",
   "execution_count": 4,
   "metadata": {},
   "outputs": [
    {
     "data": {
      "text/html": [
       "<div>\n",
       "<style scoped>\n",
       "    .dataframe tbody tr th:only-of-type {\n",
       "        vertical-align: middle;\n",
       "    }\n",
       "\n",
       "    .dataframe tbody tr th {\n",
       "        vertical-align: top;\n",
       "    }\n",
       "\n",
       "    .dataframe thead th {\n",
       "        text-align: right;\n",
       "    }\n",
       "</style>\n",
       "<table border=\"1\" class=\"dataframe\">\n",
       "  <thead>\n",
       "    <tr style=\"text-align: right;\">\n",
       "      <th></th>\n",
       "      <th>A</th>\n",
       "      <th>D</th>\n",
       "    </tr>\n",
       "  </thead>\n",
       "  <tbody>\n",
       "    <tr>\n",
       "      <th>2020-01-01</th>\n",
       "      <td>0.981307</td>\n",
       "      <td>0.167060</td>\n",
       "    </tr>\n",
       "    <tr>\n",
       "      <th>2020-01-02</th>\n",
       "      <td>0.133622</td>\n",
       "      <td>2.212759</td>\n",
       "    </tr>\n",
       "    <tr>\n",
       "      <th>2020-01-03</th>\n",
       "      <td>0.652308</td>\n",
       "      <td>1.786697</td>\n",
       "    </tr>\n",
       "    <tr>\n",
       "      <th>2020-01-04</th>\n",
       "      <td>-0.425888</td>\n",
       "      <td>0.842845</td>\n",
       "    </tr>\n",
       "    <tr>\n",
       "      <th>2020-01-05</th>\n",
       "      <td>0.224079</td>\n",
       "      <td>0.654547</td>\n",
       "    </tr>\n",
       "    <tr>\n",
       "      <th>2020-01-06</th>\n",
       "      <td>0.000030</td>\n",
       "      <td>-1.302914</td>\n",
       "    </tr>\n",
       "    <tr>\n",
       "      <th>2020-01-07</th>\n",
       "      <td>-0.012046</td>\n",
       "      <td>-0.823576</td>\n",
       "    </tr>\n",
       "    <tr>\n",
       "      <th>2020-01-08</th>\n",
       "      <td>0.455640</td>\n",
       "      <td>0.163913</td>\n",
       "    </tr>\n",
       "    <tr>\n",
       "      <th>2020-01-09</th>\n",
       "      <td>-0.937207</td>\n",
       "      <td>-0.159964</td>\n",
       "    </tr>\n",
       "  </tbody>\n",
       "</table>\n",
       "</div>"
      ],
      "text/plain": [
       "                   A         D\n",
       "2020-01-01  0.981307  0.167060\n",
       "2020-01-02  0.133622  2.212759\n",
       "2020-01-03  0.652308  1.786697\n",
       "2020-01-04 -0.425888  0.842845\n",
       "2020-01-05  0.224079  0.654547\n",
       "2020-01-06  0.000030 -1.302914\n",
       "2020-01-07 -0.012046 -0.823576\n",
       "2020-01-08  0.455640  0.163913\n",
       "2020-01-09 -0.937207 -0.159964"
      ]
     },
     "execution_count": 4,
     "metadata": {},
     "output_type": "execute_result"
    }
   ],
   "source": [
    "df[['A', 'D']]"
   ]
  },
  {
   "cell_type": "code",
   "execution_count": 5,
   "metadata": {},
   "outputs": [
    {
     "data": {
      "image/png": "[encoded data removed]",
      "text/plain": [
       "<Figure size 432x288 with 1 Axes>"
      ]
     },
     "metadata": {
      "needs_background": "light"
     },
     "output_type": "display_data"
    }
   ],
   "source": [
    "df.plot.bar(stacked=True);"
   ]
  },
  {
   "cell_type": "markdown",
   "metadata": {},
   "source": [
    "## Python libraries for data science | pandas | learning resources\n",
    "\n",
    "Here are some of the good places to learn more about _pandas_:\n",
    "\n",
    "\\- [User Guide](https://pandas.pydata.org/pandas-docs/stable/user_guide/index.html)<br>\n",
    "\\- [API Reference](https://pandas.pydata.org/pandas-docs/stable/reference/index.html#api)<br>\n",
    "\\- [10 minutes to pandas](https://pandas.pydata.org/pandas-docs/stable/user_guide/10min.html#min)<br>\n",
    "\\- [Essential basic functionality](https://pandas.pydata.org/pandas-docs/stable/user_guide/basics.html#basics)<br>\n",
    "\\- [Cookbook](https://pandas.pydata.org/pandas-docs/stable/user_guide/cookbook.html#cookbook)<br>\n",
    "\\- [Tutorials](https://pandas.pydata.org/pandas-docs/version/0.15/tutorials.html)<br>"
   ]
  },
  {
   "cell_type": "markdown",
   "metadata": {},
   "source": [
    " "
   ]
  },
  {
   "cell_type": "markdown",
   "metadata": {},
   "source": [
    "# Python libraries for data science | Matplotlib\n",
    "\n",
    "The low-level library of [Matplotlib](https://matplotlib.org/) provides with so many different visualization and formatting features, which allows the creation of highly-complex and informative data visualizations in Python. Feel free to check out our tutorial on [Data visualization in Python](https://soardeepsci.com/data-visualization-in-python/) for more details.\n",
    "\n",
    "### Example:\n",
    "Here is a simple Python code snippet showing how to use _matplotlib_ to produce a stacked bar plot for the sales data of two products, Product-A and Product-B, over four different quarters. If interested, please see our [Data visualization in Python](https://soardeepsci.com/data-visualization-in-python/) tutorial for more details."
   ]
  },
  {
   "cell_type": "code",
   "execution_count": 6,
   "metadata": {},
   "outputs": [
    {
     "data": {
      "image/png": "[encoded data removed]",
      "text/plain": [
       "<Figure size 432x288 with 1 Axes>"
      ]
     },
     "metadata": {
      "needs_background": "light"
     },
     "output_type": "display_data"
    }
   ],
   "source": [
    "import matplotlib.pyplot as plt\n",
    "import numpy as np\n",
    "\n",
    "PA_means = [80, 64, 55, 65]\n",
    "PB_means = [65, 72, 61, 85]\n",
    "tot_sales = []\n",
    "for ind, item in enumerate(PA_means):\n",
    "    tot_sales.append(PA_means[ind]+PB_means[ind])\n",
    "PA_std = [10, 5, 8, 5]\n",
    "PB_std = [5, 10, 5, 8]\n",
    "tot_std = [12, 12, 10, 10]\n",
    "labels = ['$Q_1$', '$Q_2$', '$Q_3$', '$Q_4$']\n",
    "x = np.arange(len(labels))\n",
    "bar_width = 0.25\n",
    "fig, ax = plt.subplots()\n",
    "bar1 = ax.bar(x - bar_width/2, PA_means, bar_width, label='Product-A')\n",
    "bar2 = ax.bar(x + bar_width/2, PB_means, bar_width, label='Product-B')\n",
    "ax.set_ylabel('Sales')\n",
    "ax.set_title('Sales of Products A & B over four Quarters')\n",
    "ax.set_xticks(x)\n",
    "ax.set_xticklabels(labels)\n",
    "ax.set_ylim(0, 100)\n",
    "ax.legend(loc=\"upper center\")\n",
    "ax.bar_label(bar1, padding=3)\n",
    "ax.bar_label(bar2, padding=3)\n",
    "fig.tight_layout()"
   ]
  },
  {
   "cell_type": "markdown",
   "metadata": {},
   "source": [
    "## Python libraries for data science | matplotlib | learning resources\n",
    "\n",
    "Here are some of the good places to learn more about _matplotlib_:\n",
    "\n",
    "\\- [Matplotlib gallery](https://matplotlib.org/stable/gallery/index.html)<br>\n",
    "\\- [External resources](https://matplotlib.org/stable/users/resources/index.html)<br>"
   ]
  },
  {
   "cell_type": "markdown",
   "metadata": {},
   "source": [
    " "
   ]
  },
  {
   "cell_type": "markdown",
   "metadata": {},
   "source": [
    "# Python libraries for data science | Seaborn\n",
    "\n",
    "_Seaborn_ is a Python data visualization library built on top of _matplotlib_. That is, _Seaborn_ provides a high-level interface enabling you to draw attractive and informative statistical graphics with a relatively small amount of coding. Please feel free to check out our [introduction and demos on Seaborn](https://soardeepsci.com/data-visualization-in-python/).\n",
    "\n",
    "### Example:\n",
    "Here is a simple Python code snippet showing how to use _seaborn_ to easily draw kernel density plot with marginal histograms. More information can be found in our [Data visualization in Python](https://soardeepsci.com/data-visualization-in-python/) tutorial."
   ]
  },
  {
   "cell_type": "code",
   "execution_count": 7,
   "metadata": {},
   "outputs": [
    {
     "data": {
      "image/png": "[encoded data removed]",
      "text/plain": [
       "<Figure size 432x432 with 3 Axes>"
      ]
     },
     "metadata": {
      "needs_background": "light"
     },
     "output_type": "display_data"
    }
   ],
   "source": [
    "import seaborn as sns\n",
    "penguins = sns.load_dataset(\"penguins\")\n",
    "g = sns.JointGrid(data=penguins, x=\"body_mass_g\", y=\"bill_depth_mm\", space=0.1)\n",
    "g.plot_joint(sns.kdeplot, fill=True, cmap=\"hot\");\n",
    "g.plot_marginals(sns.histplot, color=\"darkred\", alpha=0.6, bins=20);"
   ]
  },
  {
   "cell_type": "markdown",
   "metadata": {},
   "source": [
    "## Python libraries for data science | seaborn | learning resources\n",
    "\n",
    "Here are some of the good places to learn more about _seaborn_:\n",
    "\n",
    "\\- [Introduction](https://seaborn.pydata.org/introduction.html)<br>\n",
    "\\- [User guide and tutorial](https://seaborn.pydata.org/tutorial.html)<br>\n",
    "\\- [Example gallery](https://seaborn.pydata.org/examples/index.html)<br>"
   ]
  },
  {
   "cell_type": "markdown",
   "metadata": {},
   "source": [
    " "
   ]
  },
  {
   "cell_type": "markdown",
   "metadata": {},
   "source": [
    "# Python libraries for data science | SciPy\n",
    "\n",
    "[SciPy](https://scipy.org/) is a Python library used for scientific computing.\n",
    "_SciPy_ provides algorithms for optimization, integration, interpolation, eigenvalue problems, algebraic equations, differential equations, statistics, FFT, signal and image processing, and many other classes of problems. With _SciPy_, an interactive Python session becomes a data-processing and system-prototyping environment rivaling systems, such as MATLAB, IDL, Octave, R-Lab, and SciLab; [More info](https://scipy.github.io/devdocs/tutorial/general.html).\n",
    "\n",
    "### Example:\n",
    "Here is a simple Python code snippet showing how to use _SciPy_ to evaluate $\\int_{-1}^{+1}(ax^2+bx+c)~dx$ for the case of $a=b=c=1$."
   ]
  },
  {
   "cell_type": "code",
   "execution_count": 8,
   "metadata": {},
   "outputs": [
    {
     "name": "stdout",
     "output_type": "stream",
     "text": [
      "approximation of the integral: 2.666666666666667\n",
      "an estimate of the absolute error in the result: 2.960594732333751e-14\n"
     ]
    }
   ],
   "source": [
    "from scipy.integrate import quad\n",
    "def integrand(x, a, b, c):\n",
    "    return a*x**2 + b*x + c\n",
    "a=1\n",
    "b=1\n",
    "c=1\n",
    "lim_low = -1\n",
    "lim_up = 1\n",
    "I = quad(integrand, lim_low, lim_up, args=(a,b,c))\n",
    "print(f'approximation of the integral: {I[0]}')\n",
    "print(f'an estimate of the absolute error in the result: {I[1]}')"
   ]
  },
  {
   "cell_type": "markdown",
   "metadata": {},
   "source": [
    "### Example:\n",
    "\n",
    "Here is another example showing how to use _odeint_ from _SciPy_ to numerically solve the ordinary differential equation of $\\theta''(t) + a\\theta'(t) + b\\sin(\\theta(t)) = 0$ with the initial conditions of $\\theta(0)=\\pi-0.001$ and $\\theta'(0)=0$:"
   ]
  },
  {
   "cell_type": "code",
   "execution_count": 9,
   "metadata": {},
   "outputs": [
    {
     "data": {
      "image/png": "[encoded data removed]",
      "text/plain": [
       "<Figure size 432x288 with 1 Axes>"
      ]
     },
     "metadata": {
      "needs_background": "light"
     },
     "output_type": "display_data"
    }
   ],
   "source": [
    "import numpy as np\n",
    "from scipy.integrate import odeint\n",
    "\n",
    "#---------------------------------\n",
    "#convert the 2nd order ODE to a \n",
    "#system of first order equations\n",
    "#---------------------------------\n",
    "def odesys(y, t, a, b):\n",
    "    y0, y1 = y\n",
    "    dydt = [y1, -a*y1 - b*np.sin(y0)]\n",
    "    return dydt\n",
    "a = 0.7\n",
    "b = 10\n",
    "y0 = [np.pi - 1e-3, 0.0]\n",
    "t = np.linspace(0, 15, 200)\n",
    "\n",
    "sol = odeint(odesys, y0, t, args=(a, b))\n",
    "\n",
    "import matplotlib.pyplot as plt\n",
    "plt.plot(t, sol[:, 0]*180/np.pi, 'g', label='Angle (deg)')\n",
    "plt.plot(t, sol[:, 1]*180/np.pi, '--r', label='Angular speed (deg/sec)')\n",
    "plt.legend()\n",
    "plt.xlabel('t')\n",
    "plt.show()"
   ]
  },
  {
   "cell_type": "markdown",
   "metadata": {},
   "source": [
    "## Python libraries for data science | SciPy | learning resources\n",
    "\n",
    "Here are some of the good places to learn more about _SciPy_:\n",
    "\n",
    "\\- [SciPy User Guide](https://scipy.github.io/devdocs/tutorial/index.html#user-guide)<br>\n",
    "\\- [SciPy API](https://scipy.github.io/devdocs/reference/index.html#scipy-api)<br>\n",
    "\\- [Q&A](https://stackoverflow.com/questions/tagged/scipy)<br>"
   ]
  },
  {
   "cell_type": "markdown",
   "metadata": {},
   "source": [
    " "
   ]
  },
  {
   "cell_type": "markdown",
   "metadata": {},
   "source": [
    "# Python libraries for machine learning | scikit-learn\n",
    "\n",
    "[Scikit-learn](https://scikit-learn.org/stable/) is one of the most commonly-used Python libraries for machine learning. \n",
    "_Scikit-learn_ is built on _NumPy_, _SciPy_, and _matplotlib_, and provides simple and efficient tools for predictive data analysis.\n",
    "It offers various optimized tools for:<br>\n",
    "\n",
    "\\- **classification**: SVM, nearest neighbors, random forest, and more.<br> \n",
    "\\- **regression**:  SVR, nearest neighbors, random forest, and more.<br> \n",
    "\\- **clustering**:  k-Means, spectral clustering, mean-shift, DBSCAN, and more.<br>\n",
    "\\- **dimensionality reduction**: PCA, k-Means, feature selection, non-negative matrix factorization, and more.<br>\n",
    "\\- **preprocessing**: standardization, non-linear transformation, encoding categorical features, discretization, imputation of missing values, generating polynomial features, etc.<br>\n",
    "\n",
    "### Example:\n",
    "Here is a Python code example demonstrating how to use K-Means clustering tool from _Scikit-learn_:"
   ]
  },
  {
   "cell_type": "code",
   "execution_count": 10,
   "metadata": {},
   "outputs": [
    {
     "data": {
      "image/png": "[encoded data removed]",
      "text/plain": [
       "<Figure size 576x864 with 2 Axes>"
      ]
     },
     "metadata": {
      "needs_background": "light"
     },
     "output_type": "display_data"
    }
   ],
   "source": [
    "from sklearn.cluster import KMeans\n",
    "from sklearn.datasets import make_blobs\n",
    "import matplotlib.pyplot as plt\n",
    "\n",
    "# sample data\n",
    "n_points = 5000\n",
    "n_clusters = 5\n",
    "\n",
    "X, y_true = make_blobs(\n",
    "    n_samples=n_points, centers=n_clusters, cluster_std=1, random_state=123)\n",
    "\n",
    "# kmeans clustering\n",
    "kmeans = KMeans(n_clusters=n_clusters, init='k-means++').fit(X)\n",
    "\n",
    "# list of colors for different clusters\n",
    "colors = [\"blue\", \"orange\", \"green\", \"yellow\", \"magenta\"]\n",
    "\n",
    "fig, ax = plt.subplots(2,1, figsize=(8,12))\n",
    "ax[0].scatter(X[:,0], X[:,1], s=1)\n",
    "ax[0].set_title(\"Raw data\")\n",
    "for k, col in enumerate(colors):\n",
    "    cluster_data = y_true == k\n",
    "    ax[1].scatter(X[cluster_data, 0], X[cluster_data, 1], c=col, marker=\".\", s=10)\n",
    "\n",
    "ax[1].scatter(kmeans.cluster_centers_[:,0], kmeans.cluster_centers_[:,1], c='black', marker=\".\", s=200)\n",
    "ax[1].set_title(\"K-Means clustering\")\n",
    "plt.subplots_adjust(left=None, bottom=None, right=None, top=None, wspace=None, hspace=0.3)\n",
    "plt.show()"
   ]
  },
  {
   "cell_type": "markdown",
   "metadata": {},
   "source": [
    "## Python libraries for machine learning | scikit-learn | learning resources\n",
    "\n",
    "Here are some of the good places to learn more about machine learning as well as how to work with _scikit-learn_:\n",
    "\n",
    "\\- [User Guide for details on all the tools](https://scikit-learn.org/stable/user_guide.html#user-guide)<br>\n",
    "\\- [Tutorials](https://scikit-learn.org/stable/tutorial/index.html#tutorial-menu)<br>\n",
    "\\- [Example gallery](https://scikit-learn.org/stable/auto_examples/index.html#general-examples)<br>\n",
    "\\- [List of the public API](https://scikit-learn.org/stable/modules/classes.html#api-ref)<br>"
   ]
  },
  {
   "cell_type": "markdown",
   "metadata": {},
   "source": [
    " "
   ]
  },
  {
   "cell_type": "markdown",
   "metadata": {},
   "source": [
    "# Python libraries for machine learning | PyTorch\n",
    "\n",
    "[PyTorch](https://pytorch.org/) is one of the most popular Python libraries for machine learning. It is widely used to produce deep learning models for applications such as computer vision, natural language processing, etc.\n",
    "It mainly provides low-level functionalities, which makes it flexible, but necessitating a relatively more amount of coding.\n",
    "\n",
    "### Example:\n",
    "Here is a Python code example from [Tutorials on PyTorch Page](https://pytorch.org/tutorials/beginner/basics/quickstart_tutorial.html) demonstrating how to use the _nn_ package from _PyTorch_ to define a neural network:"
   ]
  },
  {
   "cell_type": "code",
   "execution_count": 11,
   "metadata": {},
   "outputs": [
    {
     "name": "stderr",
     "output_type": "stream",
     "text": [
      "C:\\Anaconda3\\lib\\site-packages\\torchvision\\datasets\\mnist.py:498: UserWarning: The given NumPy array is not writeable, and PyTorch does not support non-writeable tensors. This means you can write to the underlying (supposedly non-writeable) NumPy array using the tensor. You may want to copy the array to protect its data or make it writeable before converting it to a tensor. This type of warning will be suppressed for the rest of this program. (Triggered internally at  ..\\torch\\csrc\\utils\\tensor_numpy.cpp:180.)\n",
      "  return torch.from_numpy(parsed.astype(m[2], copy=False)).view(*s)\n"
     ]
    },
    {
     "name": "stdout",
     "output_type": "stream",
     "text": [
      "Shape of X [N, C, H, W]:  torch.Size([64, 1, 28, 28])\n",
      "Shape of y:  torch.Size([64]) torch.int64\n",
      "Using cpu device\n",
      "NeuralNetwork(\n",
      "  (flatten): Flatten(start_dim=1, end_dim=-1)\n",
      "  (linear_relu_stack): Sequential(\n",
      "    (0): Linear(in_features=784, out_features=512, bias=True)\n",
      "    (1): ReLU()\n",
      "    (2): Linear(in_features=512, out_features=512, bias=True)\n",
      "    (3): ReLU()\n",
      "    (4): Linear(in_features=512, out_features=10, bias=True)\n",
      "  )\n",
      ")\n",
      "Epoch 1\n",
      "-------------------------------\n",
      "loss: 2.313722  [    0/60000]\n",
      "loss: 2.299584  [ 6400/60000]\n",
      "loss: 2.280453  [12800/60000]\n",
      "loss: 2.264951  [19200/60000]\n",
      "loss: 2.242018  [25600/60000]\n",
      "loss: 2.210754  [32000/60000]\n",
      "loss: 2.211148  [38400/60000]\n",
      "loss: 2.179595  [44800/60000]\n",
      "loss: 2.183720  [51200/60000]\n",
      "loss: 2.126413  [57600/60000]\n",
      "Test Error: \n",
      " Accuracy: 50.6%, Avg loss: 2.136092 \n",
      "\n",
      "Epoch 2\n",
      "-------------------------------\n",
      "loss: 2.157883  [    0/60000]\n",
      "loss: 2.145946  [ 6400/60000]\n",
      "loss: 2.085629  [12800/60000]\n",
      "loss: 2.093516  [19200/60000]\n",
      "loss: 2.030192  [25600/60000]\n",
      "loss: 1.979502  [32000/60000]\n",
      "loss: 1.990833  [38400/60000]\n",
      "loss: 1.914053  [44800/60000]\n",
      "loss: 1.923028  [51200/60000]\n",
      "loss: 1.828280  [57600/60000]\n",
      "Test Error: \n",
      " Accuracy: 55.0%, Avg loss: 1.838168 \n",
      "\n",
      "Epoch 3\n",
      "-------------------------------\n",
      "loss: 1.882143  [    0/60000]\n",
      "loss: 1.848276  [ 6400/60000]\n",
      "loss: 1.729218  [12800/60000]\n",
      "loss: 1.766755  [19200/60000]\n",
      "loss: 1.654817  [25600/60000]\n",
      "loss: 1.614583  [32000/60000]\n",
      "loss: 1.622771  [38400/60000]\n",
      "loss: 1.530457  [44800/60000]\n",
      "loss: 1.558087  [51200/60000]\n",
      "loss: 1.445355  [57600/60000]\n",
      "Test Error: \n",
      " Accuracy: 59.8%, Avg loss: 1.473803 \n",
      "\n",
      "Epoch 4\n",
      "-------------------------------\n",
      "loss: 1.543661  [    0/60000]\n",
      "loss: 1.513034  [ 6400/60000]\n",
      "loss: 1.366507  [12800/60000]\n",
      "loss: 1.443375  [19200/60000]\n",
      "loss: 1.323853  [25600/60000]\n",
      "loss: 1.321450  [32000/60000]\n",
      "loss: 1.328577  [38400/60000]\n",
      "loss: 1.258725  [44800/60000]\n",
      "loss: 1.295520  [51200/60000]\n",
      "loss: 1.194051  [57600/60000]\n",
      "Test Error: \n",
      " Accuracy: 63.0%, Avg loss: 1.226261 \n",
      "\n",
      "Epoch 5\n",
      "-------------------------------\n",
      "loss: 1.302112  [    0/60000]\n",
      "loss: 1.287524  [ 6400/60000]\n",
      "loss: 1.126354  [12800/60000]\n",
      "loss: 1.238420  [19200/60000]\n",
      "loss: 1.108498  [25600/60000]\n",
      "loss: 1.133886  [32000/60000]\n",
      "loss: 1.149940  [38400/60000]\n",
      "loss: 1.092045  [44800/60000]\n",
      "loss: 1.132019  [51200/60000]\n",
      "loss: 1.045961  [57600/60000]\n",
      "Test Error: \n",
      " Accuracy: 64.4%, Avg loss: 1.071245 \n",
      "\n",
      "Done!\n",
      "Saved PyTorch Model State to model.pth\n",
      "Predicted: \"Ankle boot\", Actual: \"Ankle boot\"\n"
     ]
    }
   ],
   "source": [
    "import torch\n",
    "from torch import nn\n",
    "from torch.utils.data import DataLoader\n",
    "from torchvision import datasets\n",
    "from torchvision.transforms import ToTensor, Lambda, Compose\n",
    "import matplotlib.pyplot as plt\n",
    "\n",
    "# Download training data from open datasets.\n",
    "training_data = datasets.FashionMNIST(\n",
    "    root=\"data\",\n",
    "    train=True,\n",
    "    download=True,\n",
    "    transform=ToTensor(),\n",
    ")\n",
    "\n",
    "# Download test data from open datasets.\n",
    "test_data = datasets.FashionMNIST(\n",
    "    root=\"data\",\n",
    "    train=False,\n",
    "    download=True,\n",
    "    transform=ToTensor(),\n",
    ")\n",
    "\n",
    "batch_size = 64\n",
    "\n",
    "# Create data loaders.\n",
    "train_dataloader = DataLoader(training_data, batch_size=batch_size)\n",
    "test_dataloader = DataLoader(test_data, batch_size=batch_size)\n",
    "\n",
    "for X, y in test_dataloader:\n",
    "    print(\"Shape of X [N, C, H, W]: \", X.shape)\n",
    "    print(\"Shape of y: \", y.shape, y.dtype)\n",
    "    break\n",
    "    \n",
    "# Get cpu or gpu device for training.\n",
    "device = \"cuda\" if torch.cuda.is_available() else \"cpu\"\n",
    "print(f\"Using {device} device\")\n",
    "\n",
    "# Define model\n",
    "class NeuralNetwork(nn.Module):\n",
    "    def __init__(self):\n",
    "        super(NeuralNetwork, self).__init__()\n",
    "        self.flatten = nn.Flatten()\n",
    "        self.linear_relu_stack = nn.Sequential(\n",
    "            nn.Linear(28*28, 512),\n",
    "            nn.ReLU(),\n",
    "            nn.Linear(512, 512),\n",
    "            nn.ReLU(),\n",
    "            nn.Linear(512, 10)\n",
    "        )\n",
    "\n",
    "    def forward(self, x):\n",
    "        x = self.flatten(x)\n",
    "        logits = self.linear_relu_stack(x)\n",
    "        return logits\n",
    "\n",
    "model = NeuralNetwork().to(device)\n",
    "print(model)\n",
    "\n",
    "loss_fn = nn.CrossEntropyLoss()\n",
    "optimizer = torch.optim.SGD(model.parameters(), lr=1e-3)\n",
    "\n",
    "def train(dataloader, model, loss_fn, optimizer):\n",
    "    size = len(dataloader.dataset)\n",
    "    model.train()\n",
    "    for batch, (X, y) in enumerate(dataloader):\n",
    "        X, y = X.to(device), y.to(device)\n",
    "\n",
    "        # Compute prediction error\n",
    "        pred = model(X)\n",
    "        loss = loss_fn(pred, y)\n",
    "\n",
    "        # Backpropagation\n",
    "        optimizer.zero_grad()\n",
    "        loss.backward()\n",
    "        optimizer.step()\n",
    "\n",
    "        if batch % 100 == 0:\n",
    "            loss, current = loss.item(), batch * len(X)\n",
    "            print(f\"loss: {loss:>7f}  [{current:>5d}/{size:>5d}]\")\n",
    "def test(dataloader, model, loss_fn):\n",
    "    size = len(dataloader.dataset)\n",
    "    num_batches = len(dataloader)\n",
    "    model.eval()\n",
    "    test_loss, correct = 0, 0\n",
    "    with torch.no_grad():\n",
    "        for X, y in dataloader:\n",
    "            X, y = X.to(device), y.to(device)\n",
    "            pred = model(X)\n",
    "            test_loss += loss_fn(pred, y).item()\n",
    "            correct += (pred.argmax(1) == y).type(torch.float).sum().item()\n",
    "    test_loss /= num_batches\n",
    "    correct /= size\n",
    "    print(f\"Test Error: \\n Accuracy: {(100*correct):>0.1f}%, Avg loss: {test_loss:>8f} \\n\")\n",
    "\n",
    "epochs = 5\n",
    "for t in range(epochs):\n",
    "    print(f\"Epoch {t+1}\\n-------------------------------\")\n",
    "    train(train_dataloader, model, loss_fn, optimizer)\n",
    "    test(test_dataloader, model, loss_fn)\n",
    "print(\"Done!\")\n",
    "\n",
    "torch.save(model.state_dict(), \"model.pth\")\n",
    "print(\"Saved PyTorch Model State to model.pth\")\n",
    "\n",
    "model = NeuralNetwork()\n",
    "model.load_state_dict(torch.load(\"model.pth\"))\n",
    "\n",
    "classes = [\n",
    "    \"T-shirt/top\",\n",
    "    \"Trouser\",\n",
    "    \"Pullover\",\n",
    "    \"Dress\",\n",
    "    \"Coat\",\n",
    "    \"Sandal\",\n",
    "    \"Shirt\",\n",
    "    \"Sneaker\",\n",
    "    \"Bag\",\n",
    "    \"Ankle boot\",\n",
    "]\n",
    "\n",
    "model.eval()\n",
    "x, y = test_data[0][0], test_data[0][1]\n",
    "with torch.no_grad():\n",
    "    pred = model(x)\n",
    "    predicted, actual = classes[pred[0].argmax(0)], classes[y]\n",
    "    print(f'Predicted: \"{predicted}\", Actual: \"{actual}\"')"
   ]
  },
  {
   "cell_type": "markdown",
   "metadata": {},
   "source": [
    "## Python libraries for machine learning | PyTorch | learning resources\n",
    "\n",
    "Here are some of the good places to learn more about machine learning as well as how to work with _PyTorch_:\n",
    "\n",
    "\\- [PyTorch documentation](https://pytorch.org/docs/stable/index.html)<br>\n",
    "\\- [PyTorch Tutorials](https://pytorch.org/tutorials/)<br>\n",
    "\\- [PyTorch Tutorials on github](https://github.com/pytorch/tutorials)<br>\n",
    "\\- [PyTorch examples on github](https://github.com/pytorch/examples)<br>\n",
    "\\- [PyTorch Cheat Sheet](https://pytorch.org/tutorials/beginner/ptcheat.html)<br>\n",
    "\\- [Deep Learning with PyTorch: A 60 Minute Blitz](https://pytorch.org/tutorials/beginner/deep_learning_60min_blitz.html)<br>\n",
    "\\- [Discussion forum](https://discuss.pytorch.org/)<br>\n",
    "\\- [Deep Learning with PyTorch](https://github.com/deep-learning-with-pytorch/dlwpt-code)"
   ]
  },
  {
   "cell_type": "markdown",
   "metadata": {},
   "source": [
    "# Python libraries for machine learning | TensorFlow-Keras \n",
    "\n",
    "Last but not least, [TensorFlow](https://www.tensorflow.org/) and [Keras](https://keras.io/) are arguably the two most popular Python libraries for machine learning. TensorFlow was initially developed by the [Google Brain team](http://download.tensorflow.org/paper/whitepaper2015.pdf). However, Google has open sourced [a version of TensorFlow](http://download.tensorflow.org/paper/whitepaper2015.pdf), and a large community has been formed around it. \n",
    "TensorFlow is an end-to-end framework for machine learning with a flexible and comprehensive ecosystem of tools, libraries and community resources, enabling researchers push the [state-of-the-art in ML](https://www.tensorflow.org/).\n",
    "\n",
    "By using intuitive high-level APIs like [Keras](https://keras.io/), TensorFlow enables ML practitioners to easily build and train ML models. TensorFlow provides low-level functionalities as well, _e.g._ multidimensional-array based numeric computation, [similar to _NumPy_](https://www.tensorflow.org/guide/basics). As a result, _TensorFlow_ is highly flexible, while _keras_ can help accomplish simpler modeling with a much lower amount of coding.\n",
    "\n",
    "### Example:\n",
    "Here is a Python code example from [TensorFlow Learn Page](https://www.tensorflow.org/learn) demonstrating the “Hello World” example in ML by developing a simple neural network using _TensorFlow_ and _Keras_. You can see how using a high-level interface like _Keras_ helps to accomplish the task with a relatively small amount of coding."
   ]
  },
  {
   "cell_type": "code",
   "execution_count": 12,
   "metadata": {},
   "outputs": [
    {
     "name": "stdout",
     "output_type": "stream",
     "text": [
      "Epoch 1/5\n",
      "1875/1875 [==============================] - 7s 3ms/step - loss: 0.2923 - accuracy: 0.9154\n",
      "Epoch 2/5\n",
      "1875/1875 [==============================] - 6s 3ms/step - loss: 0.1401 - accuracy: 0.9585\n",
      "Epoch 3/5\n",
      "1875/1875 [==============================] - 7s 4ms/step - loss: 0.1059 - accuracy: 0.9679\n",
      "Epoch 4/5\n",
      "1875/1875 [==============================] - 8s 4ms/step - loss: 0.0852 - accuracy: 0.9735\n",
      "Epoch 5/5\n",
      "1875/1875 [==============================] - 7s 4ms/step - loss: 0.0731 - accuracy: 0.9765\n",
      "313/313 [==============================] - 2s 4ms/step - loss: 0.0796 - accuracy: 0.9745\n"
     ]
    },
    {
     "data": {
      "text/plain": [
       "[0.07959442585706711, 0.9745000004768372]"
      ]
     },
     "execution_count": 12,
     "metadata": {},
     "output_type": "execute_result"
    }
   ],
   "source": [
    "import tensorflow as tf\n",
    "mnist = tf.keras.datasets.mnist\n",
    "\n",
    "(x_train, y_train),(x_test, y_test) = mnist.load_data()\n",
    "x_train, x_test = x_train / 255.0, x_test / 255.0\n",
    "\n",
    "model = tf.keras.models.Sequential([\n",
    "  tf.keras.layers.Flatten(input_shape=(28, 28)),\n",
    "  tf.keras.layers.Dense(128, activation='relu'),\n",
    "  tf.keras.layers.Dropout(0.2),\n",
    "  tf.keras.layers.Dense(10, activation='softmax')\n",
    "])\n",
    "\n",
    "model.compile(optimizer='adam',\n",
    "              loss='sparse_categorical_crossentropy',\n",
    "              metrics=['accuracy'])\n",
    "\n",
    "model.fit(x_train, y_train, epochs=5)\n",
    "model.evaluate(x_test, y_test)"
   ]
  },
  {
   "cell_type": "markdown",
   "metadata": {},
   "source": [
    "## Python libraries for machine learning | TensorFlow-Keras | learning resources\n",
    "\n",
    "Here are some of the good places to learn more about machine learning as well as how to work with _TensorFlow_ and _Keras_:\n",
    "\n",
    "\\- [Great educational resource to learn ML](https://www.tensorflow.org/resources/learn-ml)<br>\n",
    "\\- [TensorFlow tutorials](https://www.tensorflow.org/tutorials)<br>\n",
    "\\- [Introduction to TensorFlow ](https://www.tensorflow.org/learn)<br>\n",
    "\\- [Keras APIs](https://keras.io/api/)<br>\n",
    "\\- [Keras code examples](https://keras.io/examples/)<br>\n",
    "\\- [Developer guides](https://keras.io/guides/)<br>"
   ]
  },
  {
   "cell_type": "markdown",
   "metadata": {},
   "source": [
    "# Final remarks\n",
    "\n",
    "Hopefully, this tutorial was able to provide you with some insight into the most important Python libraries for data science and machine learning. Please, feel free to let us know if you have any comments or questions by commenting down below, or by [contacting us](https://soardeepsci.com/contact/). For further reading, please feel free to check out the rest of our articles from [https://soardeepsci.com/blog/](https://soardeepsci.com/blog/)."
   ]
  }
 ],
 "metadata": {
  "kernelspec": {
   "display_name": "Python 3",
   "language": "python",
   "name": "python3"
  },
  "language_info": {
   "codemirror_mode": {
    "name": "ipython",
    "version": 3
   },
   "file_extension": ".py",
   "mimetype": "text/x-python",
   "name": "python",
   "nbconvert_exporter": "python",
   "pygments_lexer": "ipython3",
   "version": "3.8.5"
  }
 },
 "nbformat": 4,
 "nbformat_minor": 4
}
