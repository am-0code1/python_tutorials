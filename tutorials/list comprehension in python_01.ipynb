{
 "cells": [
  {
   "cell_type": "markdown",
   "metadata": {},
   "source": [
    "# List comprehension in Python\n",
    "\n",
    "### Importance\n",
    "As a programmer, you most likely care about the beauty, legibility, and simplicity of your codes!\n",
    "Remember the following from _The Zen of Python_?!\n",
    "\n",
    "<font color=\"blue\"><b>\n",
    "- Beautiful is better than ugly.<br>\n",
    "- Explicit is better than implicit.<br>\n",
    "- Simple is better than complex.<br>\n",
    "- Readability counts.<br>\n",
    "</b></font>\n",
    "\n",
    "Python offers a very cool syntax called _list comprehension_ or simply _listcomp_ that enables the creation of a list from another sequence in a neat, concise, and wise manner!\n",
    "\n",
    "### Scope of tutorial and what you learn\n",
    "\n",
    "In this tutorial, we introduce the _comprehension syntax_ in Python. \n",
    "In particular, we introduce the elegant syntax of list comprehension (or simply _listcomp_).\n",
    "We provide numerous examples demonstrating how list comprehension enables us to write neat, concise, and legible codes when creating a list from another sequence.\n",
    "We also discuss how to extend the Python list comprehension syntax to set comprehension, and dictionary comprehension.\n",
    "\n",
    "As you flow through this tutorial, you learn the answer to questions such as:\n",
    "\n",
    "\\- What is _list comprehension_ in Python?<br>\n",
    "\\- What is the significance of _list comprehension_ in Python?<br>\n",
    "\\- What is the Python nested list comprehension?<br>\n",
    "\\- What are the set comprehension, and dictionary comprehension in Python?<br>\n",
    "\n",
    "With that being said, here is the outline of this tutorial:\n",
    "\n",
    "### Outline\n",
    "\n",
    "\\- [List comprehension in Python](#list-comprehension)<br>\n",
    "\\- [Python list comprehension if](#python-list-comprehension-if)<br>\n",
    "\\- [Python nested List comprehension](#nested-list-comprehension)<br>\n",
    "\\- [Python dictionary comprehension](#dict-comprehension)<br>\n",
    "\\- [Python set comprehension](#set-comprehension)<br>\n",
    "\\- [Recap](#recap)<br>\n",
    "\\- [Quiz](#quiz)<br>"
   ]
  },
  {
   "cell_type": "markdown",
   "metadata": {},
   "source": [
    "<a id='list-comprehension'></a>\n",
    "## List comprehension in Python\n",
    "\n",
    "A neat and quick way to create a sequence of type **List** in Python is to use what we call _list comprehension_ or simply _listcomp_.\n",
    "Here is the syntax of list comprehension in Python:\n",
    "\n",
    "<font color=\"darkgreen\"><b>[<i>var(x)</i> for <i>x</i> in <i>iterable</i>]<b></font>,\n",
    "\n",
    "wherein _var(x)_ is an expression to be evaluated for each _x_ from the _iterable_.\n",
    "    \n",
    "Let me explain how it works with a simple example.\n",
    "In the next code snippet, we use the list comprehension in Python to create a list consisting of ASCII code for each character of a given string:"
   ]
  },
  {
   "cell_type": "code",
   "execution_count": 1,
   "metadata": {},
   "outputs": [
    {
     "data": {
      "text/plain": [
       "[76, 101, 97, 114, 110, 32, 80, 121, 116, 104, 111, 110, 33]"
      ]
     },
     "execution_count": 1,
     "metadata": {},
     "output_type": "execute_result"
    }
   ],
   "source": [
    "# Example: creating list with\n",
    "# Python list comprehension\n",
    "\n",
    "chars = \"Learn Python!\"\n",
    "mylist = [ord(x) for x in chars]\n",
    "mylist"
   ]
  },
  {
   "cell_type": "markdown",
   "metadata": {},
   "source": [
    "You can see that we using the list comprehension, this one-line code: **\\[ord(x) for x in chars\\]** gets the job done!\n",
    "\n",
    "Now, compare it with the following code:"
   ]
  },
  {
   "cell_type": "code",
   "execution_count": 2,
   "metadata": {},
   "outputs": [
    {
     "data": {
      "text/plain": [
       "[76, 101, 97, 114, 110, 32, 80, 121, 116, 104, 111, 110, 33]"
      ]
     },
     "execution_count": 2,
     "metadata": {},
     "output_type": "execute_result"
    }
   ],
   "source": [
    "# Example: creating list without\n",
    "# Python list comprehension\n",
    "\n",
    "chars = \"Learn Python!\"\n",
    "mylist = []\n",
    "for x in chars:\n",
    "    mylist.append(ord(x))\n",
    "mylist"
   ]
  },
  {
   "cell_type": "markdown",
   "metadata": {},
   "source": [
    "Now, we can appreciate how cool the list comprehension style really is.\n",
    "You can see that the example **with** list comprehension is more **<font color=blue>concise</font>** and more **<font color=blue>readable</font>** than the example **without** list comprehension.\n",
    "\n",
    "Now, you may say: \n",
    "\n",
    "<font color=\"darkgreen\"><b><i>OK, list comprehension is good, but that would be great if it had if!</i></b></font>\n",
    "\n",
    "Surprise, surprise:\n",
    "\n",
    "<font color=\"darkred\"><b>List comprehension in Python does support _if_ statement!</b></font>\n",
    "\n",
    "And, that is the subject of next section."
   ]
  },
  {
   "cell_type": "markdown",
   "metadata": {},
   "source": [
    " "
   ]
  },
  {
   "cell_type": "markdown",
   "metadata": {},
   "source": [
    "<a id='python-list-comprehension-if'></a>\n",
    "## Python list comprehension if\n",
    "It turns out you can extend the list comprehension or _listcomp_ to include a conditional statement.\n",
    "Here is the syntax of list comprehension with _if_ statement:\n",
    "\n",
    "<font color=\"darkgreen\"><b>[<i>var(x)</i> for <i>x</i> in <i>iterable</i> if <i>condition(x)</i>]<b></font>,\n",
    "\n",
    "wherein _var(x)_ is an expression to be evaluated for each _x_ from the _iterable_ only if the value of the expression _condition(x)_ is ***True***.\n",
    "    \n",
    "Let me explain it with an example."
   ]
  },
  {
   "cell_type": "markdown",
   "metadata": {},
   "source": [
    "<a id='example-list-comprehension-if'></a>\n",
    "### Example: List comprehension if\n",
    "\n",
    "Let's say we want to use the list comprehension with if statement to create a list consisting of uppercase letters (ASCII codes from 65 to 90) of a given string."
   ]
  },
  {
   "cell_type": "code",
   "execution_count": 3,
   "metadata": {},
   "outputs": [
    {
     "data": {
      "text/plain": [
       "['L', 'P', 'S', 'D', 'S']"
      ]
     },
     "execution_count": 3,
     "metadata": {},
     "output_type": "execute_result"
    }
   ],
   "source": [
    "# Example: creating list with\n",
    "# Python list comprehension if\n",
    "\n",
    "chars = \"Learn Python with SoarDeepSci!\"\n",
    "mylist = [x for x in chars if ord(x)>64 and ord(x)<91]\n",
    "mylist"
   ]
  },
  {
   "cell_type": "markdown",
   "metadata": {},
   "source": [
    "Here is the equivalent code without list comprehension:"
   ]
  },
  {
   "cell_type": "code",
   "execution_count": 4,
   "metadata": {},
   "outputs": [
    {
     "data": {
      "text/plain": [
       "['L', 'P', 'S', 'D', 'S']"
      ]
     },
     "execution_count": 4,
     "metadata": {},
     "output_type": "execute_result"
    }
   ],
   "source": [
    "# Example: creating list without\n",
    "# Python list comprehension\n",
    "\n",
    "chars = \"Learn Python with SoarDeepSci!\"\n",
    "mylist = []\n",
    "for x in chars:\n",
    "    if ord(x)>64 and ord(x)<91:\n",
    "        mylist.append(x)\n",
    "mylist"
   ]
  },
  {
   "cell_type": "markdown",
   "metadata": {},
   "source": [
    "By comparing the code snippets with and without list comprehension, you can see that the neat and elegant syntax of list comprehension results in a concise and readable code. \n",
    "\n",
    "That is cool! But, what about the ***nested list comprehension***?! Do we have ***nested list comprehension in Python*** similar to _nested loops_?!\n",
    "\n",
    "Sure, we do! Please, read on.\n"
   ]
  },
  {
   "cell_type": "markdown",
   "metadata": {},
   "source": [
    "<a id='nested-list-comprehension'></a>\n",
    "## Python nested List comprehension\n",
    "\n",
    "As you may know, we can use nested loops (loop inside loop) of different depths, to process Cartesian product of multiple sequences, and potentially create a list out of it.\n",
    "\n",
    "For example, let's say we want to create a list from the Cartesian product of two sequences: _size_ and _color_.\n",
    "Here is the way we can accomplish that by using the nested loops:"
   ]
  },
  {
   "cell_type": "code",
   "execution_count": 5,
   "metadata": {},
   "outputs": [
    {
     "data": {
      "text/plain": [
       "[('red', 'S'),\n",
       " ('red', 'M'),\n",
       " ('red', 'L'),\n",
       " ('green', 'S'),\n",
       " ('green', 'M'),\n",
       " ('green', 'L'),\n",
       " ('blue', 'S'),\n",
       " ('blue', 'M'),\n",
       " ('blue', 'L')]"
      ]
     },
     "execution_count": 5,
     "metadata": {},
     "output_type": "execute_result"
    }
   ],
   "source": [
    "# Example: creating list without\n",
    "# Python nested list comprehension\n",
    "\n",
    "size = ['S', 'M', 'L']\n",
    "color = ['red', 'green', 'blue']\n",
    "\n",
    "mylist = []\n",
    "for c in color:\n",
    "    for s in size:\n",
    "        mylist.append((c, s))\n",
    "mylist"
   ]
  },
  {
   "cell_type": "markdown",
   "metadata": {},
   "source": [
    "It turns out that the listcomp can replace the _nested for loops_ in such cases.\n",
    "Here is the syntax for nested list comprehension in Python:\n",
    "\n",
    "<font color=\"darkgreen\"><b>[<i>var(x)</i> for <i>x</i> in <i>S1</i> for <i>y</i> in <i>S2</i>]<b></font>,\n",
    "\n",
    "wherein the expression _var(x, y)_ is evaluated for each Cartesian product _(x, y)_ of sequences _S1_ and _S2_.\n",
    "    \n",
    "Here is the equivalent code snippet using the Python nested list comprehension:"
   ]
  },
  {
   "cell_type": "code",
   "execution_count": 6,
   "metadata": {},
   "outputs": [
    {
     "data": {
      "text/plain": [
       "[('red', 'S'),\n",
       " ('red', 'M'),\n",
       " ('red', 'L'),\n",
       " ('green', 'S'),\n",
       " ('green', 'M'),\n",
       " ('green', 'L'),\n",
       " ('blue', 'S'),\n",
       " ('blue', 'M'),\n",
       " ('blue', 'L')]"
      ]
     },
     "execution_count": 6,
     "metadata": {},
     "output_type": "execute_result"
    }
   ],
   "source": [
    "# Example: creating list with\n",
    "# Python nested list comprehension\n",
    "\n",
    "size = ['S', 'M', 'L']\n",
    "color = ['red', 'green', 'blue']\n",
    "\n",
    "mylist = [(c, s) for c in color for s in size]\n",
    "mylist"
   ]
  },
  {
   "cell_type": "markdown",
   "metadata": {},
   "source": [
    "Here are the first and last items of the list:"
   ]
  },
  {
   "cell_type": "code",
   "execution_count": 7,
   "metadata": {},
   "outputs": [
    {
     "name": "stdout",
     "output_type": "stream",
     "text": [
      "First item: ('red', 'S')\n",
      "Last  item: ('blue', 'L')\n"
     ]
    }
   ],
   "source": [
    "print(f'First item: {mylist[0]}')\n",
    "print(f'Last  item: {mylist[-1]}')"
   ]
  },
  {
   "cell_type": "markdown",
   "metadata": {},
   "source": [
    "In order to arrange the tuples by _size_ followed by _color_, you can rearrange the _for clauses_.\n",
    "Additionally, you can use a line break in your listcomp to make it even more readable."
   ]
  },
  {
   "cell_type": "code",
   "execution_count": 8,
   "metadata": {},
   "outputs": [
    {
     "data": {
      "text/plain": [
       "[('red', 'S'),\n",
       " ('green', 'S'),\n",
       " ('blue', 'S'),\n",
       " ('red', 'M'),\n",
       " ('green', 'M'),\n",
       " ('blue', 'M'),\n",
       " ('red', 'L'),\n",
       " ('green', 'L'),\n",
       " ('blue', 'L')]"
      ]
     },
     "execution_count": 8,
     "metadata": {},
     "output_type": "execute_result"
    }
   ],
   "source": [
    "# Example: creating list with\n",
    "# Python nested list comprehension\n",
    "# rearranging the for clauses\n",
    "\n",
    "size = ['S', 'M', 'L']\n",
    "color = ['red', 'green', 'blue']\n",
    "\n",
    "mylist = [(c, s) for s in size \n",
    "                 for c in color]\n",
    "mylist"
   ]
  },
  {
   "cell_type": "markdown",
   "metadata": {},
   "source": [
    "As a side-note, you can add if statement to nested list comprehension in Python.\n",
    "For example, the following code snippet uses listcomp to create a list from all Cartesian products of _size_ and _color_ sequences excluding the product ('blue', 'L'):"
   ]
  },
  {
   "cell_type": "code",
   "execution_count": 9,
   "metadata": {},
   "outputs": [
    {
     "data": {
      "text/plain": [
       "[('red', 'S'),\n",
       " ('green', 'S'),\n",
       " ('blue', 'S'),\n",
       " ('red', 'M'),\n",
       " ('green', 'M'),\n",
       " ('blue', 'M'),\n",
       " ('red', 'L'),\n",
       " ('green', 'L')]"
      ]
     },
     "execution_count": 9,
     "metadata": {},
     "output_type": "execute_result"
    }
   ],
   "source": [
    "# Example: creating list with\n",
    "# Python nested list comprehension\n",
    "# and if statement\n",
    "\n",
    "size = ['S', 'M', 'L']\n",
    "color = ['red', 'green', 'blue']\n",
    "\n",
    "mylist = [(c, s) for s in size \n",
    "                 for c in color\n",
    "                 if (c, s) != ('blue', 'L')]\n",
    "mylist"
   ]
  },
  {
   "cell_type": "markdown",
   "metadata": {},
   "source": [
    "At this point, you may say, _Python list comprehension is indeed great! I wish we had other types of python comprehension! You know, something like python dict comprehension, and python set comprehension_!\n",
    "\n",
    "Well, it turns out we do have such useful features! Let me explain in the following."
   ]
  },
  {
   "cell_type": "markdown",
   "metadata": {},
   "source": [
    "<a id='dict-comprehension'></a>\n",
    "## Python dictionary comprehension\n",
    "\n",
    "You can extend the idea of list comprehension to dictionary comprehension in Python!\n",
    "Here is the syntax of Python dictionary comprehension with an _if_ statement:\n",
    "\n",
    "<font color=\"darkgreen\"><b>{<i>key:value</i> for <i>key, value</i> in <i>Seq</i> if <i>condition</i>}</b></font>,\n",
    "\n",
    "wherein the item _key:value_ is included in the dictionary for each _key:value_ in sequence _Seq_ if the _condition_ is ***True***.\n",
    "    \n",
    "Let's look at an example.\n",
    "In the next code snippet, we use the _Python dict comprehension_ to create a dictionary:"
   ]
  },
  {
   "cell_type": "code",
   "execution_count": 10,
   "metadata": {},
   "outputs": [
    {
     "data": {
      "text/plain": [
       "{'apple': 'red',\n",
       " 'banana': 'yellow',\n",
       " 'watermelon': 'green',\n",
       " 'strawberry': 'red'}"
      ]
     },
     "execution_count": 10,
     "metadata": {},
     "output_type": "execute_result"
    }
   ],
   "source": [
    "# Example: creating dictionary with\n",
    "# Python dictionary comprehension\n",
    "\n",
    "fruit = ['apple', 'banana', 'watermelon', 'strawberry']\n",
    "color = ['red', 'yellow', 'green', 'red']\n",
    "\n",
    "mydict = {f:c for f, c in zip(fruit, color)}\n",
    "mydict"
   ]
  },
  {
   "cell_type": "markdown",
   "metadata": {},
   "source": [
    "Here, you may ask, _what does zip do in this example?_\n",
    "\n",
    "The _zip_ function in Python returns an iterator of tuples consisting of corresponding items from multiple iterables. \n",
    "For example, the i-th tuple contains the i-th element from each of the passed iterables.\n",
    "In our example above, ***zip(fruit, color)*** returns an iterator of tuples as follows:"
   ]
  },
  {
   "cell_type": "code",
   "execution_count": 11,
   "metadata": {},
   "outputs": [
    {
     "name": "stdout",
     "output_type": "stream",
     "text": [
      "('apple', 'red')\n",
      "('banana', 'yellow')\n",
      "('watermelon', 'green')\n",
      "('strawberry', 'red')\n"
     ]
    }
   ],
   "source": [
    "for item in zip(fruit, color):\n",
    "    print(item)"
   ]
  },
  {
   "cell_type": "markdown",
   "metadata": {},
   "source": [
    "Similarly, if you want to add if statement to exclude items with color 'green':"
   ]
  },
  {
   "cell_type": "code",
   "execution_count": 12,
   "metadata": {},
   "outputs": [
    {
     "data": {
      "text/plain": [
       "{'apple': 'red', 'banana': 'yellow', 'strawberry': 'red'}"
      ]
     },
     "execution_count": 12,
     "metadata": {},
     "output_type": "execute_result"
    }
   ],
   "source": [
    "# Example: creating dictionary with\n",
    "# Python dictionary comprehension\n",
    "# and if statement\n",
    "\n",
    "fruit = ['apple', 'banana', 'watermelon', 'strawberry']\n",
    "color = ['red', 'yellow', 'green', 'red']\n",
    "\n",
    "mydict = {f:c for f, c in zip(fruit, color) if c != 'green'}\n",
    "mydict"
   ]
  },
  {
   "cell_type": "markdown",
   "metadata": {},
   "source": [
    "To see how elegant the Python dictionary comprehension syntax is, let's look at the equivalent code snippet without dictionary comprehension:"
   ]
  },
  {
   "cell_type": "code",
   "execution_count": 13,
   "metadata": {},
   "outputs": [
    {
     "data": {
      "text/plain": [
       "{'apple': 'red', 'banana': 'yellow', 'strawberry': 'red'}"
      ]
     },
     "execution_count": 13,
     "metadata": {},
     "output_type": "execute_result"
    }
   ],
   "source": [
    "# Example: creating dictionary without\n",
    "# Python dictionary comprehension\n",
    "# and if statement\n",
    "\n",
    "fruit = ['apple', 'banana', 'watermelon', 'strawberry']\n",
    "color = ['red', 'yellow', 'green', 'red']\n",
    "\n",
    "mydict = {}\n",
    "for f, c in zip(fruit, color):\n",
    "    if c != 'green':\n",
    "        mydict[f] = c\n",
    "mydict"
   ]
  },
  {
   "cell_type": "markdown",
   "metadata": {},
   "source": [
    "So, dictionary comprehension syntax is indeed preferable in this case!"
   ]
  },
  {
   "cell_type": "markdown",
   "metadata": {},
   "source": [
    "<a id='set-comprehension'></a>\n",
    "## Python set comprehension\n",
    "\n",
    "As you may have already known, we can extend the idea of list comprehension and dictionary comprehension to set comprehension!\n",
    "Here is the syntax of Python set comprehension with an _if_ statement:\n",
    "\n",
    "<font color=\"darkgreen\"><b>{<i>var(x)</i> for <i>x</i> in <i>Seq</i> if <i>condition</i>}</b></font>,\n",
    "\n",
    "wherein the item _var(x)_ is evaluated for each _x_ in sequence _Seq_ if the condition _\"condition\"_ is met.\n",
    "    \n",
    "Let's take a look at the following example, wherein the _Python set comprehension_ is used to create a set (unique values) as follows:"
   ]
  },
  {
   "cell_type": "code",
   "execution_count": 14,
   "metadata": {},
   "outputs": [
    {
     "data": {
      "text/plain": [
       "{49, 64}"
      ]
     },
     "execution_count": 14,
     "metadata": {},
     "output_type": "execute_result"
    }
   ],
   "source": [
    "# Example: creating set with\n",
    "# Python set comprehension\n",
    "import numpy as np\n",
    "\n",
    "scores = [2, 3, 8, 3, 4, 8, 2, 7, 3, 2]\n",
    "\n",
    "myset = {x**2 for x in scores if np.sqrt(x)>2}\n",
    "myset"
   ]
  },
  {
   "cell_type": "markdown",
   "metadata": {},
   "source": [
    "<a id='recap'></a>\n",
    "## Recap\n",
    "\n",
    "\\- The Python list comprehension or _listcomp_ offers a neat, concise, and elegant syntax to create a list from items of another sequence.\n",
    "\n",
    "\\- List comprehension in Python may also include _if_ statement.\n",
    "\n",
    "\\- Python nested list comprehension may replace nested for loops when creating a list.\n",
    "\n",
    "\\- The Python list comprehension syntax can be extended to dictionary comprehension and set comprehension.\n",
    "\n",
    "\n",
    "**<font color=\"green\">Congratulations!!! You have mastered the Python comprehension concept! Now, you can adopt the elegant syntax of list comprehension, dictionary comprehension, and set comprehension in your codes.\n",
    "So, I guess you can pat yourself on the back!!!</font>**"
   ]
  },
  {
   "cell_type": "markdown",
   "metadata": {},
   "source": [
    "<a id='quiz'></a>\n",
    "## Quiz\n",
    "Finally, I end this tutorial with a simple quiz!\n",
    "\n",
    "Try to create a deck of cards using the Python list comprehension syntax. \n",
    "The created list should consist of products of two sequences: _rank_ and _suit_.\n",
    "The _rank_ sequence includes integer numbers from 1 to 13, while the _suit_ sequence consists of strings 'diamonds', 'spades', 'hearts', and 'clubs'."
   ]
  },
  {
   "cell_type": "markdown",
   "metadata": {},
   "source": [
    "## Final remarks\n",
    "\n",
    "In this tutorial, we introduced the Python comprehension concept. \n",
    "In particular, we saw how the elegant syntax of list comprehension (also known as _listcomp_) enabled us to write neat, short, and readable codes to create a list from another sequence.\n",
    "We also saw we could include conditional statements in list comprehension syntax which provides us with more flexibility.\n",
    "When applicable, the Python nested list comprehension can replace the long code related to nested loops for creating a list.\n",
    "\n",
    "We discussed that the Python list comprehension syntax can be easily extended to set comprehension, and dictionary comprehension in Python.\n",
    "Despite all the advantages of Python comprehension syntax, try to use it only if the readability is preserved.\n",
    "The whole idea behind Python comprehension syntax is beauty, brevity, and legibility!\n",
    "\n",
    "Hopefully, this tutorial was able to help you with some of the basics of Python. \n",
    "Please do not hesitate to let us know if you have any questions or comments by leaving a note below, or [contacting us](https://soardeepsci.com/contact/).\n",
    "Also, please feel free to check out the rest of the articles on [SoarDeepSci](https://soardeepsci.com/blog/)."
   ]
  }
 ],
 "metadata": {
  "kernelspec": {
   "display_name": "Python 3",
   "language": "python",
   "name": "python3"
  },
  "language_info": {
   "codemirror_mode": {
    "name": "ipython",
    "version": 3
   },
   "file_extension": ".py",
   "mimetype": "text/x-python",
   "name": "python",
   "nbconvert_exporter": "python",
   "pygments_lexer": "ipython3",
   "version": "3.8.5"
  }
 },
 "nbformat": 4,
 "nbformat_minor": 4
}
