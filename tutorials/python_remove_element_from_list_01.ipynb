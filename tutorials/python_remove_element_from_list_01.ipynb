{
 "cells": [
  {
   "cell_type": "markdown",
   "metadata": {},
   "source": [
    "# Python | remove element from list\n",
    "\n",
    "In this tutorial, we discuss different methods to remove element from **_List_** in Python. \n",
    "We will, first, briefly introduce different methods to remove element from **_List_**, and provide several examples afterwards.\n",
    "\n",
    "## Different method to remove element from list | Python\n",
    "Here are the most common methods to remove element from list in Python:\n",
    "\n",
    "1\\. remove(): As its name suggests, the _remove_ method is used to remove element from list based on the element's value.<br>\n",
    "2\\. pop(): The _pop_ method is helpful to remove item from list at a given index, and return it.<br>\n",
    "3\\. clear(): We can use the method _clear_ to remove all items in list.<br>\n",
    "4\\. del statement: One can use the _del_ statement to remove item from list, given its index instead of its value.<br>"
   ]
  },
  {
   "cell_type": "markdown",
   "metadata": {},
   "source": [
    "# Python | _remove_ | remove element from list based on value of element\n",
    "\n",
    "The **Python List** _remove_ method can be used to remove first item from the list whose value is equal to the passed argument. \n",
    "It raises a _ValueError_ in case there is no such item in the list.\n",
    "Here, we provide multiple Python code examples to show how to use the **Python List** _remove_ method to remove item from list:"
   ]
  },
  {
   "cell_type": "code",
   "execution_count": 1,
   "metadata": {
    "scrolled": true
   },
   "outputs": [
    {
     "name": "stdout",
     "output_type": "stream",
     "text": [
      "List before using the Python List Remove method: ['car', 'airplane', 'train', 'bicycle']\n",
      "List after  using the Python List Remove method: ['car', 'airplane', 'bicycle']\n"
     ]
    }
   ],
   "source": [
    "mylist = [\"car\", \"airplane\", \"train\", \"bicycle\"]\n",
    "print(f'List before using the Python List Remove method: {mylist}')\n",
    "\n",
    "mylist.remove(\"train\")\n",
    "print(f'List after  using the Python List Remove method: {mylist}')"
   ]
  },
  {
   "cell_type": "markdown",
   "metadata": {},
   "source": [
    "And, here is another example:"
   ]
  },
  {
   "cell_type": "code",
   "execution_count": 2,
   "metadata": {},
   "outputs": [
    {
     "name": "stdout",
     "output_type": "stream",
     "text": [
      "List before using the Python List Remove method: ['Red', 'Green', 'Blue']\n",
      "List after  using the Python List Remove method: ['Red', 'Blue']\n"
     ]
    }
   ],
   "source": [
    "mylist = [\"Red\", \"Green\", \"Blue\"]\n",
    "print(f'List before using the Python List Remove method: {mylist}')\n",
    "\n",
    "mylist.remove(\"Green\")\n",
    "print(f'List after  using the Python List Remove method: {mylist}')"
   ]
  },
  {
   "cell_type": "markdown",
   "metadata": {},
   "source": [
    "# Python | _pop_ | remove element from list at a specific index\n",
    "\n",
    "As we mentioned earlier, the **Python List** _pop_ method can be used to remove element from list at the given position and return it. \n",
    "\n",
    "Here is a simple Python code example to show you how to remove item from list at a specified index of the list using the **Python List** _pop_ method. In this example, we pop the element from index=2. Note that index=2 corresponds to the third place, since in Python, index starts from 0."
   ]
  },
  {
   "cell_type": "code",
   "execution_count": 3,
   "metadata": {},
   "outputs": [
    {
     "name": "stdout",
     "output_type": "stream",
     "text": [
      "List before using the Python List Pop method: ['car', 'airplane', 'train', 'bicycle']\n",
      "Popped item using the Python List Pop method: train\n",
      "List after  using the Python List Pop method: ['car', 'airplane', 'bicycle']\n"
     ]
    }
   ],
   "source": [
    "mylist = [\"car\", \"airplane\", \"train\", \"bicycle\"]\n",
    "print(f'List before using the Python List Pop method: {mylist}')\n",
    "\n",
    "poped_item = mylist.pop(2)\n",
    "\n",
    "print(f'Popped item using the Python List Pop method: {poped_item}')\n",
    "print(f'List after  using the Python List Pop method: {mylist}')"
   ]
  },
  {
   "cell_type": "markdown",
   "metadata": {},
   "source": [
    "As a tip, if no index is passed to the **Python List** _pop_ method, it will [remove last item in list and return it](https://soardeepsci.com/python-last-element-in-list/). Here is an example:"
   ]
  },
  {
   "cell_type": "code",
   "execution_count": 4,
   "metadata": {},
   "outputs": [
    {
     "name": "stdout",
     "output_type": "stream",
     "text": [
      "List before using the Python List Pop method: ['car', 'airplane', 'train', 'bicycle']\n",
      "Popped item using the Python List Pop method: bicycle\n",
      "List after  using the Python List Pop method: ['car', 'airplane', 'train']\n"
     ]
    }
   ],
   "source": [
    "mylist = [\"car\", \"airplane\", \"train\", \"bicycle\"]\n",
    "print(f'List before using the Python List Pop method: {mylist}')\n",
    "\n",
    "poped_item = mylist.pop()\n",
    "\n",
    "print(f'Popped item using the Python List Pop method: {poped_item}')\n",
    "print(f'List after  using the Python List Pop method: {mylist}')"
   ]
  },
  {
   "cell_type": "markdown",
   "metadata": {},
   "source": [
    "# Python | _clear_ | remove all elements from list\n",
    "\n",
    "We can also use the **Python List** _clear_ method to remove all items from list. Here is an example:"
   ]
  },
  {
   "cell_type": "code",
   "execution_count": 5,
   "metadata": {},
   "outputs": [
    {
     "name": "stdout",
     "output_type": "stream",
     "text": [
      "List before using the Python List Clear method: ['car', 'airplane', 'train', 'bicycle', 'tricycle']\n",
      "List after  using the Python List Clear method: []\n"
     ]
    }
   ],
   "source": [
    "my_list = [\"car\", \"airplane\", \"train\", \"bicycle\", \"tricycle\"]\n",
    "print(f'List before using the Python List Clear method: {my_list}')\n",
    "\n",
    "my_list.clear()\n",
    "print(f'List after  using the Python List Clear method: {my_list}')"
   ]
  },
  {
   "cell_type": "markdown",
   "metadata": {},
   "source": [
    "# Python | _del_ statement | remove element from list based on index of element\n",
    "\n",
    "Last but not least, we get to the _del_ statement in Python! You can use the Python _del_ statement to remove item from list at a given index or a range of indices. \n",
    "\n",
    "Here is an example showing how to remove first element in list:"
   ]
  },
  {
   "cell_type": "code",
   "execution_count": 6,
   "metadata": {},
   "outputs": [
    {
     "name": "stdout",
     "output_type": "stream",
     "text": [
      "List before using the Python del statement: ['apple', 'banana', 'watermelon', 'cherry', 'grapes']\n",
      "List after  using the Python del statement: ['banana', 'watermelon', 'cherry', 'grapes']\n"
     ]
    }
   ],
   "source": [
    "my_list = [\"apple\", \"banana\", \"watermelon\", \"cherry\", \"grapes\"]\n",
    "print(f'List before using the Python del statement: {my_list}')\n",
    "\n",
    "del my_list[0]\n",
    "print(f'List after  using the Python del statement: {my_list}')"
   ]
  },
  {
   "cell_type": "markdown",
   "metadata": {},
   "source": [
    "Here is another example showing how to remove last element in list:"
   ]
  },
  {
   "cell_type": "code",
   "execution_count": 7,
   "metadata": {},
   "outputs": [
    {
     "name": "stdout",
     "output_type": "stream",
     "text": [
      "List before using the Python del statement: ['apple', 'banana', 'watermelon', 'cherry', 'grapes']\n",
      "List after  using the Python del statement: ['apple', 'banana', 'watermelon', 'cherry']\n"
     ]
    }
   ],
   "source": [
    "my_list = [\"apple\", \"banana\", \"watermelon\", \"cherry\", \"grapes\"]\n",
    "print(f'List before using the Python del statement: {my_list}')\n",
    "\n",
    "del my_list[-1]\n",
    "print(f'List after  using the Python del statement: {my_list}')"
   ]
  },
  {
   "cell_type": "markdown",
   "metadata": {},
   "source": [
    "The following example shows how to remove element in list with a range of indices. \n",
    "Note that:\n",
    "\n",
    "<font color=\"green\">1\\. In Python, index starts from zero, i.e. index=1 and 3 correspond to the second and fourth places in the list, respectively.\n",
    "\n",
    "2\\. The starting index of a range is inclusive, while the ending index of a range is exclusive. For example, [1:3] refers to a slice with indices of 1, and 2 (index=3 is not included).</font>"
   ]
  },
  {
   "cell_type": "code",
   "execution_count": 8,
   "metadata": {},
   "outputs": [
    {
     "name": "stdout",
     "output_type": "stream",
     "text": [
      "List before using the Python del statement: ['apple', 'banana', 'watermelon', 'cherry', 'grapes']\n",
      "List after  using the Python del statement: ['apple', 'cherry', 'grapes']\n"
     ]
    }
   ],
   "source": [
    "my_list = [\"apple\", \"banana\", \"watermelon\", \"cherry\", \"grapes\"]\n",
    "print(f'List before using the Python del statement: {my_list}')\n",
    "\n",
    "del my_list[1:3]\n",
    "print(f'List after  using the Python del statement: {my_list}')"
   ]
  },
  {
   "cell_type": "markdown",
   "metadata": {},
   "source": [
    "You could also remove all elements after a given index, say 2. That is, all elements with index of 2 or higher will be removed from list:"
   ]
  },
  {
   "cell_type": "code",
   "execution_count": 9,
   "metadata": {},
   "outputs": [
    {
     "name": "stdout",
     "output_type": "stream",
     "text": [
      "List before using the Python del statement: ['apple', 'banana', 'watermelon', 'cherry', 'grapes']\n",
      "List after  using the Python del statement: ['apple', 'banana']\n"
     ]
    }
   ],
   "source": [
    "my_list = [\"apple\", \"banana\", \"watermelon\", \"cherry\", \"grapes\"]\n",
    "print(f'List before using the Python del statement: {my_list}')\n",
    "\n",
    "del my_list[2:]\n",
    "print(f'List after  using the Python del statement: {my_list}')"
   ]
  },
  {
   "cell_type": "markdown",
   "metadata": {},
   "source": [
    "Finally, you can  remove all elements before a given index, say 3. That is all elements with an index smaller than 3 will be removed from list:"
   ]
  },
  {
   "cell_type": "code",
   "execution_count": 10,
   "metadata": {},
   "outputs": [
    {
     "name": "stdout",
     "output_type": "stream",
     "text": [
      "List before using the Python del statement: ['apple', 'banana', 'watermelon', 'cherry', 'grapes']\n",
      "List after  using the Python del statement: ['cherry', 'grapes']\n"
     ]
    }
   ],
   "source": [
    "my_list = [\"apple\", \"banana\", \"watermelon\", \"cherry\", \"grapes\"]\n",
    "print(f'List before using the Python del statement: {my_list}')\n",
    "\n",
    "del my_list[:3]\n",
    "print(f'List after  using the Python del statement: {my_list}')"
   ]
  },
  {
   "cell_type": "markdown",
   "metadata": {},
   "source": [
    "# Final remarks\n",
    "\n",
    "Hopefully, this tutorial was able to help you with some of the basics of Python, particularly how to remove element from list using **Python list** methods of _remove_, _pop_, and _clear_, as well as using the Python _del_ statement.\n",
    "\n",
    " Please, feel free to let us know if you have any comments or questions by commenting down below, or by [contacting us](https://soardeepsci.com/contact/). For further reading, please feel free to check out the rest of our articles from [https://soardeepsci.com/blog/](https://soardeepsci.com/blog/)."
   ]
  }
 ],
 "metadata": {
  "kernelspec": {
   "display_name": "Python 3",
   "language": "python",
   "name": "python3"
  },
  "language_info": {
   "codemirror_mode": {
    "name": "ipython",
    "version": 3
   },
   "file_extension": ".py",
   "mimetype": "text/x-python",
   "name": "python",
   "nbconvert_exporter": "python",
   "pygments_lexer": "ipython3",
   "version": "3.8.5"
  }
 },
 "nbformat": 4,
 "nbformat_minor": 4
}
