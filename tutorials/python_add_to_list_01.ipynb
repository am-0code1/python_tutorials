{
 "cells": [
  {
   "cell_type": "markdown",
   "metadata": {},
   "source": [
    "# Python | add to _List_\n",
    "\n",
    "In this tutorial, we discuss different methods to add element(s) to **_List_** in Python. \n",
    "We will, first, briefly introduce these different methods to add elements to **_List_**, and provide several examples afterwards.\n",
    "\n",
    "# Python | different methods to add elements to _List_\n",
    "Here are the most common methods to add elements to List in Python:\n",
    "\n",
    "1\\. append(): As its name suggests, the _append_ method is used to add an item to the end of the list.<br>\n",
    "2\\. insert(): The _insert_ method is helpful to insert item into list at a specified index.<br>\n",
    "3\\. extend(): We can use the _extend_ method to append elements from another list to the current list. The _extend_ method can also be used in a more general fashion to append an iterable such as lists, tuples, sets, dictionaries, etc., to the current list.<br>\n",
    "4\\. Plus operator: One can use the plus operator (+) to easily concatenate multiple lists in Python.<br>"
   ]
  },
  {
   "cell_type": "markdown",
   "metadata": {},
   "source": [
    "# Python | _append_ | add an item to the end of the list\n",
    "\n",
    "Here, we provide multiple Python code examples to show you how to use the _append_ method to add an item to the end of the list:"
   ]
  },
  {
   "cell_type": "code",
   "execution_count": 1,
   "metadata": {
    "scrolled": true
   },
   "outputs": [
    {
     "name": "stdout",
     "output_type": "stream",
     "text": [
      "List before using the append method: ['car', 'ariplane', 'train']\n",
      "List after  using the append method: ['car', 'ariplane', 'train', 'bicycle']\n"
     ]
    }
   ],
   "source": [
    "mylist = [\"car\", \"ariplane\", \"train\"]\n",
    "print(f'List before using the append method: {mylist}')\n",
    "\n",
    "mylist.append(\"bicycle\")\n",
    "print(f'List after  using the append method: {mylist}')"
   ]
  },
  {
   "cell_type": "markdown",
   "metadata": {},
   "source": [
    "And, here is another example:"
   ]
  },
  {
   "cell_type": "code",
   "execution_count": 2,
   "metadata": {},
   "outputs": [
    {
     "name": "stdout",
     "output_type": "stream",
     "text": [
      "List before using the append method: ['Red', 'Green']\n",
      "List after  using the append method: ['Red', 'Green', 'Blue']\n"
     ]
    }
   ],
   "source": [
    "mylist = [\"Red\", \"Green\"]\n",
    "print(f'List before using the append method: {mylist}')\n",
    "\n",
    "mylist.append(\"Blue\")\n",
    "print(f'List after  using the append method: {mylist}')"
   ]
  },
  {
   "cell_type": "markdown",
   "metadata": {},
   "source": [
    "The _append_ method comes in handy in many practical examples of python programming. Yet, a disadvantage of the method _append_ is that it takes exactly one argument. By passing two elements to the _append_ method, you would get an error message. Here is an example:"
   ]
  },
  {
   "cell_type": "code",
   "execution_count": 3,
   "metadata": {},
   "outputs": [
    {
     "ename": "TypeError",
     "evalue": "append() takes exactly one argument (2 given)",
     "output_type": "error",
     "traceback": [
      "\u001b[1;31m---------------------------------------------------------------------------\u001b[0m",
      "\u001b[1;31mTypeError\u001b[0m                                 Traceback (most recent call last)",
      "\u001b[1;32m<ipython-input-3-a74d28a02bda>\u001b[0m in \u001b[0;36m<module>\u001b[1;34m\u001b[0m\n\u001b[0;32m      1\u001b[0m \u001b[0mmylist\u001b[0m \u001b[1;33m=\u001b[0m \u001b[1;33m[\u001b[0m\u001b[1;34m\"car\"\u001b[0m\u001b[1;33m,\u001b[0m \u001b[1;34m\"ariplane\"\u001b[0m\u001b[1;33m,\u001b[0m \u001b[1;34m\"train\"\u001b[0m\u001b[1;33m]\u001b[0m\u001b[1;33m\u001b[0m\u001b[1;33m\u001b[0m\u001b[0m\n\u001b[1;32m----> 2\u001b[1;33m \u001b[0mmylist\u001b[0m\u001b[1;33m.\u001b[0m\u001b[0mappend\u001b[0m\u001b[1;33m(\u001b[0m\u001b[1;34m\"bicycle\"\u001b[0m\u001b[1;33m,\u001b[0m \u001b[1;34m\"horse!\"\u001b[0m\u001b[1;33m)\u001b[0m\u001b[1;33m\u001b[0m\u001b[1;33m\u001b[0m\u001b[0m\n\u001b[0m",
      "\u001b[1;31mTypeError\u001b[0m: append() takes exactly one argument (2 given)"
     ]
    }
   ],
   "source": [
    "mylist = [\"car\", \"ariplane\", \"train\"]\n",
    "mylist.append(\"bicycle\", \"horse!\")"
   ]
  },
  {
   "cell_type": "markdown",
   "metadata": {},
   "source": [
    "# Python | _insert_ | add an element to list at a specific index\n",
    "\n",
    "As we mentioned earlier, the _insert_ method inserts/adds an element at a specific index of the list. Here is a simple Python code example to show you how to add an item at a specified index of the list using the _insert_ method. In this example, we insert the element _\"bicycle\"_ at the index=2 of the list. Note that index=2 corresponds to the third place, since in Python, index starts from 0."
   ]
  },
  {
   "cell_type": "code",
   "execution_count": 4,
   "metadata": {},
   "outputs": [
    {
     "name": "stdout",
     "output_type": "stream",
     "text": [
      "List before using the insert method: ['car', 'ariplane', 'train']\n",
      "List after  using the insert method: ['car', 'ariplane', 'bicycle', 'train']\n"
     ]
    }
   ],
   "source": [
    "mylist = [\"car\", \"ariplane\", \"train\"]\n",
    "print(f'List before using the insert method: {mylist}')\n",
    "\n",
    "mylist.insert(2, \"bicycle\")\n",
    "print(f'List after  using the insert method: {mylist}')"
   ]
  },
  {
   "cell_type": "markdown",
   "metadata": {},
   "source": [
    "# Python | _extend_ | append elements from another list to the current list\n",
    "\n",
    "We can append elements of another list to a list using the _extend_ method. It is worth mentioning that any iterable can be appended to the list using the _extend_ method. That is, the same way you add another list to a list, you could append a tuple, dictionary, etc., to a list using the _extend_ method. Here are a few Python code examples:"
   ]
  },
  {
   "cell_type": "code",
   "execution_count": 5,
   "metadata": {},
   "outputs": [
    {
     "name": "stdout",
     "output_type": "stream",
     "text": [
      "List before using the extend method: ['car', 'ariplane', 'train']\n",
      "List to be appended: ['bicycle', 'tricycle']\n",
      "\n",
      "List after  using the extend method: ['car', 'ariplane', 'train', 'bicycle', 'tricycle']\n"
     ]
    }
   ],
   "source": [
    "my_first_list = [\"car\", \"ariplane\", \"train\"]\n",
    "print(f'List before using the extend method: {my_first_list}')\n",
    "\n",
    "my_second_list = [\"bicycle\", \"tricycle\"]\n",
    "print(f'List to be appended: {my_second_list}')\n",
    "\n",
    "my_first_list.extend(my_second_list)\n",
    "print(f'\\nList after  using the extend method: {my_first_list}')"
   ]
  },
  {
   "cell_type": "markdown",
   "metadata": {},
   "source": [
    "Here is a small Python coding example showing how to use the _extend_ method to add elements of a tuple to a list:"
   ]
  },
  {
   "cell_type": "code",
   "execution_count": 6,
   "metadata": {},
   "outputs": [
    {
     "name": "stdout",
     "output_type": "stream",
     "text": [
      "List before using the extend method: ['apple', 'banana']\n",
      "Tuple to be appended: ('watermelon', 'cherry')\n",
      "\n",
      "List after  using the extend method: ['apple', 'banana', 'watermelon', 'cherry']\n"
     ]
    }
   ],
   "source": [
    "mylist = [\"apple\", \"banana\"]\n",
    "print(f'List before using the extend method: {mylist}')\n",
    "\n",
    "mytuple = (\"watermelon\", \"cherry\")\n",
    "print(f'Tuple to be appended: {mytuple}')\n",
    "\n",
    "mylist.extend(mytuple)\n",
    "print(f'\\nList after  using the extend method: {mylist}')"
   ]
  },
  {
   "cell_type": "markdown",
   "metadata": {},
   "source": [
    "# Python | list concatenation\n",
    "\n",
    "Last but not least, we get to the list concatenation in Python! You can use the plus operator (+) to add multiple lists to each other. Here is an examples:"
   ]
  },
  {
   "cell_type": "code",
   "execution_count": 7,
   "metadata": {},
   "outputs": [
    {
     "name": "stdout",
     "output_type": "stream",
     "text": [
      "First  list: ['apple', 'banana']\n",
      "Second list: ['apple', 'banana']\n",
      "\n",
      "Concatenation of two lists: ['apple', 'banana', 'watermelon', 'cherry']\n"
     ]
    }
   ],
   "source": [
    "my_first_list = [\"apple\", \"banana\"]\n",
    "print(f'First  list: {my_first_list}')\n",
    "\n",
    "my_second_list = [\"watermelon\", \"cherry\"]\n",
    "print(f'Second list: {my_first_list}')\n",
    "\n",
    "concat_list = my_first_list + my_second_list\n",
    "print(f'\\nConcatenation of two lists: {concat_list}')"
   ]
  },
  {
   "cell_type": "markdown",
   "metadata": {},
   "source": [
    "# Final remarks\n",
    "\n",
    "Hopefully, this tutorial was able to help you with the Python basics. Feel free to check out the rest of our articles from [https://soardeepsci.com/blog/](https://soardeepsci.com/blog/)."
   ]
  }
 ],
 "metadata": {
  "kernelspec": {
   "display_name": "Python 3",
   "language": "python",
   "name": "python3"
  },
  "language_info": {
   "codemirror_mode": {
    "name": "ipython",
    "version": 3
   },
   "file_extension": ".py",
   "mimetype": "text/x-python",
   "name": "python",
   "nbconvert_exporter": "python",
   "pygments_lexer": "ipython3",
   "version": "3.8.5"
  }
 },
 "nbformat": 4,
 "nbformat_minor": 4
}
