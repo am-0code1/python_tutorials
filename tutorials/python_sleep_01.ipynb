{
 "cells": [
  {
   "cell_type": "markdown",
   "metadata": {},
   "source": [
    "# Python | sleep\n",
    "\n",
    "### Importance\n",
    "Sometimes it is needed to create an intentional delay in the executions of a program.\n",
    "For example, you may need to stop the execution of a thread, until some other executions are completed.\n",
    "The other scenarios that may need to stop the program for a specific period of time include dealing with timers, games, etc. \n",
    "\n",
    "### Scope of this tutorial\n",
    "In this tutorial, we discuss the **Python sleep function**. \n",
    "We will start with a brief introduction, followed by discussing the following closely-related terms/functions from the **Python time module**:<br>\n",
    "\\- epoch term<br>\n",
    "\\- time function<br>\n",
    "\\- gmtime function<br>\n",
    "\\- ctime function<br>\n",
    "\n",
    "At the end, we will discuss \n",
    "the Python sleep time accuracy.\n",
    "In order to see how accurate the Python sleep function really is,\n",
    "we develop a small Python code snippet and visualize the actual sleep time over a wide range of target sleep time.\n"
   ]
  },
  {
   "cell_type": "markdown",
   "metadata": {},
   "source": [
    "# Python time module\n",
    "\n",
    "The Python **time** module provides useful time-related functionalities. \n",
    "The way that the _time module_ deals with the concept of time is by comparing a given time object with a reference called _epoch_ as explained in the following.\n",
    "\n",
    "## What is _epoch_ in Python time module?\n",
    "\n",
    "The _epoch_ refers to the point where the time is assumed to have started, and consequently is platform-dependent. \n",
    "On Windows and most Unix systems, the [epoch is January 1, 1970, 00:00:00 (UTC)](https://docs.python.org/3/library/time.html).\n",
    "In the following, you will learn how to figure out what the epoch is for your platform."
   ]
  },
  {
   "cell_type": "markdown",
   "metadata": {},
   "source": [
    "### Python _time_ function from time module\n",
    "As mentioned earlier, the _time_ module measures the time with respect to a reference, _i.e. epoch_.\n",
    "The function _time_ from the _time_ module returns the total number of elapsed seconds since the epoch.\n",
    "Let's see the following example."
   ]
  },
  {
   "cell_type": "code",
   "execution_count": 1,
   "metadata": {},
   "outputs": [],
   "source": [
    "import time\n",
    "\n",
    "elapsed_time = time.time()\n",
    "print(f'Total number of elapsed seconds since the epoch: {elapsed_time}')"
   ]
  },
  {
   "cell_type": "markdown",
   "metadata": {},
   "source": [
    "But, how to convert the _total number of elapsed seconds since the epoch_ into a more common time format, e.g. year, month, day, and hour?"
   ]
  },
  {
   "cell_type": "markdown",
   "metadata": {},
   "source": [
    "### Python _gmtime_ function from time module\n",
    "The Python _gmtime_ function can be used to convert a time expressed as the total number of elapsed seconds since the _epoch_ to a time value sequence called \"struct_time\".\n",
    "You can think of _gmtime_ as _give me time!_\n",
    "Hence, a cool thing you can do is to pass 0 to the _gmtime_ function to find out what the epoch is on your platform:"
   ]
  },
  {
   "cell_type": "code",
   "execution_count": 2,
   "metadata": {},
   "outputs": [
    {
     "data": {
      "text/plain": [
       "time.struct_time(tm_year=1970, tm_mon=1, tm_mday=1, tm_hour=0, tm_min=0, tm_sec=0, tm_wday=3, tm_yday=1, tm_isdst=0)"
      ]
     },
     "execution_count": 2,
     "metadata": {},
     "output_type": "execute_result"
    }
   ],
   "source": [
    "time.gmtime(0)"
   ]
  },
  {
   "cell_type": "markdown",
   "metadata": {},
   "source": [
    "So, the _epoch_ for my platform turns out to be January 1, 1970, 00:00:00 (UTC).\n",
    "\n",
    "In order to convert the total number of elapsed seconds since the epoch into a more common time format, you can pass the return value of _time()_ function to the _gmtime()_ function as shown in the following:"
   ]
  },
  {
   "cell_type": "code",
   "execution_count": 3,
   "metadata": {},
   "outputs": [
    {
     "data": {
      "text/plain": [
       "time.struct_time(tm_year=2021, tm_mon=12, tm_mday=15, tm_hour=7, tm_min=1, tm_sec=58, tm_wday=2, tm_yday=349, tm_isdst=0)"
      ]
     },
     "execution_count": 3,
     "metadata": {},
     "output_type": "execute_result"
    }
   ],
   "source": [
    "time.gmtime(time.time())"
   ]
  },
  {
   "cell_type": "markdown",
   "metadata": {},
   "source": [
    "Which shows the time (UTC) of writing this article!"
   ]
  },
  {
   "cell_type": "markdown",
   "metadata": {},
   "source": [
    "### Python _ctime_ function from time module\n",
    "\n",
    "The Python _ctime_ function converts a time expressed as the total number of elapsed seconds since the epoch to a human-readable string of a form: 'Wed Dec 31 18:00:00 1969' representing **local time**. \n",
    "\n",
    "For example:"
   ]
  },
  {
   "cell_type": "code",
   "execution_count": 4,
   "metadata": {},
   "outputs": [
    {
     "data": {
      "text/plain": [
       "'Wed Dec 31 18:00:00 1969'"
      ]
     },
     "execution_count": 4,
     "metadata": {},
     "output_type": "execute_result"
    }
   ],
   "source": [
    "time.ctime(0)"
   ]
  },
  {
   "cell_type": "markdown",
   "metadata": {},
   "source": [
    "represents my _epoch_ in local time (CST).\n",
    "\n",
    "Note that if no argument is passed to the _ctime_ function, the return value of the _time()_ function is used, _i.e._ the total number of elapsed seconds since the epoch.\n",
    "As a result, the function _ctime()_ with no argument will return the human-readable string representation of the current local time:"
   ]
  },
  {
   "cell_type": "code",
   "execution_count": 5,
   "metadata": {},
   "outputs": [
    {
     "data": {
      "text/plain": [
       "'Wed Dec 15 01:01:58 2021'"
      ]
     },
     "execution_count": 5,
     "metadata": {},
     "output_type": "execute_result"
    }
   ],
   "source": [
    "time.ctime()"
   ]
  },
  {
   "cell_type": "markdown",
   "metadata": {},
   "source": [
    "# Python sleep function\n",
    "\n",
    "The **Python sleep() function** stops the execution of the calling thread for a specific time interval (in terms of second).\n",
    "The argument passed to the function does not have to be an integer necessarily; it can be a floating point number for specifying the sleep time precisely. \n",
    "\n",
    "Let's look at some examples."
   ]
  },
  {
   "cell_type": "markdown",
   "metadata": {},
   "source": [
    "## Python sleep function | example #1\n",
    "\n",
    "In the following example, we use a loop, inside which we print the current time as well as calling the Python sleep function, with an argument equal to 1, to stop the execution of the program for 1 sec. "
   ]
  },
  {
   "cell_type": "code",
   "execution_count": 6,
   "metadata": {},
   "outputs": [
    {
     "name": "stdout",
     "output_type": "stream",
     "text": [
      "Wed Dec 15 01:01:58 2021\n",
      "Wed Dec 15 01:01:59 2021\n",
      "Wed Dec 15 01:02:00 2021\n",
      "Wed Dec 15 01:02:01 2021\n",
      "Wed Dec 15 01:02:02 2021\n",
      "Wed Dec 15 01:02:03 2021\n",
      "Wed Dec 15 01:02:04 2021\n",
      "Wed Dec 15 01:02:05 2021\n",
      "Wed Dec 15 01:02:06 2021\n",
      "Wed Dec 15 01:02:07 2021\n"
     ]
    }
   ],
   "source": [
    "for sn in range(10):\n",
    "    # print the current local time\n",
    "    print(time.ctime())\n",
    "    \n",
    "    #---------------------------------\n",
    "    #Python time sleep function to \n",
    "    #send Python to sleep for 1 sec!!!\n",
    "    #---------------------------------\n",
    "    time.sleep(1)"
   ]
  },
  {
   "cell_type": "markdown",
   "metadata": {},
   "source": [
    "As you may have guessed it correctly, this code snippet prints the current time in each iteration, which is 1 second different from that of the adjacent iterations because of using python sleep function: _time.sleep(1)_."
   ]
  },
  {
   "cell_type": "markdown",
   "metadata": {},
   "source": [
    "## Python sleep function | example #2\n",
    "\n",
    "In the following example, we use a similar code snippet, except that 1. we print the current time expressed as the total elapsed seconds since the epoch and 2. we use a shorter sleep time of 0.1 sec.\n",
    "Let's see how it works this time:"
   ]
  },
  {
   "cell_type": "code",
   "execution_count": 7,
   "metadata": {},
   "outputs": [
    {
     "name": "stdout",
     "output_type": "stream",
     "text": [
      "1639551728.127201\n",
      "1639551728.227957\n",
      "1639551728.328596\n",
      "1639551728.429377\n",
      "1639551728.529554\n",
      "1639551728.630052\n",
      "1639551728.731467\n",
      "1639551728.831756\n",
      "1639551728.932067\n",
      "1639551729.035694\n"
     ]
    }
   ],
   "source": [
    "for sn in range(10):\n",
    "    print('{:.6f}'.format(time.time()))\n",
    "    \n",
    "    #Python time sleep function\n",
    "    time.sleep(0.1)"
   ]
  },
  {
   "cell_type": "markdown",
   "metadata": {},
   "source": [
    "It turns out the difference between the consecutive times is slightly (about 1 millisecond) more than the sleep time of 0.1 sec (100 milliseconds).\n",
    "Is my computer that slow?!! Well, it turns out many factors play role in such discrepancies. Feel free to check out this [informative thread](https://stackoverflow.com/questions/1133857/how-accurate-is-pythons-time-sleep) on the Python sleep time accuracy."
   ]
  },
  {
   "cell_type": "markdown",
   "metadata": {},
   "source": [
    "# Python sleep time accuracy\n",
    "\n",
    "The following code snippet is developed to get more insight into the accuracy of **Python time sleep** function."
   ]
  },
  {
   "cell_type": "code",
   "execution_count": 8,
   "metadata": {},
   "outputs": [],
   "source": [
    "import numpy as np\n",
    "\n",
    "# number of data points for each experiment\n",
    "num_data_points = 5\n",
    "\n",
    "# smallest, largest, and increment of target sleep time in millisecond\n",
    "ti = 1\n",
    "tf = 100\n",
    "dt = 1\n",
    "\n",
    "target_sleep_time = np.arange(ti,tf,dt)\n",
    "actual_sleep_time = np.empty((len(target_sleep_time), num_data_points))\n",
    "target_sleep_time = np.arange(ti,tf,dt)/1000\n",
    "for sn_exp, this_sleep_time in enumerate(target_sleep_time):\n",
    "    for sn_data_point in range(num_data_points):\n",
    "        time_start = time.time()\n",
    "        \n",
    "        #Python time sleep function\n",
    "        time.sleep(this_sleep_time)\n",
    "        \n",
    "        time_end = time.time()\n",
    "        actual_sleep_time[sn_exp, sn_data_point] = (time_end - time_start)"
   ]
  },
  {
   "cell_type": "code",
   "execution_count": 9,
   "metadata": {},
   "outputs": [
    {
     "data": {
      "image/png": "[encoded data removed]",
      "text/plain": [
       "<Figure size 432x432 with 1 Axes>"
      ]
     },
     "metadata": {},
     "output_type": "display_data"
    }
   ],
   "source": [
    "import matplotlib.pyplot as plt\n",
    "\n",
    "fig, ax = plt.subplots(figsize=(6,6), facecolor=(1,1,1))\n",
    "ax.plot(target_sleep_time*1000, actual_sleep_time*1000, 'ro');\n",
    "ax.plot(np.arange(tf), np.arange(tf), '--')\n",
    "ax.axis('equal')\n",
    "ax.tick_params(axis='x', which='major', labelsize=14)\n",
    "ax.tick_params(axis='y', which='major', labelsize=14)\n",
    "ax.set_xlabel('Target sleep time (ms)', fontsize=18)\n",
    "ax.set_ylabel('Actual sleep time (ms)', fontsize=18)\n",
    "\n",
    "#-----------------------------------\n",
    "# Feel free to adjust the format\n",
    "#-----------------------------------\n",
    "#ax.set_xlim(1,100)\n",
    "#ax.set_ylim(1,100)\n",
    "ax.set_xscale('log')\n",
    "ax.set_yscale('log')\n",
    "\n",
    "plt.savefig('sleep_time_01.png')\n",
    "plt.show()"
   ]
  },
  {
   "cell_type": "markdown",
   "metadata": {},
   "source": [
    "The characteristic curve shows that the Python time sleep function has about 1 millisecond inaccuracy on my system. Please, note that the results may vary from one machine to another."
   ]
  },
  {
   "cell_type": "markdown",
   "metadata": {},
   "source": [
    "# Summary\n",
    "\n",
    "In this tutorial, we discussed some of the basics of **Python time module**. \n",
    "In particular we introduced the concept of _epoch_ as well as the functions _time_, _gmtime_, _ctime_, and _sleep_.\n",
    "We also ran an experiment \n",
    "to examine the Python sleep time accuracy. \n",
    "It turned out that the Python sleep time has about 1 millisecond inaccuracy on my system, but we emphasized that it is platform-dependent and can vary from one machine to another.\n",
    "\n",
    "Hopefully, this tutorial was able to help you with some of the basics of Python. \n",
    "Feel free to check out the rest of the articles on [SoarDeepSci](https://soardeepsci.com/blog/)."
   ]
  }
 ],
 "metadata": {
  "kernelspec": {
   "display_name": "Python 3",
   "language": "python",
   "name": "python3"
  },
  "language_info": {
   "codemirror_mode": {
    "name": "ipython",
    "version": 3
   },
   "file_extension": ".py",
   "mimetype": "text/x-python",
   "name": "python",
   "nbconvert_exporter": "python",
   "pygments_lexer": "ipython3",
   "version": "3.8.5"
  }
 },
 "nbformat": 4,
 "nbformat_minor": 4
}
