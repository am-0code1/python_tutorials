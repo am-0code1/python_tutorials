{
 "cells": [
  {
   "cell_type": "markdown",
   "metadata": {},
   "source": [
    "# Function Recursion in Python\n",
    "\n",
    "Function recursion is when a function calls itself. \n",
    "Like many other programing languages, Python allows function recursion.\n",
    "It should be noted that following the logic behind the implemented function recursion may not be trivial.\n",
    "One of the consequences, amongst others, is that a programmer may write a code that leads to an infinite loop for some input data.\n",
    "However, when the conditions are met and the concept is implemented properly, function recursion enables writing concise and clean codes."
   ]
  },
  {
   "cell_type": "markdown",
   "metadata": {},
   "source": [
    "<a id='example-factorial'></a>\n",
    "## Function recursion example | Factorial\n",
    "\n",
    "One of the problems that is well suited for function recursion is to calculate the factorial of a non-negative integer.\n",
    "\n",
    "### Factorial\n",
    "Factorial of a non-negative integer like $n$ is shown by $n!$ and is defined as the product of all positive integers less than or equal to $n$.\n",
    "\n",
    "For example, $6!=6\\times5\\times4\\times3\\times2\\times1=720$.\n",
    "\n",
    "One of the useful properties of factorial operation is that $n! = n\\times(n-1)!$.\n",
    "This is the property that allows using the function recursion concept to develop an elegant code for calculating the factorial of a non-negative integer."
   ]
  },
  {
   "cell_type": "code",
   "execution_count": 1,
   "metadata": {},
   "outputs": [],
   "source": [
    "def func_factorial(x):\n",
    "    if x<=1:\n",
    "        return 1\n",
    "    else:\n",
    "        return x*func_factorial(x-1)"
   ]
  },
  {
   "cell_type": "code",
   "execution_count": 2,
   "metadata": {},
   "outputs": [
    {
     "data": {
      "text/plain": [
       "720"
      ]
     },
     "execution_count": 2,
     "metadata": {},
     "output_type": "execute_result"
    }
   ],
   "source": [
    "func_factorial(6)"
   ]
  },
  {
   "cell_type": "markdown",
   "metadata": {},
   "source": [
    "<a id='example-fibonacci'></a>\n",
    "## Function recursion example | Fibonacci Sequence\n",
    "\n",
    "As another example of the problems well suited for function recursion is finding the Fibonacci Series.\n",
    "\n",
    "### Fibonacci series\n",
    "Fibonacci series starts off with $0$ and $1$ as its first two terms, while the following items are obtained by adding up the two numbers before them.\n",
    "Thus:\n",
    "\n",
    "The third term is found by adding the two numbers before it, i.e. 0 and 1, which is 1.\n",
    "\n",
    "The fourth term is found by adding the two numbers before it, i.e. 1 and 1, which is 2.\n",
    "\n",
    "The fifth term is found by adding the two numbers before it, i.e. 1 and 2, which is 3.\n",
    "\n",
    "The sixth term is found by adding the two numbers before it, i.e. 2 and 3, which is 5, and so on.\n",
    "\n",
    "You may have already noticed!\n",
    "Yes, this useful property of Fibonacci series $f_n = f_{n-1} + f_{n-2}$ allows us to use the function recursion concept to develop an elegant code for finding the Fibonacci sequence."
   ]
  },
  {
   "cell_type": "code",
   "execution_count": 3,
   "metadata": {},
   "outputs": [],
   "source": [
    "def func_fib(x):\n",
    "    if x==1:\n",
    "        return 0\n",
    "    elif x==2:\n",
    "        return 1\n",
    "    else:\n",
    "        return func_fib(x-1) + func_fib(x-2)"
   ]
  },
  {
   "cell_type": "code",
   "execution_count": 4,
   "metadata": {},
   "outputs": [
    {
     "name": "stdout",
     "output_type": "stream",
     "text": [
      "Here are the first 14 terms of the Fibonacci Sequence:\n",
      "0\n",
      "1\n",
      "1\n",
      "2\n",
      "3\n",
      "5\n",
      "8\n",
      "13\n",
      "21\n",
      "34\n",
      "55\n",
      "89\n",
      "144\n",
      "233\n"
     ]
    }
   ],
   "source": [
    "n=14\n",
    "print(f'Here are the first {n} terms of the Fibonacci Sequence:')\n",
    "for i in range(1,n+1):\n",
    "    print(func_fib(i))"
   ]
  }
 ],
 "metadata": {
  "kernelspec": {
   "display_name": "Python 3 (ipykernel)",
   "language": "python",
   "name": "python3"
  },
  "language_info": {
   "codemirror_mode": {
    "name": "ipython",
    "version": 3
   },
   "file_extension": ".py",
   "mimetype": "text/x-python",
   "name": "python",
   "nbconvert_exporter": "python",
   "pygments_lexer": "ipython3",
   "version": "3.9.12"
  }
 },
 "nbformat": 4,
 "nbformat_minor": 4
}
