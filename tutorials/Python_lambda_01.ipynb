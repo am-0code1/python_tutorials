{
 "cells": [
  {
   "attachments": {},
   "cell_type": "markdown",
   "metadata": {},
   "source": [
    "# Python lambda\n",
    "\n",
    "### Importance\n",
    "In Python, lambda function is by no means a must!\n",
    "However, lambda function can potentially offer a neat, short, and inline style of coding for some specific circumstances.\n",
    "\n",
    "### Scope of tutorial and what you learn\n",
    "\n",
    "Here is what we discuss in this tutorial:<br>\n",
    "\\- [An introduction on Python lambda function and anonymous function](#intro).<br>\n",
    "\\- [Python lambda example](#simple_example).<br>\n",
    "&emsp;\\- [Python lambda: when to use](#lambda_usage).<br>\n",
    "\\- [Python map lambda](#map_lambda).<br>\n",
    "\\- [Python lambda function and pandas DataFrame](#lambda_apply_pandas).<br>\n",
    "\\- [Final remarks on when to use lambda function](#lambda_when_to_use).<br>"
   ]
  },
  {
   "cell_type": "markdown",
   "metadata": {},
   "source": [
    "<a id='intro'></a>\n",
    "## Python lambda function\n",
    "\n",
    "An **anonymous function** in Python is a function defined using the keyword **lambda** without any name, as opposed to a normal function that is defined using the keyword **def** with a name to be called later. Because of using the keyword lambda, an anonymous function is also called **lambda function**.\n",
    "\n",
    "In Python, lambda function is a small inline function with only one expression. The two unique features of being **anonymous** and having **only one expression** make the lambda function a perfect tool for the cases that you need to call a relatively simple expression (due to having only one expression) from only one place in your whole code (due to being anonymous). Upon being called, the lambda function operates on given argument(s) and return output(s).\n",
    "\n",
    "Let’s look at a simple example."
   ]
  },
  {
   "cell_type": "markdown",
   "metadata": {},
   "source": [
    "<a id='simple_example'></a>\n",
    "## Python lambda example"
   ]
  },
  {
   "cell_type": "markdown",
   "metadata": {},
   "source": [
    "In the following example, a lambda function is defined to raise a given argument to power 2 and return the result."
   ]
  },
  {
   "cell_type": "code",
   "execution_count": 1,
   "metadata": {},
   "outputs": [
    {
     "name": "stdout",
     "output_type": "stream",
     "text": [
      "1\n",
      "4\n",
      "2.25\n"
     ]
    }
   ],
   "source": [
    "mylambda = lambda x: x**2\n",
    "\n",
    "print(mylambda(1))\n",
    "print(mylambda(-2))\n",
    "print(mylambda(1.5))"
   ]
  },
  {
   "cell_type": "markdown",
   "metadata": {},
   "source": [
    "Please, note that it was just a simple example showing how you could create a **lambda function object**. The same functionality could be achieved by defining and using a normal function object:"
   ]
  },
  {
   "cell_type": "code",
   "execution_count": 2,
   "metadata": {},
   "outputs": [
    {
     "name": "stdout",
     "output_type": "stream",
     "text": [
      "1\n",
      "4\n",
      "2.25\n"
     ]
    }
   ],
   "source": [
    "def myfunc(x):\n",
    "    return x**2\n",
    "\n",
    "print(myfunc(1))\n",
    "print(myfunc(-2))\n",
    "print(myfunc(1.5))"
   ]
  },
  {
   "cell_type": "markdown",
   "metadata": {},
   "source": [
    "There are definitely some differences in terms of syntax. For example, lambda function has a much shorter and simpler syntax, e.g. it does not have a name, and it does not use the keyword **return**.  But, the functionality of both lambda and normal functions shown here is the same. \n",
    "So, you may wonder, _what is the significance of lambda function_?! I will explain it in a moment!"
   ]
  },
  {
   "cell_type": "markdown",
   "metadata": {},
   "source": [
    "<a id='lambda_usage'></a>\n",
    "### Python lambda | when to use\n",
    "\n",
    "Lambda function is best suited for situations that you want to perform a relatively simple operation, described as a single expression. In particular, lambda function can be defined in a neat an inline fashion, and be passed as an argument to a **higher order function**, _i.e._ a function that takes another function object as an argument. We look at some examples in the following."
   ]
  },
  {
   "attachments": {},
   "cell_type": "markdown",
   "metadata": {},
   "source": [
    "<a id='map_lambda'></a>\n",
    "## Python map lambda"
   ]
  },
  {
   "cell_type": "markdown",
   "metadata": {},
   "source": [
    "In the following example, a lambda function is defined and passed to the **map** function. The lambda function, in this example, simply raises a passed argument to power 2, and returns the result. The **map** function, on the other side, has a syntax of ***map(function, iterable)***. It returns an iterator that applies the passed _function_, to every item of the passed _iterable_, yielding the results. "
   ]
  },
  {
   "cell_type": "code",
   "execution_count": 3,
   "metadata": {},
   "outputs": [
    {
     "data": {
      "text/plain": [
       "[0, 1, 4, 9, 16]"
      ]
     },
     "execution_count": 3,
     "metadata": {},
     "output_type": "execute_result"
    }
   ],
   "source": [
    "list(map(lambda n: n ** 2, [0, 1, 2, 3, 4]))"
   ]
  },
  {
   "cell_type": "markdown",
   "metadata": {},
   "source": [
    "You could achieve the same goal using the normal function as follows:"
   ]
  },
  {
   "cell_type": "code",
   "execution_count": 4,
   "metadata": {},
   "outputs": [
    {
     "data": {
      "text/plain": [
       "[0, 1, 4, 9, 16]"
      ]
     },
     "execution_count": 4,
     "metadata": {},
     "output_type": "execute_result"
    }
   ],
   "source": [
    "def raise_to_power_2(x):\n",
    "    return x**2\n",
    "\n",
    "list(map(raise_to_power_2, [0, 1, 2, 3, 4]))"
   ]
  },
  {
   "cell_type": "markdown",
   "metadata": {},
   "source": [
    "You can see that using the lambda function leads to a neat, short, and inline coding."
   ]
  },
  {
   "cell_type": "markdown",
   "metadata": {},
   "source": [
    "<a id='lambda_apply_pandas'></a>\n",
    "## Python lambda function | pandas DataFrame"
   ]
  },
  {
   "cell_type": "markdown",
   "metadata": {},
   "source": [
    "As another example, which is relevant to the data science field, you can pass a lambda function object to the [apply method from pandas DataFrame](https://soardeepsci.com/pandas-apply-function-to-column#multi_col_lambda_function). The **apply** method, applies the passed function to the specified columns, C and D here, to find the normalized values of columns C and D. The lambda function is, therefore, defined so that it returns the normalized values of a vector."
   ]
  },
  {
   "cell_type": "code",
   "execution_count": 5,
   "metadata": {},
   "outputs": [
    {
     "name": "stdout",
     "output_type": "stream",
     "text": [
      "Here is the DataFrame:\n",
      "   A  B  C  D\n",
      "0  2  5  1  4\n",
      "1  9  5  2  1\n",
      "2  6  1  9  7\n",
      "3  6  0  2  9\n",
      "4  1  2  6  7\n",
      "5  7  7  8  7\n",
      "6  1  7  4  0\n",
      "\n",
      "--------------------------------------------------\n",
      "\n",
      "Using lambda function on columns C and D:\n",
      "\n",
      "   A  B  C  D  Normalized_C  Normalized_D\n",
      "0  2  5  1  4     -1.222790     -0.316228\n",
      "1  9  5  2  1     -0.880409     -1.264911\n",
      "2  6  1  9  7      1.516260      0.632456\n",
      "3  6  0  2  9     -0.880409      1.264911\n",
      "4  1  2  6  7      0.489116      0.632456\n",
      "5  7  7  8  7      1.173878      0.632456\n",
      "6  1  7  4  0     -0.195646     -1.581139\n",
      "--------------------------------------------------\n"
     ]
    }
   ],
   "source": [
    "import numpy as np\n",
    "import pandas as pd\n",
    "np.random.seed(12345)\n",
    "df = pd.DataFrame(data=np.random.randint(0,10, (7,4)), columns=list('ABCD'))\n",
    "print(f'Here is the DataFrame:\\n{df}\\n')\n",
    "\n",
    "# passing the lambda function oject to the apply method\n",
    "df[['Normalized_C', 'Normalized_D']] = df[['C', 'D']].apply(lambda x: (x-np.mean(x))/np.std(x), axis=0)\n",
    "\n",
    "print('-'*50)\n",
    "print(f'\\nUsing lambda function on columns C and D:\\n\\n{df}')\n",
    "print('-'*50)"
   ]
  },
  {
   "cell_type": "markdown",
   "metadata": {},
   "source": [
    "More information with regard to the _apply_ method from **pandas DataFrame** and how **lambda** function can be useful can be found in [our other tutorial](https://soardeepsci.com/pandas-apply-function-to-column#multi_col_lambda_function)."
   ]
  },
  {
   "attachments": {},
   "cell_type": "markdown",
   "metadata": {},
   "source": [
    "<a id='lambda_when_to_use'></a>\n",
    "## Python lambda | final remarks on when to use\n",
    "\n",
    "Using the lambda function can potentially lead to a neat coding. However, if you need to use the function over and over in other parts of your code, there may not be any benefit to use lambda function. In fact, the situation can be easily reversed in favor of normal function, which makes it wiser to define a normal function once and use it later as needed. \n",
    "\n",
    "Finally, do not be obsessed with using lambda function! Do not stop for hours or days, just trying to figure out how to write a lambda function for complicated situations that may involve many if statements, multi-step manipulations, etc. You can always use normal function object and enjoy boundless capabilities it offers. In the meantime, you can enjoy the neat and concise syntax offered by lambda function whenever applicable."
   ]
  },
  {
   "cell_type": "markdown",
   "metadata": {},
   "source": [
    "## Summary\n",
    "\n",
    "In this tutorial, we introduced the concepts of **anonymous function** and **lambda function** in Python. We discussed the differences between lambda function and normal function.\n",
    "\n",
    "We provided several examples demonstrating that lambda function can lead to a neat, short, and inline style of coding under some specific circumstances, particularly when you need to perform fairly simple operations in one part of your code. It can also be helpful to pass a simple function to a higher order function like the Python built-in **map** function, or the **apply** method from **pandas** library. However, we emphasized to not be obsessed with lambda function! Use if for simple cases that one single expression suffices to describe the desired operation. You can always use normal function for complex operations.\n",
    "\n",
    "Hopefully, this tutorial was able to help you with some of the basics of Python. \n",
    "Please do not hesitate to let us know if you have any questions or comments by leaving a note below, or [contacting us](https://soardeepsci.com/contact/).\n",
    "Also, please feel free to check out the rest of the articles on [SoarDeepSci](https://soardeepsci.com/blog/)."
   ]
  }
 ],
 "metadata": {
  "kernelspec": {
   "display_name": "Python 3",
   "language": "python",
   "name": "python3"
  },
  "language_info": {
   "codemirror_mode": {
    "name": "ipython",
    "version": 3
   },
   "file_extension": ".py",
   "mimetype": "text/x-python",
   "name": "python",
   "nbconvert_exporter": "python",
   "pygments_lexer": "ipython3",
   "version": "3.8.5"
  }
 },
 "nbformat": 4,
 "nbformat_minor": 4
}
