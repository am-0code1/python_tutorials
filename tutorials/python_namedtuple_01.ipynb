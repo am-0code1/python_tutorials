{
 "cells": [
  {
   "cell_type": "markdown",
   "metadata": {},
   "source": [
    "# Python _namedtuple_\n",
    "\n",
    "### Importance\n",
    "Have you ever wished to have a dictionary that enables the _slicing_ operation similar to a list or tuple?! \n",
    "\n",
    "Or, maybe, having an iterable allowing _slicing_ and, at the same time, offering access to items from keys similar to a dictionary?!\n",
    "\n",
    "If so, you are in the right place, since we are going to discuss a cool datatype in Python called ***named tuple*** (tuple with named fields) that simultaneously supports access to items via index, similar to tuples and list, and access to items via keys, similar to a dictionary. \n",
    "\n",
    "### Scope of tutorial and what you learn\n",
    "\n",
    "In this tutorial, we discuss a specialized datatype called _'named tuple'_ that can be created using the function ***namedtuple*** from the module **collections**.\n",
    "We start with introducing the basics and the need to have such a specialized datatype.\n",
    "We will then discuss the parameters of the function ***namedtuple***, and provide some examples demonstrating how you can access the items of the newly-created _named tuple_ datatype through both 1. index (like tuple), and 2. key (like dictionary).\n",
    "At the end, we will have a more in-depth discussion on some nuances of naming classes and the parameter _typename_ from the function ***namedtuple***.\n",
    "\n",
    "As you flow through this tutorial, you learn the answer to questions such as:\n",
    "\n",
    "\\- What is _namedtuple_ in Python?<br>\n",
    "\\- What is the significance of _namedtuple_ in Python?<br>\n",
    "\\- What is the difference between the class name and the variable name?<br>\n",
    "\\- What is the attribute **\\_\\_name\\_\\_** of a class?<br>\n",
    "\n",
    "With that being said, here is the outline of this tutorial:\n",
    "\n",
    "### Outline\n",
    "\n",
    "\\- [Python namedtuple | basics](#python-namedtuple-basics)<br>\n",
    "\\- [Python namedtuple | example](#namedtuple-example)<br>\n",
    "\\- [Python namedtuple | access operations](#namedtuple-access)<br>\n",
    "\\- [Named tuple type instantiation multiple times](#namedtuple-instantiation)<br>\n",
    "\\- [Python namedtuple | some nuances about the parameter 'typename'](#namedtuple-typename)<br>\n",
    "&emsp;\\- [Assigning a class to variable(s) & name attribute](#assign-class)<br>\n",
    "&emsp;\\- [Why same name for _typename_ and variable name?](#namedtuple-nametype-naming)<br>\n",
    "\\- [Recap](#recap)<br>\n",
    "\\- [Quiz](#quiz)<br>"
   ]
  },
  {
   "cell_type": "markdown",
   "metadata": {},
   "source": [
    "<a id='python-namedtuple-basics'></a>\n",
    "## Python _namedtuple_ | basics\n",
    "<font color=\"darkred\">What is namedtuple in Python?</font>\n",
    "\n",
    "**<font color=\"darkgreen\">In Python, \"namedtuple\" is a function from the module collections enabling us to create a specialized container datatype called \"named tuple\" (Tuple with Named Fields) that borrows some useful features from the built-in datatypes: \"dictionary\" and \"tuple\".</font>**\n",
    "\n",
    "I know, it is exciting! Let me explain the pertinent concepts first.\n",
    "\n",
    "In Python, the module **collections** provides with implementation of specialized container datatypes as an alternative to built-in containers such as ***list, set, tuple, and dict***.\n",
    "One of such specialized container datatypes is _named tuple_, _i.e._ **Tuple with Named Fields**, that can be created using the **namedtuple** function.\n",
    "\n",
    "The **namedtuple** function, therefore, is used to create a class for objects consisting of some data attributes with no custom methods. Feel free to see our other [tutorial on class, object, data attributes, and methods](https://soardeepsci.com/python-class/) for more information about the class and object concepts.\n",
    "\n",
    "Since the _named tuple_ datatype mainly consists of data attributes, it is well suited to be used as a database record.\n",
    "\n",
    "More importantly, the _named tuple_ datatype offers both slicing (like \\[3:7\\]) and key-value access (it has _keys_); think of it as a combination of dictionary and tuple.\n",
    "Now, it should make more sense to you when we say that the **collections** module provides with implementation of ***specialized container datatypes***.\n",
    "\n",
    "**<font color=\"navy\">OK, that is awesome, but how to use the namedtuple function to create such a cool datatype?!</font>**\n",
    "\n",
    "The **namedtuple** function has two [positional-or-keyword parameters](https://soardeepsci.com/python-function-argument-parameter): \"typename\" and \"field_names\".\n",
    "\n",
    "<font color=\"green\">What does the \"typename\" parameter do?!</font>\n",
    "\n",
    "It turns out when you call **namedtuple**, a ***tuple*** (actually a subclass) is returned, the name of which is specified by the \"typename\" parameter.\n",
    "There are some nuances about the naming and the parameter _typename_ that I will get to later.\n",
    "\n",
    "<font color=\"green\">What does the \"field_names\" parameter do?!</font>\n",
    "\n",
    "The parameter \"field_names\" is used to create the fields of the returned tuple-like object upon calling **namedtuple**.\n",
    "\n",
    "The parameter \"field_names\" takes a sequence of strings such as \\['name', 'id', 'age'\\] to specify the fields of the new datatype. \n",
    "To make your life slightly easier (!), you can alternatively pass a single string separating field names by whitespace and/or commas, _e.g._ 'name id age', or 'name, id, age'.\n",
    "\n",
    "In a nutshell:\n",
    "\n",
    "You can create **tuple** (subclass) objects with **named fields** by using the factory function **namedtuple**.\n",
    "\n",
    "Let's look at some examples:"
   ]
  },
  {
   "cell_type": "markdown",
   "metadata": {},
   "source": [
    "<a id='namedtuple-example'></a>\n",
    "## Python namedtuple | example"
   ]
  },
  {
   "cell_type": "code",
   "execution_count": 1,
   "metadata": {},
   "outputs": [],
   "source": [
    "import collections\n",
    "\n",
    "Employee = collections.namedtuple('Employee', ['name', 'id', 'work_hours', 'age', 'DOB'])"
   ]
  },
  {
   "cell_type": "markdown",
   "metadata": {},
   "source": [
    "Here, _Employee_ is the returned _named tuple_ **class object** that is assigned to the variable _Employee_.\n",
    "More on nuances of this naming later.\n",
    "\n",
    "Let's create a _named tuple_ object (a record) for the first employee.\n",
    "The process is called [class instantiation](https://soardeepsci.com/python-class/), which basically means that the class object **Employee** is now instantiated to create an instance of the class.\n",
    "The instance of the class, here, is called a **class instance object** (or simply an **object**).\n",
    "This object, here, is assigned to the variable 'emp1'."
   ]
  },
  {
   "cell_type": "code",
   "execution_count": 2,
   "metadata": {},
   "outputs": [],
   "source": [
    "emp1 = Employee('John', 12345, 40, 31, '1990-01-01')"
   ]
  },
  {
   "cell_type": "markdown",
   "metadata": {},
   "source": [
    "If you print the object, you can see "
   ]
  },
  {
   "cell_type": "code",
   "execution_count": 3,
   "metadata": {},
   "outputs": [
    {
     "name": "stdout",
     "output_type": "stream",
     "text": [
      "Employee(name='John', id=12345, work_hours=40, age=31, DOB='1990-01-01')\n"
     ]
    }
   ],
   "source": [
    "print(emp1)"
   ]
  },
  {
   "cell_type": "markdown",
   "metadata": {},
   "source": [
    "Also, if you check the type of your newly-created object, you can see _emp1_ is an object of type **Employee**, _i.e._ the _named tuple_ datatype created above using the **namedtuple** function."
   ]
  },
  {
   "cell_type": "code",
   "execution_count": 4,
   "metadata": {},
   "outputs": [
    {
     "data": {
      "text/plain": [
       "__main__.Employee"
      ]
     },
     "execution_count": 4,
     "metadata": {},
     "output_type": "execute_result"
    }
   ],
   "source": [
    "type(emp1)"
   ]
  },
  {
   "cell_type": "markdown",
   "metadata": {},
   "source": [
    "<a id='namedtuple-access'></a>\n",
    "## Python namedtuple | access operations\n",
    "\n",
    "Remember we said _named tuple_ datatype borrows cool features of tuple and dictionary?! \n",
    "No more waiting! \n",
    "\n",
    "**<font color=\"darkred\">The items of an object of type _named tuple_ datatype can be accessed via both \"index\" (like tuple) and \"key\" (like dictionary).</font>**\n",
    "\n",
    "As an example, you can access last item of the _emp1_ object as follows:"
   ]
  },
  {
   "cell_type": "code",
   "execution_count": 5,
   "metadata": {},
   "outputs": [
    {
     "data": {
      "text/plain": [
       "'1990-01-01'"
      ]
     },
     "execution_count": 5,
     "metadata": {},
     "output_type": "execute_result"
    }
   ],
   "source": [
    "emp1[-1]"
   ]
  },
  {
   "cell_type": "markdown",
   "metadata": {},
   "source": [
    "Or, you could do slicing operations, such as:"
   ]
  },
  {
   "cell_type": "code",
   "execution_count": 6,
   "metadata": {},
   "outputs": [
    {
     "name": "stdout",
     "output_type": "stream",
     "text": [
      "(31, '1990-01-01')\n",
      "('John', 12345, 40)\n",
      "(40, 31)\n",
      "('John', 12345, 40)\n"
     ]
    }
   ],
   "source": [
    "print(emp1[3:])\n",
    "print(emp1[:3])\n",
    "print(emp1[2:4])\n",
    "print(emp1[:-2])"
   ]
  },
  {
   "cell_type": "markdown",
   "metadata": {},
   "source": [
    "Alternatively, you could use _keys_ to access the corresponding values. \n",
    "For example to access the value corresponding to the 'DOB':"
   ]
  },
  {
   "cell_type": "code",
   "execution_count": 7,
   "metadata": {},
   "outputs": [
    {
     "data": {
      "text/plain": [
       "'1990-01-01'"
      ]
     },
     "execution_count": 7,
     "metadata": {},
     "output_type": "execute_result"
    }
   ],
   "source": [
    "emp1.DOB"
   ]
  },
  {
   "cell_type": "markdown",
   "metadata": {},
   "source": [
    "And, the following code snippet demonstrates how to access each item of a _named tuple_ object using the corresponding keys:"
   ]
  },
  {
   "cell_type": "code",
   "execution_count": 8,
   "metadata": {},
   "outputs": [
    {
     "name": "stdout",
     "output_type": "stream",
     "text": [
      "John\n",
      "12345\n",
      "40\n",
      "31\n",
      "1990-01-01\n"
     ]
    }
   ],
   "source": [
    "print(emp1.name)\n",
    "print(emp1.id)\n",
    "print(emp1.work_hours)\n",
    "print(emp1.age)\n",
    "print(emp1.DOB)"
   ]
  },
  {
   "cell_type": "markdown",
   "metadata": {},
   "source": [
    "<a id='namedtuple-instantiation'></a>\n",
    "## Named tuple type instantiation multiple times\n",
    "\n",
    "You may ask, how to create multiple objects (records) of _named tuple_ type?! At the end of the day, the number of employees is most likely more than one!\n",
    "\n",
    "Well, you can create new _named tuple_ records by following the same process you did for the first employee.\n",
    "Each time you create a record, you simply instantiate the corresponding class, _i.e._ **Employee**, with customized attributes (named fields).\n",
    "\n",
    "For example:"
   ]
  },
  {
   "cell_type": "code",
   "execution_count": 9,
   "metadata": {},
   "outputs": [],
   "source": [
    "emp2 = Employee('Mark', 54321, 35, 26, '1995-01-01')\n",
    "emp3 = Employee('Pat', 24680, 40, 41, '1980-01-01')"
   ]
  },
  {
   "cell_type": "markdown",
   "metadata": {},
   "source": [
    "Here are all the _named tuple_ objects you have created so far:"
   ]
  },
  {
   "cell_type": "code",
   "execution_count": 10,
   "metadata": {},
   "outputs": [
    {
     "name": "stdout",
     "output_type": "stream",
     "text": [
      "Employee(name='John', id=12345, work_hours=40, age=31, DOB='1990-01-01')\n",
      "Employee(name='Mark', id=54321, work_hours=35, age=26, DOB='1995-01-01')\n",
      "Employee(name='Pat', id=24680, work_hours=40, age=41, DOB='1980-01-01')\n"
     ]
    }
   ],
   "source": [
    "print(emp1)\n",
    "print(emp2)\n",
    "print(emp3)"
   ]
  },
  {
   "cell_type": "markdown",
   "metadata": {},
   "source": [
    "<a id='namedtuple-typename'></a>\n",
    "## Python namedtuple | some nuances about the parameter _typename_\n",
    "<font color=\"darkred\">Does the _typename_ parameter in namedtuple need to be the same as the variable's name?</font>\n",
    "\n",
    "To answer this question, we need to discuss some basic concepts to help better understand the pertinent details.\n",
    "So, let's do that!"
   ]
  },
  {
   "cell_type": "markdown",
   "metadata": {},
   "source": [
    "<a id='assign-class'></a>\n",
    "### Assigning a class to variable(s) & **\\_\\_name\\_\\_** attribute\n",
    "It turns out that when the definition of a class is executed, the resulted **class object** is automatically assigned to a variable with the same name as the **\\_\\_name\\_\\_** attribute of the **class object** itself.\n",
    "\n",
    "To clarify, consider a very simple example.\n",
    "In the following code snippet, we have the class **Foo**.\n",
    "Once the definition of class is executed, a **class object** is created, the **\\_\\_name\\_\\_** attribute of which is 'Foo' (Feel free to check out our [tutorial on class and objects, to learn more about the differences of class object and object](https://soardeepsci.com/python-class/)). "
   ]
  },
  {
   "cell_type": "code",
   "execution_count": 11,
   "metadata": {},
   "outputs": [
    {
     "name": "stdout",
     "output_type": "stream",
     "text": [
      "The __name__ attribute: Foo\n"
     ]
    }
   ],
   "source": [
    "class Foo:\n",
    "    a=1\n",
    "\n",
    "print(f'The __name__ attribute: {Foo.__name__}')"
   ]
  },
  {
   "cell_type": "markdown",
   "metadata": {},
   "source": [
    "Now, you can see that there is also a variable named 'Foo' as shown below:"
   ]
  },
  {
   "cell_type": "code",
   "execution_count": 12,
   "metadata": {},
   "outputs": [
    {
     "data": {
      "text/plain": [
       "__main__.Foo"
      ]
     },
     "execution_count": 12,
     "metadata": {},
     "output_type": "execute_result"
    }
   ],
   "source": [
    "Foo"
   ]
  },
  {
   "cell_type": "markdown",
   "metadata": {},
   "source": [
    "We can see that 'Foo' is indeed a variable in the scope of main program.\n",
    "More importantly, the class **Foo** is assigned automatically to the variable 'Foo'.\n",
    "So, for example, the following attribute reference returns the value of attribute _a_ from the clas object **Foo**:"
   ]
  },
  {
   "cell_type": "code",
   "execution_count": 13,
   "metadata": {},
   "outputs": [
    {
     "data": {
      "text/plain": [
       "1"
      ]
     },
     "execution_count": 13,
     "metadata": {},
     "output_type": "execute_result"
    }
   ],
   "source": [
    "Foo.a"
   ]
  },
  {
   "cell_type": "markdown",
   "metadata": {},
   "source": [
    "However, you can assign the **class object** _Foo_ to another variable too, say 'apple'.\n",
    "You can now see that the variable 'apple' too points to the **class object**."
   ]
  },
  {
   "cell_type": "code",
   "execution_count": 14,
   "metadata": {},
   "outputs": [],
   "source": [
    "apple = Foo"
   ]
  },
  {
   "cell_type": "markdown",
   "metadata": {},
   "source": [
    "At this point, the **class object** _Foo_ is assigned to two variables: 'Foo' and 'apple':"
   ]
  },
  {
   "cell_type": "code",
   "execution_count": 15,
   "metadata": {},
   "outputs": [
    {
     "name": "stdout",
     "output_type": "stream",
     "text": [
      "<class '__main__.Foo'>\n",
      "<class '__main__.Foo'>\n"
     ]
    }
   ],
   "source": [
    "print(Foo)\n",
    "print(apple)"
   ]
  },
  {
   "cell_type": "markdown",
   "metadata": {},
   "source": [
    "So, both _Foo.a_ and _apple.a_ reference to the data attribute _a_ of the class object ***Foo***:"
   ]
  },
  {
   "cell_type": "code",
   "execution_count": 16,
   "metadata": {},
   "outputs": [
    {
     "name": "stdout",
     "output_type": "stream",
     "text": [
      "1\n",
      "1\n"
     ]
    }
   ],
   "source": [
    "print(Foo.a)\n",
    "print(apple.a)"
   ]
  },
  {
   "cell_type": "markdown",
   "metadata": {},
   "source": [
    "Finally, if you want, you can remove the variable 'Foo' from the namespace."
   ]
  },
  {
   "cell_type": "code",
   "execution_count": 17,
   "metadata": {},
   "outputs": [],
   "source": [
    "del Foo"
   ]
  },
  {
   "cell_type": "markdown",
   "metadata": {},
   "source": [
    "At this point, you are left with the **class object**, which is, now, only assigned to the variable 'apple'."
   ]
  },
  {
   "cell_type": "code",
   "execution_count": 18,
   "metadata": {},
   "outputs": [
    {
     "data": {
      "text/plain": [
       "1"
      ]
     },
     "execution_count": 18,
     "metadata": {},
     "output_type": "execute_result"
    }
   ],
   "source": [
    "apple.a"
   ]
  },
  {
   "cell_type": "markdown",
   "metadata": {},
   "source": [
    "Now, ready for the cool part?!!\n",
    "\n",
    "Let's look at the **\\_\\_name\\_\\_** attribute of the **class object** assigned to 'apple':"
   ]
  },
  {
   "cell_type": "code",
   "execution_count": 19,
   "metadata": {},
   "outputs": [
    {
     "data": {
      "text/plain": [
       "'Foo'"
      ]
     },
     "execution_count": 19,
     "metadata": {},
     "output_type": "execute_result"
    }
   ],
   "source": [
    "apple.__name__"
   ]
  },
  {
   "cell_type": "markdown",
   "metadata": {},
   "source": [
    "You see what happens?! The **class object** itself, and of course its attributes like **\\_\\_name\\_\\_**, remain the same regardless of any variable(s) the **class object** is assigned to.\n",
    "\n",
    "**<font color=\"darkred\">Think of \"variables\" as \"labels\", while \"objects\" have \"identity\", regardless of labels attached to them.</font>**"
   ]
  },
  {
   "cell_type": "markdown",
   "metadata": {},
   "source": [
    "Now, you may wonder, _why making things complicated?! Why assigning the class object to a variable with a different name?!_\n",
    "\n",
    "Well, that is exactly the point! \n",
    "That is why Python automatically assigns the class object to a variable with the same name.\n",
    "Yet, you can assign it to another name, as discussed above, in case there is a good reason to do so."
   ]
  },
  {
   "cell_type": "markdown",
   "metadata": {},
   "source": [
    "<a id='namedtuple-nametype-naming'></a>\n",
    "### Why same name for _typename_ and variable name?\n",
    "\n",
    "Now, that you are familiar with the required concepts, let's get to the question we asked earlier about _typename_ in **namedtuple**:\n",
    "\n",
    "<font color=\"darkred\">Does the _typename_ parameter in namedtuple need to be the same as the variable's name?</font>\n",
    "\n",
    "Let's look at the attribute **\\_\\_name\\_\\_** in the **Employee** class:"
   ]
  },
  {
   "cell_type": "code",
   "execution_count": 20,
   "metadata": {},
   "outputs": [
    {
     "data": {
      "text/plain": [
       "'Employee'"
      ]
     },
     "execution_count": 20,
     "metadata": {},
     "output_type": "execute_result"
    }
   ],
   "source": [
    "Employee.__name__"
   ]
  },
  {
   "cell_type": "markdown",
   "metadata": {},
   "source": [
    "So, basically the syntax we used earlier with _typename='Employee'_ resulted in a type object named 'Employee', _i.e._ data attribute **\\_\\_name\\_\\_** is 'Employee', which we wisely (!) assigned to variable _Employee_.\n",
    "By such a wise naming we avoided any confusion that could be resulted later otherwise.\n",
    "\n",
    "To clarify further, let's consider the following naming, which is not recommended:"
   ]
  },
  {
   "cell_type": "code",
   "execution_count": 21,
   "metadata": {},
   "outputs": [],
   "source": [
    "Employee = collections.namedtuple('BadTypeName', ['name', 'id', 'work_hours', 'age', 'DOB'])"
   ]
  },
  {
   "cell_type": "markdown",
   "metadata": {},
   "source": [
    "We can see that the variable _Employee_ points to the class _BadTypeName_, which is not intuitive:"
   ]
  },
  {
   "cell_type": "code",
   "execution_count": 22,
   "metadata": {},
   "outputs": [
    {
     "name": "stdout",
     "output_type": "stream",
     "text": [
      "<class '__main__.BadTypeName'>\n",
      "BadTypeName\n"
     ]
    }
   ],
   "source": [
    "print(Employee)\n",
    "print(Employee.__name__)"
   ]
  },
  {
   "cell_type": "markdown",
   "metadata": {},
   "source": [
    "And, to add to this confusion, you can try to instantiate the class assigned to variable _Employee_, to create new _named tuple_ objects:"
   ]
  },
  {
   "cell_type": "code",
   "execution_count": 23,
   "metadata": {},
   "outputs": [
    {
     "data": {
      "text/plain": [
       "BadTypeName(name='Mark', id=54321, work_hours=35, age=26, DOB='1995-01-01')"
      ]
     },
     "execution_count": 23,
     "metadata": {},
     "output_type": "execute_result"
    }
   ],
   "source": [
    "newemp1 = Employee('Mark', 54321, 35, 26, '1995-01-01')\n",
    "newemp1"
   ]
  },
  {
   "cell_type": "markdown",
   "metadata": {},
   "source": [
    "So, the conclusion is that:\n",
    "\n",
    "**<font color=\"darkgreen\">To avoid confusion, it is recommended to consider the same \"typename\" and \"variable name\" when using the \"namedtuple\" function to create a named tuple datatype.</font>**"
   ]
  },
  {
   "cell_type": "markdown",
   "metadata": {},
   "source": [
    "<a id='recap'></a>\n",
    "## Recap\n",
    "\n",
    "\\- In Python, the function ***namedtuple*** from module **collections** allows you to create a new datatype called _named tuple_, which is basically a **tuple with named fields**.\n",
    "\n",
    "\\- Since the newly created class _named tuple_ has mainly data attributes without custom methods, it is well suited for creating database records.\n",
    "\n",
    "\\- You can instantiate the newly created datatype _named tuple_ to create as many objects as you want.\n",
    "\n",
    "\\- You can access the items of an object of type _named tuple_ through both index (like tuples) and keys (like dictionary).\n",
    "\n",
    "\\- Upon the creation of the class object, the **\\_\\_name\\_\\_** attribute is set to the name specified for the class in the class definition. The class object is then automatically assigned to a variable with the same name.\n",
    "\n",
    "\\- To avoid confusion, the parameter _typename_ of the ***namedtuple*** function should be the same as the variable name you choose to label the _named tuple_ class object you want to create.\n"
   ]
  },
  {
   "cell_type": "markdown",
   "metadata": {},
   "source": [
    "<a id='quiz'></a>\n",
    "## Quiz\n",
    "Finally, I end this tutorial with a simple quiz!\n",
    "\n",
    "Try to create a deck of cards using a _named tuple_ datatype that has two fields named 'rank' and 'suit'.\n",
    "The _rank_ field can take an integer number from 1 to 13, while the field _suit_ can take any of strings 'diamonds', 'spades', 'hearts', and 'clubs'."
   ]
  },
  {
   "cell_type": "markdown",
   "metadata": {},
   "source": [
    "## Final remarks\n",
    "\n",
    "In this tutorial, we introduced a specialized datatype in Python called _named tuple_.\n",
    "\n",
    "We discussed how you can use the function ***namedtuple*** from the module **collections** to create a _named tuple_ datatype. We provided some examples to show how one can access the items of the _named tuple_ datatype through both 1. index (like tuple), and 2. keys (like dictionary). Importantly, we presented some nuances related to naming classes, which led to some recommendations for the parameter _typename_ from the function ***namedtuple***.\n",
    "\n",
    "\n",
    "Hopefully, this tutorial was able to help you with some of the basics of Python. \n",
    "Please do not hesitate to let us know if you have any questions or comments by leaving a note below, or [contacting us](https://soardeepsci.com/contact/).\n",
    "Also, please feel free to check out the rest of the articles on [SoarDeepSci](https://soardeepsci.com/blog/)."
   ]
  }
 ],
 "metadata": {
  "kernelspec": {
   "display_name": "Python 3",
   "language": "python",
   "name": "python3"
  },
  "language_info": {
   "codemirror_mode": {
    "name": "ipython",
    "version": 3
   },
   "file_extension": ".py",
   "mimetype": "text/x-python",
   "name": "python",
   "nbconvert_exporter": "python",
   "pygments_lexer": "ipython3",
   "version": "3.8.5"
  }
 },
 "nbformat": 4,
 "nbformat_minor": 4
}
