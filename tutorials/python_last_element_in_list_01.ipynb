{
 "cells": [
  {
   "cell_type": "markdown",
   "metadata": {},
   "source": [
    "# Python | last element in list\n",
    "\n",
    "## Importance\n",
    "When you code in Python, last element in list can be sometimes crucially important to you. For example, if you store historical data in a list, the last item can be especially important for you. Furthermore, if your list is being updated over time, the length of the list can change whenever your list is updated. So, you may wonder _how to conveniently get last element of list in Python_.\n",
    "\n",
    "## Short answer\n",
    "Here are the commonly-used methods to get last element of list in Python:<br>\n",
    "\n",
    "<font color=\"green\"> 1\\. Use the index brackets to get individual elements by index. In particular, index of -1 refers to the last element. For example, if you have a list named _mylist_, then you can use _mylist[-1]_ to get last element in list. Similarly, you can use _mylist[-2]_ to get second-to-last element in list, etc.</font>\n",
    "\n",
    "<font color=\"blue\"> 2\\. Use the Python list pop() method, which removes the item at the given position in the list, and return it. If no index is given, the Python list pop() method removes and returns the last element in list.\n",
    "</font>\n",
    " \n",
    "In the following, we provide some Python code example demonstrating how to get last element of list in Python."
   ]
  },
  {
   "cell_type": "markdown",
   "metadata": {},
   "source": [
    "# Python | get last element in list using index bracket | example #1\n",
    "\n",
    "Let's start with our favorite list: list of delicious fruits!"
   ]
  },
  {
   "cell_type": "code",
   "execution_count": 1,
   "metadata": {},
   "outputs": [],
   "source": [
    "mylist = ['apple', 'banana', 'watermelon', 'cherry', 'Apricots', 'Figs', 'Orange']"
   ]
  },
  {
   "cell_type": "markdown",
   "metadata": {},
   "source": [
    "Here is how you could get last element of list in Python by using index bracket. Note that index=-1 refers to the last element in list, index=-2 corresponds to the second-to-last element in list, etc."
   ]
  },
  {
   "cell_type": "code",
   "execution_count": 2,
   "metadata": {},
   "outputs": [
    {
     "name": "stdout",
     "output_type": "stream",
     "text": [
      "Last element in list: Orange\n",
      "Second-to-last element in list: Figs\n",
      "Third-to-last element in list: Apricots\n"
     ]
    }
   ],
   "source": [
    "print(f'Last element in list: {mylist[-1]}')\n",
    "print(f'Second-to-last element in list: {mylist[-2]}')\n",
    "print(f'Third-to-last element in list: {mylist[-3]}')"
   ]
  },
  {
   "cell_type": "markdown",
   "metadata": {},
   "source": [
    "# Python | get last element in list using Python List pop() method | example #2\n",
    "\n",
    "The **Python List** _pop()_ method returns the element corresponding to a given index, and in the meantime it removes the element from the list. \n",
    "It is worth reminding that \n",
    "in the case that **no index** is passed, the **Python List** _pop()_ method removes and returns the **last item** in the list.\n",
    "\n",
    "Let's use the same list of fruits we used above. Here is how you could get last element of list in Python by using the **Python List** _pop()_ method.\n",
    "Note that index=-1 is the default argument (if no index is passed), and it refers to the last element in list, while index=-2 corresponds to the second-to-last element in list, etc."
   ]
  },
  {
   "cell_type": "code",
   "execution_count": 3,
   "metadata": {},
   "outputs": [
    {
     "data": {
      "text/plain": [
       "'Orange'"
      ]
     },
     "execution_count": 3,
     "metadata": {},
     "output_type": "execute_result"
    }
   ],
   "source": [
    "mylist.pop()"
   ]
  },
  {
   "cell_type": "markdown",
   "metadata": {},
   "source": [
    "We can see that the **Python List** _pop()_ method correctly returns the last element in list. Now, let's see what elements exist in our list:"
   ]
  },
  {
   "cell_type": "code",
   "execution_count": 4,
   "metadata": {},
   "outputs": [
    {
     "name": "stdout",
     "output_type": "stream",
     "text": [
      "List of fruits after using the Python List pop() method:\n",
      "['apple', 'banana', 'watermelon', 'cherry', 'Apricots', 'Figs']\n"
     ]
    }
   ],
   "source": [
    "print('List of fruits after using the Python List pop() method:')\n",
    "print(mylist)"
   ]
  },
  {
   "cell_type": "markdown",
   "metadata": {},
   "source": [
    "We can see that 'Orange' has been removed from the list. Now, if we repeat using the **Python List** _pop()_ method:"
   ]
  },
  {
   "cell_type": "code",
   "execution_count": 5,
   "metadata": {},
   "outputs": [
    {
     "data": {
      "text/plain": [
       "'Figs'"
      ]
     },
     "execution_count": 5,
     "metadata": {},
     "output_type": "execute_result"
    }
   ],
   "source": [
    "mylist.pop()"
   ]
  },
  {
   "cell_type": "code",
   "execution_count": 6,
   "metadata": {},
   "outputs": [
    {
     "name": "stdout",
     "output_type": "stream",
     "text": [
      "List of fruits after using the Python List pop() method for the second time:\n",
      "['apple', 'banana', 'watermelon', 'cherry', 'Apricots']\n"
     ]
    }
   ],
   "source": [
    "print('List of fruits after using the Python List pop() method for the second time:')\n",
    "print(mylist)"
   ]
  },
  {
   "cell_type": "markdown",
   "metadata": {},
   "source": [
    "We can see that 'Figs' has been removed from the list. So, whenever you use the **Python List** _pop()_ method, the length of your list decreases by one unit, until it does not have any other element.\n",
    "\n",
    "Last but not least, let's use the **Python List** _pop()_ method with an argument, say 3:"
   ]
  },
  {
   "cell_type": "code",
   "execution_count": 7,
   "metadata": {},
   "outputs": [
    {
     "data": {
      "text/plain": [
       "'cherry'"
      ]
     },
     "execution_count": 7,
     "metadata": {},
     "output_type": "execute_result"
    }
   ],
   "source": [
    "mylist.pop(3)"
   ]
  },
  {
   "cell_type": "code",
   "execution_count": 8,
   "metadata": {},
   "outputs": [
    {
     "name": "stdout",
     "output_type": "stream",
     "text": [
      "List of fruits after using the Python List pop(3) method:\n",
      "['apple', 'banana', 'watermelon', 'Apricots']\n"
     ]
    }
   ],
   "source": [
    "print('List of fruits after using the Python List pop(3) method:')\n",
    "print(mylist)"
   ]
  },
  {
   "cell_type": "markdown",
   "metadata": {},
   "source": [
    "You can see that the element with index of 3 was returned when using the **Python List** _pop()_ method, and in the meantime, the corresponding element, 'cherry', is dropped from the list."
   ]
  },
  {
   "cell_type": "markdown",
   "metadata": {},
   "source": [
    "# Summary\n",
    "\n",
    "In this tutorial, we discussed common methods to get the last element of list in Python.\n",
    "We showed how to get last element in list using index bracket, _i.e._ [-1]. \n",
    "We also discussed how the **Python List** _pop()_ method can be used to get last element of list in Python.\n",
    "\n",
    "Hopefully, this tutorial was able to help you with the Python basics. \n",
    "Feel free to check out the rest of our articles from [https://soardeepsci.com/blog/](https://soardeepsci.com/blog/)."
   ]
  }
 ],
 "metadata": {
  "kernelspec": {
   "display_name": "Python 3",
   "language": "python",
   "name": "python3"
  },
  "language_info": {
   "codemirror_mode": {
    "name": "ipython",
    "version": 3
   },
   "file_extension": ".py",
   "mimetype": "text/x-python",
   "name": "python",
   "nbconvert_exporter": "python",
   "pygments_lexer": "ipython3",
   "version": "3.8.5"
  }
 },
 "nbformat": 4,
 "nbformat_minor": 4
}
