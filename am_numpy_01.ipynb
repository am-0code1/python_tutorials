{
 "cells": [
  {
   "cell_type": "code",
   "execution_count": 1,
   "metadata": {},
   "outputs": [],
   "source": [
    "import numpy as np"
   ]
  },
  {
   "cell_type": "code",
   "execution_count": 4,
   "metadata": {},
   "outputs": [
    {
     "data": {
      "text/plain": [
       "1"
      ]
     },
     "execution_count": 4,
     "metadata": {},
     "output_type": "execute_result"
    }
   ],
   "source": [
    "5%4"
   ]
  },
  {
   "cell_type": "markdown",
   "metadata": {},
   "source": [
    "# Numpy arrays\n",
    "Creation and initialization of numpy array\n",
    "\n",
    "https://numpy.org/doc/stable/reference/routines.array-creation.html\n",
    "\n",
    "https://numpy.org/doc/stable/reference/generated/numpy.reshape.html"
   ]
  },
  {
   "cell_type": "code",
   "execution_count": 2,
   "metadata": {},
   "outputs": [],
   "source": [
    "a=np.arange(1,13).reshape((3,4))"
   ]
  },
  {
   "cell_type": "code",
   "execution_count": 3,
   "metadata": {},
   "outputs": [
    {
     "name": "stdout",
     "output_type": "stream",
     "text": [
      "[[ 1  2  3  4]\n",
      " [ 5  6  7  8]\n",
      " [ 9 10 11 12]]\n"
     ]
    }
   ],
   "source": [
    "print(a)"
   ]
  },
  {
   "cell_type": "code",
   "execution_count": 4,
   "metadata": {},
   "outputs": [
    {
     "data": {
      "text/plain": [
       "8"
      ]
     },
     "execution_count": 4,
     "metadata": {},
     "output_type": "execute_result"
    }
   ],
   "source": [
    "a[1,3]"
   ]
  },
  {
   "cell_type": "code",
   "execution_count": 5,
   "metadata": {},
   "outputs": [
    {
     "data": {
      "text/plain": [
       "12"
      ]
     },
     "execution_count": 5,
     "metadata": {},
     "output_type": "execute_result"
    }
   ],
   "source": [
    "np.size(a)"
   ]
  },
  {
   "cell_type": "code",
   "execution_count": 6,
   "metadata": {},
   "outputs": [
    {
     "data": {
      "text/plain": [
       "array([[ 1],\n",
       "       [ 2],\n",
       "       [ 3],\n",
       "       [ 4],\n",
       "       [ 5],\n",
       "       [ 6],\n",
       "       [ 7],\n",
       "       [ 8],\n",
       "       [ 9],\n",
       "       [10],\n",
       "       [11],\n",
       "       [12]])"
      ]
     },
     "execution_count": 6,
     "metadata": {},
     "output_type": "execute_result"
    }
   ],
   "source": [
    "b=np.reshape(a,(np.size(a),1))\n",
    "b"
   ]
  },
  {
   "cell_type": "code",
   "execution_count": 7,
   "metadata": {},
   "outputs": [
    {
     "data": {
      "text/plain": [
       "(12, 1)"
      ]
     },
     "execution_count": 7,
     "metadata": {},
     "output_type": "execute_result"
    }
   ],
   "source": [
    "b.shape"
   ]
  },
  {
   "cell_type": "code",
   "execution_count": 8,
   "metadata": {},
   "outputs": [
    {
     "data": {
      "text/plain": [
       "12"
      ]
     },
     "execution_count": 8,
     "metadata": {},
     "output_type": "execute_result"
    }
   ],
   "source": [
    "b.size"
   ]
  },
  {
   "cell_type": "code",
   "execution_count": 9,
   "metadata": {
    "scrolled": true
   },
   "outputs": [
    {
     "data": {
      "text/plain": [
       "array([ 1,  2,  3,  4,  5,  6,  7,  8,  9, 10, 11, 12])"
      ]
     },
     "execution_count": 9,
     "metadata": {},
     "output_type": "execute_result"
    }
   ],
   "source": [
    "c=a.flatten()\n",
    "c"
   ]
  },
  {
   "cell_type": "code",
   "execution_count": 10,
   "metadata": {
    "scrolled": true
   },
   "outputs": [
    {
     "data": {
      "text/plain": [
       "array([ 4,  8, 12])"
      ]
     },
     "execution_count": 10,
     "metadata": {},
     "output_type": "execute_result"
    }
   ],
   "source": [
    "a[:,-1]"
   ]
  },
  {
   "cell_type": "code",
   "execution_count": 11,
   "metadata": {},
   "outputs": [
    {
     "data": {
      "text/plain": [
       "array([5., 6., 7., 8.])"
      ]
     },
     "execution_count": 11,
     "metadata": {},
     "output_type": "execute_result"
    }
   ],
   "source": [
    "sum(a)/a.shape[0]"
   ]
  },
  {
   "cell_type": "code",
   "execution_count": 12,
   "metadata": {},
   "outputs": [
    {
     "data": {
      "text/plain": [
       "array([[ 1,  2,  3,  4],\n",
       "       [ 5,  6,  7,  8],\n",
       "       [ 9, 10, 11, 12]])"
      ]
     },
     "execution_count": 12,
     "metadata": {},
     "output_type": "execute_result"
    }
   ],
   "source": [
    "a"
   ]
  },
  {
   "cell_type": "markdown",
   "metadata": {},
   "source": [
    "To choose the first two rows of the array: `a[0:2,:]`, or `a[0:2]` or simply `a[:2]`."
   ]
  },
  {
   "cell_type": "code",
   "execution_count": 13,
   "metadata": {},
   "outputs": [
    {
     "data": {
      "text/plain": [
       "array([[1, 2, 3, 4],\n",
       "       [5, 6, 7, 8]])"
      ]
     },
     "execution_count": 13,
     "metadata": {},
     "output_type": "execute_result"
    }
   ],
   "source": [
    "a[:2]"
   ]
  },
  {
   "cell_type": "code",
   "execution_count": 14,
   "metadata": {},
   "outputs": [
    {
     "data": {
      "text/plain": [
       "array([[1, 2, 3, 4],\n",
       "       [5, 6, 7, 8]])"
      ]
     },
     "execution_count": 14,
     "metadata": {},
     "output_type": "execute_result"
    }
   ],
   "source": [
    "a[0:2,:]"
   ]
  },
  {
   "cell_type": "markdown",
   "metadata": {},
   "source": [
    "To choose the first two columns of the array: `a[:,0:2]`."
   ]
  },
  {
   "cell_type": "code",
   "execution_count": 15,
   "metadata": {},
   "outputs": [
    {
     "data": {
      "text/plain": [
       "array([[ 1,  2],\n",
       "       [ 5,  6],\n",
       "       [ 9, 10]])"
      ]
     },
     "execution_count": 15,
     "metadata": {},
     "output_type": "execute_result"
    }
   ],
   "source": [
    "a[:,0:2]"
   ]
  },
  {
   "cell_type": "markdown",
   "metadata": {},
   "source": [
    "To calculate the transpose of the array:"
   ]
  },
  {
   "cell_type": "code",
   "execution_count": 16,
   "metadata": {},
   "outputs": [
    {
     "data": {
      "text/plain": [
       "array([[ 1,  5,  9],\n",
       "       [ 2,  6, 10],\n",
       "       [ 3,  7, 11],\n",
       "       [ 4,  8, 12]])"
      ]
     },
     "execution_count": 16,
     "metadata": {},
     "output_type": "execute_result"
    }
   ],
   "source": [
    "a.transpose()"
   ]
  },
  {
   "cell_type": "code",
   "execution_count": 17,
   "metadata": {
    "scrolled": true
   },
   "outputs": [
    {
     "data": {
      "text/plain": [
       "array([[0. , 0.5, 1. , 1.5],\n",
       "       [2. , 2.5, 3. , 3.5],\n",
       "       [4. , 4.5, 5. , 5.5]])"
      ]
     },
     "execution_count": 17,
     "metadata": {},
     "output_type": "execute_result"
    }
   ],
   "source": [
    "(a-1)/2"
   ]
  },
  {
   "cell_type": "markdown",
   "metadata": {},
   "source": [
    "# Shuffling the array\n",
    "https://numpy.org/doc/stable/reference/random/generated/numpy.random.shuffle.html"
   ]
  },
  {
   "cell_type": "code",
   "execution_count": 42,
   "metadata": {},
   "outputs": [],
   "source": [
    "a = np.arange(1,81).reshape((8,10))"
   ]
  },
  {
   "cell_type": "code",
   "execution_count": 27,
   "metadata": {
    "collapsed": true
   },
   "outputs": [
    {
     "data": {
      "text/plain": [
       "array([[ 1,  2,  3,  4,  5,  6,  7,  8,  9, 10],\n",
       "       [11, 12, 13, 14, 15, 16, 17, 18, 19, 20],\n",
       "       [21, 22, 23, 24, 25, 26, 27, 28, 29, 30],\n",
       "       [31, 32, 33, 34, 35, 36, 37, 38, 39, 40],\n",
       "       [41, 42, 43, 44, 45, 46, 47, 48, 49, 50],\n",
       "       [51, 52, 53, 54, 55, 56, 57, 58, 59, 60],\n",
       "       [61, 62, 63, 64, 65, 66, 67, 68, 69, 70],\n",
       "       [71, 72, 73, 74, 75, 76, 77, 78, 79, 80]])"
      ]
     },
     "execution_count": 27,
     "metadata": {},
     "output_type": "execute_result"
    }
   ],
   "source": [
    "a"
   ]
  },
  {
   "cell_type": "code",
   "execution_count": 28,
   "metadata": {
    "collapsed": true
   },
   "outputs": [
    {
     "name": "stdout",
     "output_type": "stream",
     "text": [
      "[[ 1  2  3  4  5  6  7  8  9 10]\n",
      " [11 12 13 14 15 16 17 18 19 20]\n",
      " [21 22 23 24 25 26 27 28 29 30]\n",
      " [31 32 33 34 35 36 37 38 39 40]\n",
      " [41 42 43 44 45 46 47 48 49 50]\n",
      " [51 52 53 54 55 56 57 58 59 60]\n",
      " [61 62 63 64 65 66 67 68 69 70]\n",
      " [71 72 73 74 75 76 77 78 79 80]]\n"
     ]
    }
   ],
   "source": [
    "a_shuffle=a.copy()\n",
    "print(a_shuffle)"
   ]
  },
  {
   "cell_type": "code",
   "execution_count": 36,
   "metadata": {
    "scrolled": true
   },
   "outputs": [
    {
     "name": "stdout",
     "output_type": "stream",
     "text": [
      "[[61 62 63 64 65 66 67 68 69 70]\n",
      " [21 22 23 24 25 26 27 28 29 30]\n",
      " [51 52 53 54 55 56 57 58 59 60]\n",
      " [ 1  2  3  4  5  6  7  8  9 10]\n",
      " [11 12 13 14 15 16 17 18 19 20]\n",
      " [41 42 43 44 45 46 47 48 49 50]\n",
      " [31 32 33 34 35 36 37 38 39 40]\n",
      " [71 72 73 74 75 76 77 78 79 80]]\n"
     ]
    }
   ],
   "source": [
    "rng = np.random.default_rng()\n",
    "rng.shuffle(a_shuffle)\n",
    "print(a_shuffle)"
   ]
  },
  {
   "cell_type": "markdown",
   "metadata": {},
   "source": [
    "After shuffling the `a_shuffle`, the original array of `a` remains unchanged."
   ]
  },
  {
   "cell_type": "code",
   "execution_count": 41,
   "metadata": {
    "scrolled": false
   },
   "outputs": [
    {
     "data": {
      "text/plain": [
       "array([[ 1,  2,  3,  4,  5,  6,  7,  8,  9, 10],\n",
       "       [11, 12, 13, 14, 15, 16, 17, 18, 19, 20],\n",
       "       [21, 22, 23, 24, 25, 26, 27, 28, 29, 30],\n",
       "       [31, 32, 33, 34, 35, 36, 37, 38, 39, 40],\n",
       "       [41, 42, 43, 44, 45, 46, 47, 48, 49, 50],\n",
       "       [51, 52, 53, 54, 55, 56, 57, 58, 59, 60],\n",
       "       [61, 62, 63, 64, 65, 66, 67, 68, 69, 70],\n",
       "       [71, 72, 73, 74, 75, 76, 77, 78, 79, 80]])"
      ]
     },
     "execution_count": 41,
     "metadata": {},
     "output_type": "execute_result"
    }
   ],
   "source": [
    "a"
   ]
  },
  {
   "cell_type": "markdown",
   "metadata": {},
   "source": [
    "# Concatenation of arrays & Shuffling dataset"
   ]
  },
  {
   "cell_type": "markdown",
   "metadata": {},
   "source": [
    "A dataset consists of an array of features and an array of labels `[X, Y]`. \n",
    "In order to shuffle the dataset, one first needs to concatenate both arrays in such a way that all fatures and label of each example are in the same direction. \n",
    "Otherwise, labels and features are decoupled and shuffling them independently can result in wrong labels to be assigned to each example.\n",
    "To concatenate the arrays:"
   ]
  },
  {
   "cell_type": "code",
   "execution_count": 14,
   "metadata": {},
   "outputs": [],
   "source": [
    "import numpy as np"
   ]
  },
  {
   "cell_type": "code",
   "execution_count": 23,
   "metadata": {},
   "outputs": [
    {
     "name": "stdout",
     "output_type": "stream",
     "text": [
      "a.shape: (8, 10)\n",
      "b.shape: (8, 1)\n"
     ]
    }
   ],
   "source": [
    "a = np.arange(1,81).reshape((8,10))\n",
    "b = np.arange(1,9).reshape((8,1))\n",
    "print(f'a.shape: {a.shape}')\n",
    "print(f'b.shape: {b.shape}')\n",
    "#print(f'a:\\n{a}')\n",
    "#print(f'b:\\n{b}')"
   ]
  },
  {
   "cell_type": "code",
   "execution_count": 20,
   "metadata": {},
   "outputs": [
    {
     "data": {
      "text/plain": [
       "array([[ 1,  2,  3,  4,  5,  6,  7,  8,  9, 10,  1],\n",
       "       [11, 12, 13, 14, 15, 16, 17, 18, 19, 20,  2],\n",
       "       [21, 22, 23, 24, 25, 26, 27, 28, 29, 30,  3],\n",
       "       [31, 32, 33, 34, 35, 36, 37, 38, 39, 40,  4],\n",
       "       [41, 42, 43, 44, 45, 46, 47, 48, 49, 50,  5],\n",
       "       [51, 52, 53, 54, 55, 56, 57, 58, 59, 60,  6],\n",
       "       [61, 62, 63, 64, 65, 66, 67, 68, 69, 70,  7],\n",
       "       [71, 72, 73, 74, 75, 76, 77, 78, 79, 80,  8]])"
      ]
     },
     "execution_count": 20,
     "metadata": {},
     "output_type": "execute_result"
    }
   ],
   "source": [
    "c=np.concatenate((a, b), axis=1)\n",
    "c"
   ]
  },
  {
   "cell_type": "markdown",
   "metadata": {},
   "source": [
    "Now, if we shuffle the `[X, Y]` dataset, even for many times, each example will stick to its own label:"
   ]
  },
  {
   "cell_type": "code",
   "execution_count": 61,
   "metadata": {
    "collapsed": true
   },
   "outputs": [
    {
     "data": {
      "text/plain": [
       "array([[51, 52, 53, 54, 55, 56, 57, 58, 59, 60,  6],\n",
       "       [41, 42, 43, 44, 45, 46, 47, 48, 49, 50,  5],\n",
       "       [11, 12, 13, 14, 15, 16, 17, 18, 19, 20,  2],\n",
       "       [31, 32, 33, 34, 35, 36, 37, 38, 39, 40,  4],\n",
       "       [21, 22, 23, 24, 25, 26, 27, 28, 29, 30,  3],\n",
       "       [71, 72, 73, 74, 75, 76, 77, 78, 79, 80,  8],\n",
       "       [61, 62, 63, 64, 65, 66, 67, 68, 69, 70,  7],\n",
       "       [ 1,  2,  3,  4,  5,  6,  7,  8,  9, 10,  1]])"
      ]
     },
     "execution_count": 61,
     "metadata": {},
     "output_type": "execute_result"
    }
   ],
   "source": [
    "rng = np.random.default_rng()\n",
    "c_shuffle=c.copy()\n",
    "for i in range(10):\n",
    "    rng.shuffle(c_shuffle)\n",
    "c_shuffle"
   ]
  },
  {
   "cell_type": "markdown",
   "metadata": {},
   "source": [
    "Only now that we are done with shuffling the dataset, we can separate the labels from the dataset. "
   ]
  },
  {
   "cell_type": "code",
   "execution_count": 69,
   "metadata": {},
   "outputs": [
    {
     "name": "stdout",
     "output_type": "stream",
     "text": [
      "x_train:\n",
      "[[51 52 53 54 55 56 57 58 59 60]\n",
      " [41 42 43 44 45 46 47 48 49 50]\n",
      " [11 12 13 14 15 16 17 18 19 20]\n",
      " [31 32 33 34 35 36 37 38 39 40]\n",
      " [21 22 23 24 25 26 27 28 29 30]\n",
      " [71 72 73 74 75 76 77 78 79 80]\n",
      " [61 62 63 64 65 66 67 68 69 70]\n",
      " [ 1  2  3  4  5  6  7  8  9 10]]\n",
      "\n",
      "y_train:\n",
      "[6 5 2 4 3 8 7 1]\n"
     ]
    }
   ],
   "source": [
    "x_train = c_shuffle[:,:-1]\n",
    "y_train = c_shuffle[:,-1]\n",
    "print(f'x_train:\\n{x_train}')\n",
    "print(f'\\ny_train:\\n{y_train}')"
   ]
  },
  {
   "cell_type": "code",
   "execution_count": 74,
   "metadata": {},
   "outputs": [
    {
     "data": {
      "text/plain": [
       "((8, 10), (8,))"
      ]
     },
     "execution_count": 74,
     "metadata": {},
     "output_type": "execute_result"
    }
   ],
   "source": [
    "x_train.shape, y_train.shape"
   ]
  },
  {
   "cell_type": "markdown",
   "metadata": {},
   "source": [
    "# Concatenation and shuffling two adjoint 3D arrays"
   ]
  },
  {
   "cell_type": "code",
   "execution_count": 13,
   "metadata": {
    "collapsed": true
   },
   "outputs": [
    {
     "name": "stdout",
     "output_type": "stream",
     "text": [
      "a:\n",
      "[[[ 0  1]\n",
      "  [ 2  3]]\n",
      "\n",
      " [[ 4  5]\n",
      "  [ 6  7]]\n",
      "\n",
      " [[ 8  9]\n",
      "  [10 11]]\n",
      "\n",
      " [[12 13]\n",
      "  [14 15]]]\n",
      "ab:\n",
      "[0 1 2 3]\n",
      "-----------------\n",
      "-----------------\n",
      "c:\n",
      "[[[16 17]\n",
      "  [18 19]]\n",
      "\n",
      " [[20 21]\n",
      "  [22 23]]\n",
      "\n",
      " [[24 25]\n",
      "  [26 27]]\n",
      "\n",
      " [[28 29]\n",
      "  [30 31]]]\n",
      "-----------------\n",
      "d:\n",
      "[[[ 0  1 16 17]\n",
      "  [ 2  3 18 19]]\n",
      "\n",
      " [[ 4  5 20 21]\n",
      "  [ 6  7 22 23]]\n",
      "\n",
      " [[ 8  9 24 25]\n",
      "  [10 11 26 27]]\n",
      "\n",
      " [[12 13 28 29]\n",
      "  [14 15 30 31]]]\n",
      "-----------------\n",
      "d_shuffle:\n",
      "[[[12 13 28 29]\n",
      "  [14 15 30 31]]\n",
      "\n",
      " [[ 4  5 20 21]\n",
      "  [ 6  7 22 23]]\n",
      "\n",
      " [[ 0  1 16 17]\n",
      "  [ 2  3 18 19]]\n",
      "\n",
      " [[ 8  9 24 25]\n",
      "  [10 11 26 27]]]\n",
      "(4, 2, 4)\n",
      "-----------------\n",
      "a_s:\n",
      "[[[12 13]\n",
      "  [14 15]]\n",
      "\n",
      " [[ 4  5]\n",
      "  [ 6  7]]\n",
      "\n",
      " [[ 0  1]\n",
      "  [ 2  3]]\n",
      "\n",
      " [[ 8  9]\n",
      "  [10 11]]]\n",
      "-----------------\n",
      "c_s:\n",
      "[[[28 29]\n",
      "  [30 31]]\n",
      "\n",
      " [[20 21]\n",
      "  [22 23]]\n",
      "\n",
      " [[16 17]\n",
      "  [18 19]]\n",
      "\n",
      " [[24 25]\n",
      "  [26 27]]]\n",
      "-----------------\n",
      "another way of shuffling using flattened vectors for each row:\n",
      "flatten concatenation:\n",
      "[[ 0  1  2  3 16 17 18 19]\n",
      " [ 4  5  6  7 20 21 22 23]\n",
      " [ 8  9 10 11 24 25 26 27]\n",
      " [12 13 14 15 28 29 30 31]]\n",
      "shuffled flatten concatenation:\n",
      "[[ 8  9 10 11 24 25 26 27]\n",
      " [ 0  1  2  3 16 17 18 19]\n",
      " [ 4  5  6  7 20 21 22 23]\n",
      " [12 13 14 15 28 29 30 31]]\n",
      "shuffled reshaped a:\n",
      "[[[ 8  9]\n",
      "  [10 11]]\n",
      "\n",
      " [[ 0  1]\n",
      "  [ 2  3]]\n",
      "\n",
      " [[ 4  5]\n",
      "  [ 6  7]]\n",
      "\n",
      " [[12 13]\n",
      "  [14 15]]]\n",
      "shuffled reshaped c:\n",
      "[[[24 25]\n",
      "  [26 27]]\n",
      "\n",
      " [[16 17]\n",
      "  [18 19]]\n",
      "\n",
      " [[20 21]\n",
      "  [22 23]]\n",
      "\n",
      " [[28 29]\n",
      "  [30 31]]]\n"
     ]
    }
   ],
   "source": [
    "a=np.arange(16).reshape((4,2,2))\n",
    "ab=np.arange(4).reshape(4)\n",
    "print(f'a:\\n{a}')\n",
    "print(f'ab:\\n{ab}')\n",
    "#print(a.shape)\n",
    "#print(a.size)\n",
    "print('-----------------')\n",
    "b=a.reshape((a.size,))\n",
    "#print(b)\n",
    "#print(b[:5])\n",
    "#print(b[5:])\n",
    "#print(b.reshape(a.shape))\n",
    "print('-----------------')\n",
    "#c=np.zeros(a.shape)\n",
    "c=np.arange(16,32).reshape(a.shape)\n",
    "print(f'c:\\n{c}')\n",
    "print('-----------------')\n",
    "d=np.concatenate((a, c), axis=2)\n",
    "print(f'd:\\n{d}')\n",
    "d_shuffle=d.copy()\n",
    "print('-----------------')\n",
    "for i in range(10):\n",
    "    np.random.shuffle(d_shuffle)\n",
    "print(f'd_shuffle:\\n{d_shuffle}')\n",
    "print(d_shuffle.shape)\n",
    "print('-----------------')\n",
    "a_s = d_shuffle[:,:,:a.shape[2]]\n",
    "c_s = d_shuffle[:,:,c.shape[2]:]\n",
    "print(f'a_s:\\n{a_s}')\n",
    "print('-----------------')\n",
    "print(f'c_s:\\n{c_s}')\n",
    "print('-----------------')\n",
    "print('another way of shuffling using flattened vectors for each row:')\n",
    "d=np.concatenate((a.reshape((len(a), a.shape[1]*a.shape[2])), c.reshape((len(c), c.shape[1]*c.shape[2]))), axis=1)\n",
    "print(f'flatten concatenation:\\n{d}')\n",
    "for i in range(10):\n",
    "    np.random.shuffle(d)\n",
    "print(f'shuffled flatten concatenation:\\n{d}')\n",
    "a_s = d[:,:a.shape[1]*a.shape[2]].reshape(a.shape)\n",
    "c_s = d[:,a.shape[1]*a.shape[2]:].reshape(c.shape)\n",
    "print(f'shuffled reshaped a:\\n{a_s}')\n",
    "print(f'shuffled reshaped c:\\n{c_s}')"
   ]
  },
  {
   "cell_type": "markdown",
   "metadata": {},
   "source": [
    "# Difference between a vector and a matrix of nx1 shape\n",
    "https://stackoverflow.com/questions/39549331/reshape-numpy-n-vector-to-n-1-vector & https://stackoverflow.com/questions/22998318/from-n-to-n-1-numpy-arrays-and-viceversa"
   ]
  },
  {
   "cell_type": "code",
   "execution_count": 3,
   "metadata": {},
   "outputs": [],
   "source": [
    "import numpy as np"
   ]
  },
  {
   "cell_type": "markdown",
   "metadata": {},
   "source": [
    "In the following, `a` is a vector:"
   ]
  },
  {
   "cell_type": "code",
   "execution_count": 9,
   "metadata": {},
   "outputs": [
    {
     "name": "stdout",
     "output_type": "stream",
     "text": [
      "[1. 1. 1. 1. 1.]\n",
      "(5,)\n"
     ]
    }
   ],
   "source": [
    "a=np.ones(5)\n",
    "print(a)\n",
    "print(a.shape)"
   ]
  },
  {
   "cell_type": "markdown",
   "metadata": {},
   "source": [
    "and `b` is a 2d array:"
   ]
  },
  {
   "cell_type": "code",
   "execution_count": 11,
   "metadata": {},
   "outputs": [
    {
     "name": "stdout",
     "output_type": "stream",
     "text": [
      "[[1.]\n",
      " [1.]\n",
      " [1.]\n",
      " [1.]\n",
      " [1.]]\n",
      "(5, 1)\n"
     ]
    }
   ],
   "source": [
    "b=np.ones((5,1))\n",
    "print(b)\n",
    "print(b.shape)"
   ]
  },
  {
   "cell_type": "markdown",
   "metadata": {},
   "source": [
    "Now, let's say we want to compare `a` and `b`. We cannot just use `a==b`, since it returns a 5x5 matrix:"
   ]
  },
  {
   "cell_type": "code",
   "execution_count": 12,
   "metadata": {},
   "outputs": [
    {
     "data": {
      "text/plain": [
       "array([[ True,  True,  True,  True,  True],\n",
       "       [ True,  True,  True,  True,  True],\n",
       "       [ True,  True,  True,  True,  True],\n",
       "       [ True,  True,  True,  True,  True],\n",
       "       [ True,  True,  True,  True,  True]])"
      ]
     },
     "execution_count": 12,
     "metadata": {},
     "output_type": "execute_result"
    }
   ],
   "source": [
    "a==b"
   ]
  },
  {
   "cell_type": "markdown",
   "metadata": {},
   "source": [
    "Instead, we need to first convert the 2d array of `b` to a vector format, and then compare it with `a`:"
   ]
  },
  {
   "cell_type": "code",
   "execution_count": 16,
   "metadata": {},
   "outputs": [
    {
     "name": "stdout",
     "output_type": "stream",
     "text": [
      "[1. 1. 1. 1. 1.]\n"
     ]
    }
   ],
   "source": [
    "b_vec = b.reshape(len(b),)\n",
    "print(b_vec)"
   ]
  },
  {
   "cell_type": "code",
   "execution_count": 18,
   "metadata": {},
   "outputs": [
    {
     "data": {
      "text/plain": [
       "array([ True,  True,  True,  True,  True])"
      ]
     },
     "execution_count": 18,
     "metadata": {},
     "output_type": "execute_result"
    }
   ],
   "source": [
    "a==b_vec"
   ]
  },
  {
   "cell_type": "markdown",
   "metadata": {},
   "source": [
    "# Normalizing a 2d array\n",
    "Let's say we have a 2d array like `a` and we want to normalize each column to have a zero mean and a unit standard deviation."
   ]
  },
  {
   "cell_type": "code",
   "execution_count": 1,
   "metadata": {},
   "outputs": [],
   "source": [
    "import numpy as np"
   ]
  },
  {
   "cell_type": "code",
   "execution_count": 4,
   "metadata": {},
   "outputs": [
    {
     "data": {
      "text/plain": [
       "array([[ 0,  1,  2,  3,  4],\n",
       "       [ 5,  6,  7,  8,  9],\n",
       "       [10, 11, 12, 13, 14],\n",
       "       [15, 16, 17, 18, 19],\n",
       "       [20, 21, 22, 23, 24],\n",
       "       [25, 26, 27, 28, 29],\n",
       "       [30, 31, 32, 33, 34],\n",
       "       [35, 36, 37, 38, 39],\n",
       "       [40, 41, 42, 43, 44],\n",
       "       [45, 46, 47, 48, 49]])"
      ]
     },
     "execution_count": 4,
     "metadata": {},
     "output_type": "execute_result"
    }
   ],
   "source": [
    "a = np.arange(50).reshape(10,5)\n",
    "a"
   ]
  },
  {
   "cell_type": "code",
   "execution_count": 14,
   "metadata": {},
   "outputs": [
    {
     "name": "stdout",
     "output_type": "stream",
     "text": [
      "(5,)\n",
      "[22.5 23.5 24.5 25.5 26.5]\n",
      "(10,)\n",
      "[ 2.  7. 12. 17. 22. 27. 32. 37. 42. 47.]\n"
     ]
    }
   ],
   "source": [
    "mu0 = a.mean(0)\n",
    "mu1 = a.mean(1)\n",
    "print(mu0.shape)\n",
    "print(mu0)\n",
    "print(mu1.shape)\n",
    "print(mu1)"
   ]
  },
  {
   "cell_type": "code",
   "execution_count": 15,
   "metadata": {},
   "outputs": [
    {
     "name": "stdout",
     "output_type": "stream",
     "text": [
      "(5,)\n",
      "[14.36140662 14.36140662 14.36140662 14.36140662 14.36140662]\n",
      "(10,)\n",
      "[1.41421356 1.41421356 1.41421356 1.41421356 1.41421356 1.41421356\n",
      " 1.41421356 1.41421356 1.41421356 1.41421356]\n"
     ]
    }
   ],
   "source": [
    "sigma0 = a.std(0)\n",
    "sigma1 = a.std(1)\n",
    "print(sigma0.shape)\n",
    "print(sigma0)\n",
    "print(sigma1.shape)\n",
    "print(sigma1)"
   ]
  },
  {
   "cell_type": "code",
   "execution_count": 17,
   "metadata": {},
   "outputs": [
    {
     "name": "stdout",
     "output_type": "stream",
     "text": [
      "[[-1.5666989  -1.5666989  -1.5666989  -1.5666989  -1.5666989 ]\n",
      " [-1.21854359 -1.21854359 -1.21854359 -1.21854359 -1.21854359]\n",
      " [-0.87038828 -0.87038828 -0.87038828 -0.87038828 -0.87038828]\n",
      " [-0.52223297 -0.52223297 -0.52223297 -0.52223297 -0.52223297]\n",
      " [-0.17407766 -0.17407766 -0.17407766 -0.17407766 -0.17407766]\n",
      " [ 0.17407766  0.17407766  0.17407766  0.17407766  0.17407766]\n",
      " [ 0.52223297  0.52223297  0.52223297  0.52223297  0.52223297]\n",
      " [ 0.87038828  0.87038828  0.87038828  0.87038828  0.87038828]\n",
      " [ 1.21854359  1.21854359  1.21854359  1.21854359  1.21854359]\n",
      " [ 1.5666989   1.5666989   1.5666989   1.5666989   1.5666989 ]]\n"
     ]
    }
   ],
   "source": [
    "b = (a-mu0)/sigma0\n",
    "print(b)"
   ]
  },
  {
   "cell_type": "markdown",
   "metadata": {},
   "source": [
    "# 3D array"
   ]
  },
  {
   "cell_type": "code",
   "execution_count": 1,
   "metadata": {},
   "outputs": [],
   "source": [
    "import numpy as np"
   ]
  },
  {
   "cell_type": "code",
   "execution_count": 6,
   "metadata": {},
   "outputs": [
    {
     "data": {
      "text/plain": [
       "array([[[ 0,  1,  2],\n",
       "        [ 3,  4,  5],\n",
       "        [ 6,  7,  8]],\n",
       "\n",
       "       [[ 9, 10, 11],\n",
       "        [12, 13, 14],\n",
       "        [15, 16, 17]],\n",
       "\n",
       "       [[18, 19, 20],\n",
       "        [21, 22, 23],\n",
       "        [24, 25, 26]],\n",
       "\n",
       "       [[27, 28, 29],\n",
       "        [30, 31, 32],\n",
       "        [33, 34, 35]]])"
      ]
     },
     "execution_count": 6,
     "metadata": {},
     "output_type": "execute_result"
    }
   ],
   "source": [
    "a=np.arange(36).reshape((4,3,3))\n",
    "a"
   ]
  },
  {
   "cell_type": "code",
   "execution_count": 12,
   "metadata": {},
   "outputs": [
    {
     "data": {
      "text/plain": [
       "array([[[13, 14],\n",
       "        [16, 17]],\n",
       "\n",
       "       [[22, 23],\n",
       "        [25, 26]],\n",
       "\n",
       "       [[31, 32],\n",
       "        [34, 35]]])"
      ]
     },
     "execution_count": 12,
     "metadata": {},
     "output_type": "execute_result"
    }
   ],
   "source": [
    "a[1:,1:,1:]"
   ]
  },
  {
   "cell_type": "markdown",
   "metadata": {},
   "source": [
    "# range"
   ]
  },
  {
   "cell_type": "code",
   "execution_count": 6,
   "metadata": {},
   "outputs": [
    {
     "name": "stdout",
     "output_type": "stream",
     "text": [
      "10\n",
      "9\n",
      "8\n",
      "7\n",
      "6\n",
      "5\n"
     ]
    }
   ],
   "source": [
    "x=range(10,4,-1)\n",
    "for n in x:\n",
    "    print(n)"
   ]
  },
  {
   "cell_type": "markdown",
   "metadata": {},
   "source": [
    "# Appending to an existing array"
   ]
  },
  {
   "cell_type": "code",
   "execution_count": 7,
   "metadata": {},
   "outputs": [],
   "source": [
    "import numpy as np"
   ]
  },
  {
   "cell_type": "code",
   "execution_count": 11,
   "metadata": {},
   "outputs": [
    {
     "name": "stdout",
     "output_type": "stream",
     "text": [
      "[[0 1 2 3 4]]\n",
      "[[1 3 5 7 9]]\n"
     ]
    }
   ],
   "source": [
    "a=np.arange(5).reshape((1,5))\n",
    "b=np.arange(1,10,2).reshape((1,5))\n",
    "print(a)\n",
    "print(b)"
   ]
  },
  {
   "cell_type": "code",
   "execution_count": 18,
   "metadata": {},
   "outputs": [
    {
     "name": "stdout",
     "output_type": "stream",
     "text": [
      "(2, 5)\n",
      "[[0 1 2 3 4]\n",
      " [1 3 5 7 9]]\n"
     ]
    }
   ],
   "source": [
    "c=np.append(a,b,axis=0)\n",
    "print(c.shape)\n",
    "print(c)"
   ]
  },
  {
   "cell_type": "code",
   "execution_count": 23,
   "metadata": {
    "collapsed": true
   },
   "outputs": [
    {
     "name": "stdout",
     "output_type": "stream",
     "text": [
      "(17, 5)\n",
      "[[0 1 2 3 4]\n",
      " [1 3 5 7 9]\n",
      " [0 1 2 3 4]\n",
      " [0 1 2 3 4]\n",
      " [0 1 2 3 4]\n",
      " [0 1 2 3 4]\n",
      " [0 1 2 3 4]\n",
      " [0 1 2 3 4]\n",
      " [0 1 2 3 4]\n",
      " [0 1 2 3 4]\n",
      " [0 1 2 3 4]\n",
      " [0 1 2 3 4]\n",
      " [0 1 2 3 4]\n",
      " [0 1 2 3 4]\n",
      " [0 1 2 3 4]\n",
      " [0 1 2 3 4]\n",
      " [0 1 2 3 4]]\n"
     ]
    }
   ],
   "source": [
    "for i in range(5):\n",
    "    c=np.append(c,a,axis=0)\n",
    "print(c.shape)\n",
    "print(c)"
   ]
  },
  {
   "cell_type": "code",
   "execution_count": 37,
   "metadata": {},
   "outputs": [
    {
     "name": "stdout",
     "output_type": "stream",
     "text": [
      "(0,)\n",
      "0\n"
     ]
    }
   ],
   "source": [
    "d=np.array([])\n",
    "print(d.shape)\n",
    "print(d.size)"
   ]
  },
  {
   "cell_type": "code",
   "execution_count": 38,
   "metadata": {},
   "outputs": [
    {
     "name": "stdout",
     "output_type": "stream",
     "text": [
      "(1, 5)\n",
      "5\n",
      "[[0 1 2 3 4]]\n"
     ]
    }
   ],
   "source": [
    "if d.size==0:\n",
    "    d=np.copy(a)\n",
    "else:\n",
    "    d=np.append(d,a,axis=0)\n",
    "print(d.shape)\n",
    "print(d.size)\n",
    "print(d)"
   ]
  },
  {
   "cell_type": "code",
   "execution_count": null,
   "metadata": {},
   "outputs": [],
   "source": [
    "for i in range(5):\n",
    "    d=np.append(d,a,axis=0)\n",
    "print(c.shape)\n",
    "print(c)"
   ]
  }
 ],
 "metadata": {
  "kernelspec": {
   "display_name": "Python 3",
   "language": "python",
   "name": "python3"
  },
  "language_info": {
   "codemirror_mode": {
    "name": "ipython",
    "version": 3
   },
   "file_extension": ".py",
   "mimetype": "text/x-python",
   "name": "python",
   "nbconvert_exporter": "python",
   "pygments_lexer": "ipython3",
   "version": "3.8.5"
  }
 },
 "nbformat": 4,
 "nbformat_minor": 4
}
